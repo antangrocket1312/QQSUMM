{
 "cells": [
  {
   "cell_type": "markdown",
   "id": "1d4926b2",
   "metadata": {},
   "source": [
    "# Import"
   ]
  },
  {
   "cell_type": "code",
   "execution_count": 1,
   "id": "f46e9f90",
   "metadata": {
    "scrolled": true
   },
   "outputs": [
    {
     "name": "stderr",
     "output_type": "stream",
     "text": [
      "<frozen importlib._bootstrap>:228: RuntimeWarning: scipy._lib.messagestream.MessageStream size changed, may indicate binary incompatibility. Expected 56 from C header, got 64 from PyObject\n",
      "2025-02-22 03:20:04.489189: I tensorflow/core/util/port.cc:113] oneDNN custom operations are on. You may see slightly different numerical results due to floating-point round-off errors from different computation orders. To turn them off, set the environment variable `TF_ENABLE_ONEDNN_OPTS=0`.\n",
      "2025-02-22 03:20:04.515466: E external/local_xla/xla/stream_executor/cuda/cuda_dnn.cc:9261] Unable to register cuDNN factory: Attempting to register factory for plugin cuDNN when one has already been registered\n",
      "2025-02-22 03:20:04.515494: E external/local_xla/xla/stream_executor/cuda/cuda_fft.cc:607] Unable to register cuFFT factory: Attempting to register factory for plugin cuFFT when one has already been registered\n",
      "2025-02-22 03:20:04.516421: E external/local_xla/xla/stream_executor/cuda/cuda_blas.cc:1515] Unable to register cuBLAS factory: Attempting to register factory for plugin cuBLAS when one has already been registered\n",
      "2025-02-22 03:20:04.521392: I tensorflow/core/platform/cpu_feature_guard.cc:182] This TensorFlow binary is optimized to use available CPU instructions in performance-critical operations.\n",
      "To enable the following instructions: AVX2 AVX_VNNI FMA, in other operations, rebuild TensorFlow with the appropriate compiler flags.\n",
      "2025-02-22 03:20:05.110976: W tensorflow/compiler/tf2tensorrt/utils/py_utils.cc:38] TF-TRT Warning: Could not find TensorRT\n",
      "Some weights of the model checkpoint at roberta-large were not used when initializing RobertaModel: ['lm_head.decoder.weight', 'lm_head.dense.bias', 'lm_head.dense.weight', 'lm_head.layer_norm.bias', 'lm_head.bias', 'lm_head.layer_norm.weight']\n",
      "- This IS expected if you are initializing RobertaModel from the checkpoint of a model trained on another task or with another architecture (e.g. initializing a BertForSequenceClassification model from a BertForPreTraining model).\n",
      "- This IS NOT expected if you are initializing RobertaModel from the checkpoint of a model that you expect to be exactly identical (initializing a BertForSequenceClassification model from a BertForSequenceClassification model).\n"
     ]
    }
   ],
   "source": [
    "import os\n",
    "import sys\n",
    "module_path = os.path.join(\"./KeyPoint-Analysis/KPG/\")\n",
    "sys.path.insert(0, module_path)\n",
    "from rouge_setbase import preprocess_dataset, compute_rouge, compute_rouge_max\n",
    "from softF1 import softevaluation\n",
    "root_dir_pth = \"../\""
   ]
  },
  {
   "cell_type": "code",
   "execution_count": 2,
   "id": "7dec36d3",
   "metadata": {},
   "outputs": [],
   "source": [
    "sys.path.insert(1, '../')\n",
    "from utils.prompting import *\n",
    "from utils.postprocessing import *\n",
    "from utils.g_eval import *"
   ]
  },
  {
   "cell_type": "code",
   "execution_count": 3,
   "id": "724eced1",
   "metadata": {},
   "outputs": [],
   "source": [
    "import pandas as pd\n",
    "import re\n",
    "import ast\n",
    "import json\n",
    "import statistics\n",
    "import openai\n",
    "from multiprocessing import Pool\n",
    "openai.api_key = \"YOUR API KEY\""
   ]
  },
  {
   "cell_type": "markdown",
   "id": "6259c73c",
   "metadata": {},
   "source": [
    "# Read Predicted Summary"
   ]
  },
  {
   "cell_type": "code",
   "execution_count": 4,
   "id": "0d9468d3",
   "metadata": {},
   "outputs": [],
   "source": [
    "qqsum_output_path = \"../output/atlas-xl-seed2-lgret-lglm\""
   ]
  },
  {
   "cell_type": "code",
   "execution_count": 5,
   "id": "b79af47c",
   "metadata": {},
   "outputs": [],
   "source": [
    "ground_truth_df = pd.read_pickle(\"../data/test/test.pkl\")\n",
    "ground_truth_df = ground_truth_df.drop(columns=['reviews', 'reviewText', 'title', 'fact_check_article'])\n",
    "ground_truth_df['retrieved_relevant_sent_len'] = ground_truth_df['retrieved_relevant_sent'].str.len()\n",
    "\n",
    "predicted_df = pd.read_json(qqsum_output_path + \"/test-result.jsonl\", lines=True)\n",
    "predicted_df['passages'] = predicted_df['passages'].apply(lambda x: [pas['text'] for pas in x])\n",
    "predicted_df['passages_len'] = predicted_df['passages'].str.len()\n",
    "predicted_df = predicted_df[['query', 'generation', 'passages', 'passages_scores', 'passages_len', 'comment_clusters', 'id']]\n",
    "df = ground_truth_df.merge(predicted_df, on=['query', 'id'])"
   ]
  },
  {
   "cell_type": "code",
   "execution_count": 6,
   "id": "ab7b7850",
   "metadata": {},
   "outputs": [],
   "source": [
    "# df = df[df['passages'].str.len() > 0]\n",
    "# df['passages_scores_min_thres_ref_ground'] = df.apply(lambda row: row['passages_scores'][:len(row['retrieved_relevant_sent'])][-1], axis=1)\n",
    "# df['passages_scores_min_thres_ref_ground'].mean()"
   ]
  },
  {
   "cell_type": "code",
   "execution_count": 7,
   "id": "2ae097ed",
   "metadata": {},
   "outputs": [],
   "source": [
    "df['summary'] = df['generation'].apply(lambda x: re.findall(\"\\[\\/INST\\] *((.+\\n*)+)$\", x)[0][0].replace(\"</s>\", \"\"))\n",
    "df['summary'] = df['summary'].apply(lambda x: re.sub(\"(Therefore|Thus)(.+\\n*)+$\", \"\", x))\n",
    "df['final_summary'] = df['summary'].apply(lambda x: re.findall(\"(While[^\\n]+\\n+(\\+ *[0-9]+[^\\n]+\\n*)+)\", x))\n",
    "df['final_summary'] = df['final_summary'].apply(lambda x: [e[0] for e in x])\n",
    "df['final_summary_text'] = df['final_summary'].apply(lambda x: \"\\n\\n\".join(x[:1]))"
   ]
  },
  {
   "cell_type": "markdown",
   "id": "3f64317a",
   "metadata": {},
   "source": [
    "## Post-process summary into KPs"
   ]
  },
  {
   "cell_type": "markdown",
   "id": "dafe004d",
   "metadata": {},
   "source": [
    "### Trial"
   ]
  },
  {
   "cell_type": "code",
   "execution_count": 8,
   "id": "75a7105e",
   "metadata": {},
   "outputs": [
    {
     "name": "stdout",
     "output_type": "stream",
     "text": [
      "3609\n"
     ]
    },
    {
     "data": {
      "text/plain": [
       "'```json\\n[{\"key_point\": \"The old key components need to be taken to a locksmith or dealership to be reprogrammed and cut to fit the new key head.\", \"prevalence\": \"7\"}]\\n```'"
      ]
     },
     "execution_count": 8,
     "metadata": {},
     "output_type": "execute_result"
    }
   ],
   "source": [
    "row = df.iloc[0]\n",
    "print(row['id'])\n",
    "get_kp_from_summary(row['final_summary_text'])"
   ]
  },
  {
   "cell_type": "markdown",
   "id": "c1edae8a",
   "metadata": {},
   "source": [
    "### Run"
   ]
  },
  {
   "cell_type": "code",
   "execution_count": 9,
   "id": "5faf925e",
   "metadata": {},
   "outputs": [],
   "source": [
    "from utils.postprocessing import *"
   ]
  },
  {
   "cell_type": "code",
   "execution_count": 10,
   "id": "4ed63f16",
   "metadata": {},
   "outputs": [],
   "source": [
    "df['my_category'] = 1\n",
    "num_workers = 1"
   ]
  },
  {
   "cell_type": "code",
   "execution_count": 11,
   "id": "ad6d685f",
   "metadata": {},
   "outputs": [],
   "source": [
    "# inputs = [(qqsum_output_path + \"/post_processed_cache\",\n",
    "inputs = [(qqsum_output_path + \"/post_processed_cache/rd\",\n",
    "           domain,\n",
    "           df[df['my_category'] == domain].reset_index(drop=True)\n",
    "           )\n",
    "          for domain in df['my_category'].unique()]"
   ]
  },
  {
   "cell_type": "code",
   "execution_count": 12,
   "id": "5484deec",
   "metadata": {
    "scrolled": true
   },
   "outputs": [
    {
     "name": "stdout",
     "output_type": "stream",
     "text": [
      "1 :  Loaded saved file. Done\n",
      "TIME ELAPSED 0.2147808074951172\n"
     ]
    }
   ],
   "source": [
    "start_time = time.time()\n",
    "with Pool(num_workers) as processor:\n",
    "    data = processor.starmap(prompted_claim_split_generation, inputs)\n",
    "print(\"TIME ELAPSED\", time.time() - start_time)"
   ]
  },
  {
   "cell_type": "code",
   "execution_count": 13,
   "id": "6a1c5e20",
   "metadata": {
    "scrolled": true
   },
   "outputs": [],
   "source": [
    "processed_df = pd.concat(data)\n",
    "processed_df = processed_df[processed_df['comment_clusters'].str.len() > 0]\n",
    "processed_df = processed_df[processed_df['final_summary'].str.len() > 0]"
   ]
  },
  {
   "cell_type": "code",
   "execution_count": 14,
   "id": "9525ce3b",
   "metadata": {},
   "outputs": [],
   "source": [
    "processed_df['claim_split_predicted'] = processed_df['claim_split_predicted'].apply(lambda x: re.sub(r\"\\n+ *\", \"\", x.replace(\"json\", \"\").replace(\"`\", \"\")))\n",
    "mask = processed_df['claim_split_predicted'].apply(lambda x: len(re.findall(r\"(: *)\\'((?:[^':]*\\'+[^':,]*)+)\\'( *)\", x, re.DOTALL)) > 0)\n",
    "processed_df.loc[mask, 'claim_split_predicted'] = processed_df.loc[mask, 'claim_split_predicted'].apply(\n",
    "    lambda x: re.sub(r\"(: *)\\'((?:[^':]*\\'+[^':]*)+)\\'( *,)\", r'\\1\"\"\"\\2\"\"\"\\3', x))\n",
    "processed_df['claim_split_predicted'] = processed_df['claim_split_predicted'].apply(extract_claims)"
   ]
  },
  {
   "cell_type": "code",
   "execution_count": 15,
   "id": "e007b1b4",
   "metadata": {},
   "outputs": [],
   "source": [
    "processed_df = processed_df.reset_index(drop=True)"
   ]
  },
  {
   "cell_type": "code",
   "execution_count": 16,
   "id": "ae997845",
   "metadata": {},
   "outputs": [],
   "source": [
    "processed_df = processed_df.apply(match_claim_with_cluster, axis=1)"
   ]
  },
  {
   "cell_type": "code",
   "execution_count": 17,
   "id": "e2e8d999",
   "metadata": {},
   "outputs": [],
   "source": [
    "processed_df = processed_df.rename(columns={'key_points': 'key_point_given'})"
   ]
  },
  {
   "cell_type": "code",
   "execution_count": 18,
   "id": "c4938231",
   "metadata": {
    "scrolled": true
   },
   "outputs": [
    {
     "data": {
      "text/html": [
       "<div>\n",
       "<style scoped>\n",
       "    .dataframe tbody tr th:only-of-type {\n",
       "        vertical-align: middle;\n",
       "    }\n",
       "\n",
       "    .dataframe tbody tr th {\n",
       "        vertical-align: top;\n",
       "    }\n",
       "\n",
       "    .dataframe thead th {\n",
       "        text-align: right;\n",
       "    }\n",
       "</style>\n",
       "<table border=\"1\" class=\"dataframe\">\n",
       "  <thead>\n",
       "    <tr style=\"text-align: right;\">\n",
       "      <th></th>\n",
       "      <th>comments</th>\n",
       "      <th>cluster_size</th>\n",
       "      <th>key_point</th>\n",
       "      <th>prevalence</th>\n",
       "      <th>category</th>\n",
       "      <th>asin</th>\n",
       "      <th>id</th>\n",
       "      <th>query</th>\n",
       "      <th>passages</th>\n",
       "      <th>passages_len</th>\n",
       "    </tr>\n",
       "  </thead>\n",
       "  <tbody>\n",
       "    <tr>\n",
       "      <th>0</th>\n",
       "      <td>[[the plastic case of my old keys was broken a...</td>\n",
       "      <td>13</td>\n",
       "      <td>the key head and the plastic case are integrat...</td>\n",
       "      <td>13</td>\n",
       "      <td>Automotive</td>\n",
       "      <td>B006FDD74W</td>\n",
       "      <td>3609</td>\n",
       "      <td>broke key head --can I just get new key head a...</td>\n",
       "      <td>[[the plastic case of my old keys was broken a...</td>\n",
       "      <td>26</td>\n",
       "    </tr>\n",
       "    <tr>\n",
       "      <th>1</th>\n",
       "      <td>[Push the transponder into the new key head.  ...</td>\n",
       "      <td>3</td>\n",
       "      <td>pushing the transponder into the new key head ...</td>\n",
       "      <td>3</td>\n",
       "      <td>Automotive</td>\n",
       "      <td>B006FDD74W</td>\n",
       "      <td>3609</td>\n",
       "      <td>broke key head --can I just get new key head a...</td>\n",
       "      <td>[[the plastic case of my old keys was broken a...</td>\n",
       "      <td>26</td>\n",
       "    </tr>\n",
       "    <tr>\n",
       "      <th>2</th>\n",
       "      <td>[I got this to replace a broken key remote., B...</td>\n",
       "      <td>3</td>\n",
       "      <td>replacing the broken shells on old keys</td>\n",
       "      <td>3</td>\n",
       "      <td>Automotive</td>\n",
       "      <td>B006FDD74W</td>\n",
       "      <td>3609</td>\n",
       "      <td>broke key head --can I just get new key head a...</td>\n",
       "      <td>[[the plastic case of my old keys was broken a...</td>\n",
       "      <td>26</td>\n",
       "    </tr>\n",
       "    <tr>\n",
       "      <th>3</th>\n",
       "      <td>[As it is I used the good half with the old ke...</td>\n",
       "      <td>4</td>\n",
       "      <td>the need to replace the metal area of the key,...</td>\n",
       "      <td>4</td>\n",
       "      <td>Automotive</td>\n",
       "      <td>B006FDD74W</td>\n",
       "      <td>3609</td>\n",
       "      <td>broke key head --can I just get new key head a...</td>\n",
       "      <td>[[the plastic case of my old keys was broken a...</td>\n",
       "      <td>26</td>\n",
       "    </tr>\n",
       "    <tr>\n",
       "      <th>4</th>\n",
       "      <td>[In order to use this key, you will need two w...</td>\n",
       "      <td>28</td>\n",
       "      <td>you need two original working keys to program ...</td>\n",
       "      <td>28</td>\n",
       "      <td>Automotive</td>\n",
       "      <td>B005OZNZD0</td>\n",
       "      <td>2799</td>\n",
       "      <td>I have a base model 2007 F150 XL V6. I would l...</td>\n",
       "      <td>[In order to use this key, you will need two w...</td>\n",
       "      <td>39</td>\n",
       "    </tr>\n",
       "    <tr>\n",
       "      <th>...</th>\n",
       "      <td>...</td>\n",
       "      <td>...</td>\n",
       "      <td>...</td>\n",
       "      <td>...</td>\n",
       "      <td>...</td>\n",
       "      <td>...</td>\n",
       "      <td>...</td>\n",
       "      <td>...</td>\n",
       "      <td>...</td>\n",
       "      <td>...</td>\n",
       "    </tr>\n",
       "    <tr>\n",
       "      <th>192</th>\n",
       "      <td>[inFamous Second Son however doesn't keep you ...</td>\n",
       "      <td>24</td>\n",
       "      <td>Infamous Second Son offers a bigger game with ...</td>\n",
       "      <td>24</td>\n",
       "      <td>Video_Games</td>\n",
       "      <td>B00FYIXMHQ</td>\n",
       "      <td>1837</td>\n",
       "      <td>I've never played Infamous 1 - Should you find...</td>\n",
       "      <td>[inFamous Second Son however doesn't keep you ...</td>\n",
       "      <td>34</td>\n",
       "    </tr>\n",
       "    <tr>\n",
       "      <th>193</th>\n",
       "      <td>[In fact, before playing I was very skeptical ...</td>\n",
       "      <td>7</td>\n",
       "      <td>Infamous Second Son has impressive graphics an...</td>\n",
       "      <td>7</td>\n",
       "      <td>Video_Games</td>\n",
       "      <td>B00FYIXMHQ</td>\n",
       "      <td>1837</td>\n",
       "      <td>I've never played Infamous 1 - Should you find...</td>\n",
       "      <td>[inFamous Second Son however doesn't keep you ...</td>\n",
       "      <td>34</td>\n",
       "    </tr>\n",
       "    <tr>\n",
       "      <th>194</th>\n",
       "      <td>[In terms of controls, the game allows you wit...</td>\n",
       "      <td>13</td>\n",
       "      <td>The game allows the use of Wii remote only, re...</td>\n",
       "      <td>13</td>\n",
       "      <td>Video_Games</td>\n",
       "      <td>B00269DXXO</td>\n",
       "      <td>2189</td>\n",
       "      <td>do you have to use the remote and nunchuck? or...</td>\n",
       "      <td>[In terms of controls, the game allows you wit...</td>\n",
       "      <td>13</td>\n",
       "    </tr>\n",
       "    <tr>\n",
       "      <th>195</th>\n",
       "      <td>[so mod install will not work.  , The thing is...</td>\n",
       "      <td>4</td>\n",
       "      <td>the mod installer does not work for some mods</td>\n",
       "      <td>4</td>\n",
       "      <td>Video_Games</td>\n",
       "      <td>B0049B2FP4</td>\n",
       "      <td>2484</td>\n",
       "      <td>How do you fix the mod installer and download ...</td>\n",
       "      <td>[so mod install will not work.  , The thing is...</td>\n",
       "      <td>4</td>\n",
       "    </tr>\n",
       "    <tr>\n",
       "      <th>196</th>\n",
       "      <td>[If you want to use it on a tablet or phone, y...</td>\n",
       "      <td>7</td>\n",
       "      <td>this controller is portable and works well wit...</td>\n",
       "      <td>7</td>\n",
       "      <td>Video_Games</td>\n",
       "      <td>B004YC4NN0</td>\n",
       "      <td>3049</td>\n",
       "      <td>hi this controller work with emulators run on ...</td>\n",
       "      <td>[If you want to use it on a tablet or phone, y...</td>\n",
       "      <td>7</td>\n",
       "    </tr>\n",
       "  </tbody>\n",
       "</table>\n",
       "<p>197 rows × 10 columns</p>\n",
       "</div>"
      ],
      "text/plain": [
       "                                              comments  cluster_size  \\\n",
       "0    [[the plastic case of my old keys was broken a...            13   \n",
       "1    [Push the transponder into the new key head.  ...             3   \n",
       "2    [I got this to replace a broken key remote., B...             3   \n",
       "3    [As it is I used the good half with the old ke...             4   \n",
       "4    [In order to use this key, you will need two w...            28   \n",
       "..                                                 ...           ...   \n",
       "192  [inFamous Second Son however doesn't keep you ...            24   \n",
       "193  [In fact, before playing I was very skeptical ...             7   \n",
       "194  [In terms of controls, the game allows you wit...            13   \n",
       "195  [so mod install will not work.  , The thing is...             4   \n",
       "196  [If you want to use it on a tablet or phone, y...             7   \n",
       "\n",
       "                                             key_point  prevalence  \\\n",
       "0    the key head and the plastic case are integrat...          13   \n",
       "1    pushing the transponder into the new key head ...           3   \n",
       "2              replacing the broken shells on old keys           3   \n",
       "3    the need to replace the metal area of the key,...           4   \n",
       "4    you need two original working keys to program ...          28   \n",
       "..                                                 ...         ...   \n",
       "192  Infamous Second Son offers a bigger game with ...          24   \n",
       "193  Infamous Second Son has impressive graphics an...           7   \n",
       "194  The game allows the use of Wii remote only, re...          13   \n",
       "195      the mod installer does not work for some mods           4   \n",
       "196  this controller is portable and works well wit...           7   \n",
       "\n",
       "        category        asin    id  \\\n",
       "0     Automotive  B006FDD74W  3609   \n",
       "1     Automotive  B006FDD74W  3609   \n",
       "2     Automotive  B006FDD74W  3609   \n",
       "3     Automotive  B006FDD74W  3609   \n",
       "4     Automotive  B005OZNZD0  2799   \n",
       "..           ...         ...   ...   \n",
       "192  Video_Games  B00FYIXMHQ  1837   \n",
       "193  Video_Games  B00FYIXMHQ  1837   \n",
       "194  Video_Games  B00269DXXO  2189   \n",
       "195  Video_Games  B0049B2FP4  2484   \n",
       "196  Video_Games  B004YC4NN0  3049   \n",
       "\n",
       "                                                 query  \\\n",
       "0    broke key head --can I just get new key head a...   \n",
       "1    broke key head --can I just get new key head a...   \n",
       "2    broke key head --can I just get new key head a...   \n",
       "3    broke key head --can I just get new key head a...   \n",
       "4    I have a base model 2007 F150 XL V6. I would l...   \n",
       "..                                                 ...   \n",
       "192  I've never played Infamous 1 - Should you find...   \n",
       "193  I've never played Infamous 1 - Should you find...   \n",
       "194  do you have to use the remote and nunchuck? or...   \n",
       "195  How do you fix the mod installer and download ...   \n",
       "196  hi this controller work with emulators run on ...   \n",
       "\n",
       "                                              passages passages_len  \n",
       "0    [[the plastic case of my old keys was broken a...           26  \n",
       "1    [[the plastic case of my old keys was broken a...           26  \n",
       "2    [[the plastic case of my old keys was broken a...           26  \n",
       "3    [[the plastic case of my old keys was broken a...           26  \n",
       "4    [In order to use this key, you will need two w...           39  \n",
       "..                                                 ...          ...  \n",
       "192  [inFamous Second Son however doesn't keep you ...           34  \n",
       "193  [inFamous Second Son however doesn't keep you ...           34  \n",
       "194  [In terms of controls, the game allows you wit...           13  \n",
       "195  [so mod install will not work.  , The thing is...            4  \n",
       "196  [If you want to use it on a tablet or phone, y...            7  \n",
       "\n",
       "[197 rows x 10 columns]"
      ]
     },
     "execution_count": 18,
     "metadata": {},
     "output_type": "execute_result"
    }
   ],
   "source": [
    "claim_split_predicted = pd.json_normalize(\n",
    "    processed_df.to_dict(orient='records'), \n",
    "    \"matching_comment_clusters\", [\"category\", \"asin\", \"id\", \"query\", \"passages\", 'passages_len']\n",
    ")\n",
    "claim_split_predicted"
   ]
  },
  {
   "cell_type": "code",
   "execution_count": 19,
   "id": "b5a5a8f9",
   "metadata": {},
   "outputs": [],
   "source": [
    "claim_split_predicted = claim_split_predicted.groupby(['asin', 'category', 'id', 'query']).filter(lambda grp: len(grp) > 1)"
   ]
  },
  {
   "cell_type": "code",
   "execution_count": 20,
   "id": "a392c921",
   "metadata": {},
   "outputs": [],
   "source": [
    "def other_kps_same_query(grp):\n",
    "    other_kps_list = []\n",
    "    for i, row in grp.iterrows():\n",
    "        my_kp = row['key_point']\n",
    "        other_kps = [other_kp for other_kp in grp['key_point'] if other_kp != my_kp]\n",
    "        other_kps_list += [other_kps]\n",
    "    \n",
    "    grp['key_point_given'] = other_kps_list\n",
    "    \n",
    "    return grp\n",
    "    \n",
    "claim_split_predicted = claim_split_predicted.groupby(['asin', 'category', 'id', 'query'], sort=False).apply(other_kps_same_query).reset_index(drop=True)"
   ]
  },
  {
   "cell_type": "code",
   "execution_count": 21,
   "id": "e1dfb08c",
   "metadata": {},
   "outputs": [
    {
     "data": {
      "text/plain": [
       "'the key head and the plastic case are integrated, requiring a visit to a locksmith or dealership to get it cut and the old key embedded in it'"
      ]
     },
     "execution_count": 21,
     "metadata": {},
     "output_type": "execute_result"
    }
   ],
   "source": [
    "claim_split_predicted[['key_point', 'key_point_given']].iloc[0]['key_point']"
   ]
  },
  {
   "cell_type": "code",
   "execution_count": 22,
   "id": "1cd35750",
   "metadata": {
    "scrolled": true
   },
   "outputs": [
    {
     "data": {
      "text/plain": [
       "['pushing the transponder into the new key head and securing it in place',\n",
       " 'replacing the broken shells on old keys',\n",
       " 'the need to replace the metal area of the key, but were unable to do so with this product']"
      ]
     },
     "execution_count": 22,
     "metadata": {},
     "output_type": "execute_result"
    }
   ],
   "source": [
    "claim_split_predicted[['key_point', 'key_point_given']].iloc[0]['key_point_given']"
   ]
  },
  {
   "cell_type": "code",
   "execution_count": 23,
   "id": "5256a6e6",
   "metadata": {},
   "outputs": [],
   "source": [
    "merged_df = claim_split_predicted.explode(['key_point_given'])\n",
    "merged_df = merged_df.reset_index(drop=True)"
   ]
  },
  {
   "cell_type": "code",
   "execution_count": 24,
   "id": "157b5c77",
   "metadata": {
    "scrolled": true
   },
   "outputs": [
    {
     "data": {
      "text/html": [
       "<div>\n",
       "<style scoped>\n",
       "    .dataframe tbody tr th:only-of-type {\n",
       "        vertical-align: middle;\n",
       "    }\n",
       "\n",
       "    .dataframe tbody tr th {\n",
       "        vertical-align: top;\n",
       "    }\n",
       "\n",
       "    .dataframe thead th {\n",
       "        text-align: right;\n",
       "    }\n",
       "</style>\n",
       "<table border=\"1\" class=\"dataframe\">\n",
       "  <thead>\n",
       "    <tr style=\"text-align: right;\">\n",
       "      <th></th>\n",
       "      <th>comments</th>\n",
       "      <th>cluster_size</th>\n",
       "      <th>key_point</th>\n",
       "      <th>prevalence</th>\n",
       "      <th>category</th>\n",
       "      <th>asin</th>\n",
       "      <th>id</th>\n",
       "      <th>query</th>\n",
       "      <th>passages</th>\n",
       "      <th>passages_len</th>\n",
       "      <th>key_point_given</th>\n",
       "    </tr>\n",
       "  </thead>\n",
       "  <tbody>\n",
       "    <tr>\n",
       "      <th>0</th>\n",
       "      <td>[[the plastic case of my old keys was broken a...</td>\n",
       "      <td>13</td>\n",
       "      <td>the key head and the plastic case are integrat...</td>\n",
       "      <td>13</td>\n",
       "      <td>Automotive</td>\n",
       "      <td>B006FDD74W</td>\n",
       "      <td>3609</td>\n",
       "      <td>broke key head --can I just get new key head a...</td>\n",
       "      <td>[[the plastic case of my old keys was broken a...</td>\n",
       "      <td>26</td>\n",
       "      <td>pushing the transponder into the new key head ...</td>\n",
       "    </tr>\n",
       "    <tr>\n",
       "      <th>1</th>\n",
       "      <td>[[the plastic case of my old keys was broken a...</td>\n",
       "      <td>13</td>\n",
       "      <td>the key head and the plastic case are integrat...</td>\n",
       "      <td>13</td>\n",
       "      <td>Automotive</td>\n",
       "      <td>B006FDD74W</td>\n",
       "      <td>3609</td>\n",
       "      <td>broke key head --can I just get new key head a...</td>\n",
       "      <td>[[the plastic case of my old keys was broken a...</td>\n",
       "      <td>26</td>\n",
       "      <td>replacing the broken shells on old keys</td>\n",
       "    </tr>\n",
       "    <tr>\n",
       "      <th>2</th>\n",
       "      <td>[[the plastic case of my old keys was broken a...</td>\n",
       "      <td>13</td>\n",
       "      <td>the key head and the plastic case are integrat...</td>\n",
       "      <td>13</td>\n",
       "      <td>Automotive</td>\n",
       "      <td>B006FDD74W</td>\n",
       "      <td>3609</td>\n",
       "      <td>broke key head --can I just get new key head a...</td>\n",
       "      <td>[[the plastic case of my old keys was broken a...</td>\n",
       "      <td>26</td>\n",
       "      <td>the need to replace the metal area of the key,...</td>\n",
       "    </tr>\n",
       "    <tr>\n",
       "      <th>3</th>\n",
       "      <td>[Push the transponder into the new key head.  ...</td>\n",
       "      <td>3</td>\n",
       "      <td>pushing the transponder into the new key head ...</td>\n",
       "      <td>3</td>\n",
       "      <td>Automotive</td>\n",
       "      <td>B006FDD74W</td>\n",
       "      <td>3609</td>\n",
       "      <td>broke key head --can I just get new key head a...</td>\n",
       "      <td>[[the plastic case of my old keys was broken a...</td>\n",
       "      <td>26</td>\n",
       "      <td>the key head and the plastic case are integrat...</td>\n",
       "    </tr>\n",
       "    <tr>\n",
       "      <th>4</th>\n",
       "      <td>[Push the transponder into the new key head.  ...</td>\n",
       "      <td>3</td>\n",
       "      <td>pushing the transponder into the new key head ...</td>\n",
       "      <td>3</td>\n",
       "      <td>Automotive</td>\n",
       "      <td>B006FDD74W</td>\n",
       "      <td>3609</td>\n",
       "      <td>broke key head --can I just get new key head a...</td>\n",
       "      <td>[[the plastic case of my old keys was broken a...</td>\n",
       "      <td>26</td>\n",
       "      <td>replacing the broken shells on old keys</td>\n",
       "    </tr>\n",
       "    <tr>\n",
       "      <th>...</th>\n",
       "      <td>...</td>\n",
       "      <td>...</td>\n",
       "      <td>...</td>\n",
       "      <td>...</td>\n",
       "      <td>...</td>\n",
       "      <td>...</td>\n",
       "      <td>...</td>\n",
       "      <td>...</td>\n",
       "      <td>...</td>\n",
       "      <td>...</td>\n",
       "      <td>...</td>\n",
       "    </tr>\n",
       "    <tr>\n",
       "      <th>263</th>\n",
       "      <td>[Atleast on Xbox 360 you do.- mic isn't detach...</td>\n",
       "      <td>4</td>\n",
       "      <td>the microphone is not detachable and if it bre...</td>\n",
       "      <td>4</td>\n",
       "      <td>Video_Games</td>\n",
       "      <td>B00EIM3BV6</td>\n",
       "      <td>1004</td>\n",
       "      <td>I have plugged in the cord from the headset to...</td>\n",
       "      <td>[The headset would not turn off, had a frequen...</td>\n",
       "      <td>44</td>\n",
       "      <td>the microphone works intermittently and requir...</td>\n",
       "    </tr>\n",
       "    <tr>\n",
       "      <th>264</th>\n",
       "      <td>[but these definitely can be used for everythi...</td>\n",
       "      <td>8</td>\n",
       "      <td>these headsets can be used for everything, inc...</td>\n",
       "      <td>8</td>\n",
       "      <td>Video_Games</td>\n",
       "      <td>B00EIM3BV6</td>\n",
       "      <td>2505</td>\n",
       "      <td>I like to use Skype on my computer while using...</td>\n",
       "      <td>[but these definitely can be used for everythi...</td>\n",
       "      <td>40</td>\n",
       "      <td>the headset's sound quality for gaming and eve...</td>\n",
       "    </tr>\n",
       "    <tr>\n",
       "      <th>265</th>\n",
       "      <td>[It is completely wireless except if you are a...</td>\n",
       "      <td>30</td>\n",
       "      <td>the headset's sound quality for gaming and eve...</td>\n",
       "      <td>30</td>\n",
       "      <td>Video_Games</td>\n",
       "      <td>B00EIM3BV6</td>\n",
       "      <td>2505</td>\n",
       "      <td>I like to use Skype on my computer while using...</td>\n",
       "      <td>[but these definitely can be used for everythi...</td>\n",
       "      <td>40</td>\n",
       "      <td>these headsets can be used for everything, inc...</td>\n",
       "    </tr>\n",
       "    <tr>\n",
       "      <th>266</th>\n",
       "      <td>[inFamous Second Son however doesn't keep you ...</td>\n",
       "      <td>24</td>\n",
       "      <td>Infamous Second Son offers a bigger game with ...</td>\n",
       "      <td>24</td>\n",
       "      <td>Video_Games</td>\n",
       "      <td>B00FYIXMHQ</td>\n",
       "      <td>1837</td>\n",
       "      <td>I've never played Infamous 1 - Should you find...</td>\n",
       "      <td>[inFamous Second Son however doesn't keep you ...</td>\n",
       "      <td>34</td>\n",
       "      <td>Infamous Second Son has impressive graphics an...</td>\n",
       "    </tr>\n",
       "    <tr>\n",
       "      <th>267</th>\n",
       "      <td>[In fact, before playing I was very skeptical ...</td>\n",
       "      <td>7</td>\n",
       "      <td>Infamous Second Son has impressive graphics an...</td>\n",
       "      <td>7</td>\n",
       "      <td>Video_Games</td>\n",
       "      <td>B00FYIXMHQ</td>\n",
       "      <td>1837</td>\n",
       "      <td>I've never played Infamous 1 - Should you find...</td>\n",
       "      <td>[inFamous Second Son however doesn't keep you ...</td>\n",
       "      <td>34</td>\n",
       "      <td>Infamous Second Son offers a bigger game with ...</td>\n",
       "    </tr>\n",
       "  </tbody>\n",
       "</table>\n",
       "<p>268 rows × 11 columns</p>\n",
       "</div>"
      ],
      "text/plain": [
       "                                              comments  cluster_size  \\\n",
       "0    [[the plastic case of my old keys was broken a...            13   \n",
       "1    [[the plastic case of my old keys was broken a...            13   \n",
       "2    [[the plastic case of my old keys was broken a...            13   \n",
       "3    [Push the transponder into the new key head.  ...             3   \n",
       "4    [Push the transponder into the new key head.  ...             3   \n",
       "..                                                 ...           ...   \n",
       "263  [Atleast on Xbox 360 you do.- mic isn't detach...             4   \n",
       "264  [but these definitely can be used for everythi...             8   \n",
       "265  [It is completely wireless except if you are a...            30   \n",
       "266  [inFamous Second Son however doesn't keep you ...            24   \n",
       "267  [In fact, before playing I was very skeptical ...             7   \n",
       "\n",
       "                                             key_point  prevalence  \\\n",
       "0    the key head and the plastic case are integrat...          13   \n",
       "1    the key head and the plastic case are integrat...          13   \n",
       "2    the key head and the plastic case are integrat...          13   \n",
       "3    pushing the transponder into the new key head ...           3   \n",
       "4    pushing the transponder into the new key head ...           3   \n",
       "..                                                 ...         ...   \n",
       "263  the microphone is not detachable and if it bre...           4   \n",
       "264  these headsets can be used for everything, inc...           8   \n",
       "265  the headset's sound quality for gaming and eve...          30   \n",
       "266  Infamous Second Son offers a bigger game with ...          24   \n",
       "267  Infamous Second Son has impressive graphics an...           7   \n",
       "\n",
       "        category        asin    id  \\\n",
       "0     Automotive  B006FDD74W  3609   \n",
       "1     Automotive  B006FDD74W  3609   \n",
       "2     Automotive  B006FDD74W  3609   \n",
       "3     Automotive  B006FDD74W  3609   \n",
       "4     Automotive  B006FDD74W  3609   \n",
       "..           ...         ...   ...   \n",
       "263  Video_Games  B00EIM3BV6  1004   \n",
       "264  Video_Games  B00EIM3BV6  2505   \n",
       "265  Video_Games  B00EIM3BV6  2505   \n",
       "266  Video_Games  B00FYIXMHQ  1837   \n",
       "267  Video_Games  B00FYIXMHQ  1837   \n",
       "\n",
       "                                                 query  \\\n",
       "0    broke key head --can I just get new key head a...   \n",
       "1    broke key head --can I just get new key head a...   \n",
       "2    broke key head --can I just get new key head a...   \n",
       "3    broke key head --can I just get new key head a...   \n",
       "4    broke key head --can I just get new key head a...   \n",
       "..                                                 ...   \n",
       "263  I have plugged in the cord from the headset to...   \n",
       "264  I like to use Skype on my computer while using...   \n",
       "265  I like to use Skype on my computer while using...   \n",
       "266  I've never played Infamous 1 - Should you find...   \n",
       "267  I've never played Infamous 1 - Should you find...   \n",
       "\n",
       "                                              passages passages_len  \\\n",
       "0    [[the plastic case of my old keys was broken a...           26   \n",
       "1    [[the plastic case of my old keys was broken a...           26   \n",
       "2    [[the plastic case of my old keys was broken a...           26   \n",
       "3    [[the plastic case of my old keys was broken a...           26   \n",
       "4    [[the plastic case of my old keys was broken a...           26   \n",
       "..                                                 ...          ...   \n",
       "263  [The headset would not turn off, had a frequen...           44   \n",
       "264  [but these definitely can be used for everythi...           40   \n",
       "265  [but these definitely can be used for everythi...           40   \n",
       "266  [inFamous Second Son however doesn't keep you ...           34   \n",
       "267  [inFamous Second Son however doesn't keep you ...           34   \n",
       "\n",
       "                                       key_point_given  \n",
       "0    pushing the transponder into the new key head ...  \n",
       "1              replacing the broken shells on old keys  \n",
       "2    the need to replace the metal area of the key,...  \n",
       "3    the key head and the plastic case are integrat...  \n",
       "4              replacing the broken shells on old keys  \n",
       "..                                                 ...  \n",
       "263  the microphone works intermittently and requir...  \n",
       "264  the headset's sound quality for gaming and eve...  \n",
       "265  these headsets can be used for everything, inc...  \n",
       "266  Infamous Second Son has impressive graphics an...  \n",
       "267  Infamous Second Son offers a bigger game with ...  \n",
       "\n",
       "[268 rows x 11 columns]"
      ]
     },
     "execution_count": 24,
     "metadata": {},
     "output_type": "execute_result"
    }
   ],
   "source": [
    "merged_df"
   ]
  },
  {
   "cell_type": "markdown",
   "id": "e53aa567",
   "metadata": {},
   "source": [
    "# Evaluation"
   ]
  },
  {
   "cell_type": "code",
   "execution_count": 25,
   "id": "d1498089",
   "metadata": {},
   "outputs": [],
   "source": [
    "from softF1 import *"
   ]
  },
  {
   "cell_type": "markdown",
   "id": "dbaa9f1b",
   "metadata": {},
   "source": [
    "## G-Eval"
   ]
  },
  {
   "cell_type": "code",
   "execution_count": 26,
   "id": "5d185a97",
   "metadata": {},
   "outputs": [],
   "source": [
    "prompt = get_prompt(\"experiment_g_eval_redundancy\")"
   ]
  },
  {
   "cell_type": "markdown",
   "id": "6c500bcc",
   "metadata": {},
   "source": [
    "### Trial"
   ]
  },
  {
   "cell_type": "code",
   "execution_count": 28,
   "id": "14745fd7",
   "metadata": {},
   "outputs": [
    {
     "data": {
      "text/plain": [
       "1"
      ]
     },
     "execution_count": 28,
     "metadata": {},
     "output_type": "execute_result"
    }
   ],
   "source": [
    "row = merged_df.iloc[0]\n",
    "output_list = g_eval(prompt, row['key_point_given'], row['key_point'])\n",
    "statistics.mean(process_g_eval(output_list))"
   ]
  },
  {
   "cell_type": "markdown",
   "id": "d150dfeb",
   "metadata": {},
   "source": [
    "### Run"
   ]
  },
  {
   "cell_type": "code",
   "execution_count": 29,
   "id": "a7e27fd9",
   "metadata": {},
   "outputs": [],
   "source": [
    "num_workers = 1\n",
    "merged_df['my_category'] = 1"
   ]
  },
  {
   "cell_type": "code",
   "execution_count": 30,
   "id": "1da9b169",
   "metadata": {},
   "outputs": [],
   "source": [
    "inputs = [(qqsum_output_path + \"/g_eval_cache/kp_redundancy\",\n",
    "           domain,\n",
    "           merged_df[merged_df['my_category'] == domain].reset_index(drop=True)\n",
    "           )\n",
    "          for domain in merged_df['my_category'].unique()]"
   ]
  },
  {
   "cell_type": "code",
   "execution_count": 31,
   "id": "46f149e8",
   "metadata": {
    "scrolled": true
   },
   "outputs": [
    {
     "name": "stdout",
     "output_type": "stream",
     "text": [
      "1 :  Loaded saved file. Done\n",
      "TIME ELAPSED 0.07877635955810547\n"
     ]
    }
   ],
   "source": [
    "start_time = time.time()\n",
    "with Pool(num_workers) as processor:\n",
    "    data = processor.starmap(prompted_g_eval_kp, inputs)\n",
    "print(\"TIME ELAPSED\", time.time() - start_time)"
   ]
  },
  {
   "cell_type": "code",
   "execution_count": 32,
   "id": "38656681",
   "metadata": {
    "scrolled": true
   },
   "outputs": [],
   "source": [
    "g_eval_df = pd.concat(data)"
   ]
  },
  {
   "cell_type": "code",
   "execution_count": 33,
   "id": "d89fd429",
   "metadata": {},
   "outputs": [],
   "source": [
    "g_eval_df['g_eval_scores'] = g_eval_df['g_eval_scores'].apply(process_g_eval)"
   ]
  },
  {
   "cell_type": "code",
   "execution_count": 34,
   "id": "a3c68865",
   "metadata": {},
   "outputs": [],
   "source": [
    "import statistics\n",
    "g_eval_df['g_eval_relevancy'] = g_eval_df['g_eval_scores'].apply(lambda x: statistics.mean(x))"
   ]
  },
  {
   "cell_type": "code",
   "execution_count": 35,
   "id": "33978c95",
   "metadata": {},
   "outputs": [
    {
     "data": {
      "text/plain": [
       "0      2.200000\n",
       "1      2.714286\n",
       "2      3.083333\n",
       "3      1.727273\n",
       "4      1.777778\n",
       "         ...   \n",
       "263    2.300000\n",
       "264    2.400000\n",
       "265    2.500000\n",
       "266    2.411765\n",
       "267    2.000000\n",
       "Name: g_eval_relevancy, Length: 268, dtype: float64"
      ]
     },
     "execution_count": 35,
     "metadata": {},
     "output_type": "execute_result"
    }
   ],
   "source": [
    "g_eval_df['g_eval_relevancy']"
   ]
  },
  {
   "cell_type": "code",
   "execution_count": 36,
   "id": "81f522bc",
   "metadata": {
    "scrolled": true
   },
   "outputs": [],
   "source": [
    "softp_data = g_eval_df.groupby(['category', 'asin', 'id', 'query', 'key_point'])['g_eval_relevancy'].max().reset_index()"
   ]
  },
  {
   "cell_type": "code",
   "execution_count": 37,
   "id": "21454c1f",
   "metadata": {},
   "outputs": [
    {
     "data": {
      "text/plain": [
       "2.4320099258645236"
      ]
     },
     "execution_count": 37,
     "metadata": {},
     "output_type": "execute_result"
    }
   ],
   "source": [
    "P_average = softp_data['g_eval_relevancy'].mean()\n",
    "P_average"
   ]
  },
  {
   "cell_type": "code",
   "execution_count": 38,
   "id": "cf9cfee4",
   "metadata": {},
   "outputs": [
    {
     "data": {
      "text/plain": [
       "0.3580024814661309"
      ]
     },
     "execution_count": 38,
     "metadata": {},
     "output_type": "execute_result"
    }
   ],
   "source": [
    "P_average = softp_data['g_eval_relevancy'].mean()\n",
    "P_average = (P_average - 1) / 4\n",
    "P_average"
   ]
  },
  {
   "cell_type": "markdown",
   "id": "88e9b067",
   "metadata": {},
   "source": [
    "## BERTScore"
   ]
  },
  {
   "cell_type": "code",
   "execution_count": 39,
   "id": "14926ce0",
   "metadata": {
    "scrolled": true
   },
   "outputs": [
    {
     "data": {
      "text/html": [
       "<div>\n",
       "<style scoped>\n",
       "    .dataframe tbody tr th:only-of-type {\n",
       "        vertical-align: middle;\n",
       "    }\n",
       "\n",
       "    .dataframe tbody tr th {\n",
       "        vertical-align: top;\n",
       "    }\n",
       "\n",
       "    .dataframe thead th {\n",
       "        text-align: right;\n",
       "    }\n",
       "</style>\n",
       "<table border=\"1\" class=\"dataframe\">\n",
       "  <thead>\n",
       "    <tr style=\"text-align: right;\">\n",
       "      <th></th>\n",
       "      <th>category</th>\n",
       "      <th>asin</th>\n",
       "      <th>id</th>\n",
       "      <th>query</th>\n",
       "      <th>key_point</th>\n",
       "      <th>multi_cands</th>\n",
       "    </tr>\n",
       "  </thead>\n",
       "  <tbody>\n",
       "    <tr>\n",
       "      <th>0</th>\n",
       "      <td>Automotive</td>\n",
       "      <td>B000VUC51G</td>\n",
       "      <td>1012</td>\n",
       "      <td>Customers have claimed that Dee Zee has 2 very...</td>\n",
       "      <td>Dee Zee sells two different bed mats under one...</td>\n",
       "      <td>The quality, fit, and price of the received be...</td>\n",
       "    </tr>\n",
       "    <tr>\n",
       "      <th>1</th>\n",
       "      <td>Automotive</td>\n",
       "      <td>B000VUC51G</td>\n",
       "      <td>1012</td>\n",
       "      <td>Customers have claimed that Dee Zee has 2 very...</td>\n",
       "      <td>The quality, fit, and price of the received be...</td>\n",
       "      <td>Dee Zee sells two different bed mats under one...</td>\n",
       "    </tr>\n",
       "    <tr>\n",
       "      <th>2</th>\n",
       "      <td>Automotive</td>\n",
       "      <td>B005OZNZD0</td>\n",
       "      <td>2799</td>\n",
       "      <td>I have a base model 2007 F150 XL V6. I would l...</td>\n",
       "      <td>if you don't have two keys already, you will h...</td>\n",
       "      <td>you need two original working keys to program ...</td>\n",
       "    </tr>\n",
       "    <tr>\n",
       "      <th>3</th>\n",
       "      <td>Automotive</td>\n",
       "      <td>B005OZNZD0</td>\n",
       "      <td>2799</td>\n",
       "      <td>I have a base model 2007 F150 XL V6. I would l...</td>\n",
       "      <td>you need two original working keys to program ...</td>\n",
       "      <td>if you don't have two keys already, you will h...</td>\n",
       "    </tr>\n",
       "    <tr>\n",
       "      <th>4</th>\n",
       "      <td>Automotive</td>\n",
       "      <td>B006FDD74W</td>\n",
       "      <td>3609</td>\n",
       "      <td>broke key head --can I just get new key head a...</td>\n",
       "      <td>pushing the transponder into the new key head ...</td>\n",
       "      <td>the key head and the plastic case are integrat...</td>\n",
       "    </tr>\n",
       "    <tr>\n",
       "      <th>...</th>\n",
       "      <td>...</td>\n",
       "      <td>...</td>\n",
       "      <td>...</td>\n",
       "      <td>...</td>\n",
       "      <td>...</td>\n",
       "      <td>...</td>\n",
       "    </tr>\n",
       "    <tr>\n",
       "      <th>138</th>\n",
       "      <td>Video_Games</td>\n",
       "      <td>B00EIM3BV6</td>\n",
       "      <td>1004</td>\n",
       "      <td>I have plugged in the cord from the headset to...</td>\n",
       "      <td>the microphone works intermittently and requir...</td>\n",
       "      <td>the headset does not turn on or has buttons th...</td>\n",
       "    </tr>\n",
       "    <tr>\n",
       "      <th>139</th>\n",
       "      <td>Video_Games</td>\n",
       "      <td>B00EIM3BV6</td>\n",
       "      <td>2505</td>\n",
       "      <td>I like to use Skype on my computer while using...</td>\n",
       "      <td>the headset's sound quality for gaming and eve...</td>\n",
       "      <td>these headsets can be used for everything, inc...</td>\n",
       "    </tr>\n",
       "    <tr>\n",
       "      <th>140</th>\n",
       "      <td>Video_Games</td>\n",
       "      <td>B00EIM3BV6</td>\n",
       "      <td>2505</td>\n",
       "      <td>I like to use Skype on my computer while using...</td>\n",
       "      <td>these headsets can be used for everything, inc...</td>\n",
       "      <td>the headset's sound quality for gaming and eve...</td>\n",
       "    </tr>\n",
       "    <tr>\n",
       "      <th>141</th>\n",
       "      <td>Video_Games</td>\n",
       "      <td>B00FYIXMHQ</td>\n",
       "      <td>1837</td>\n",
       "      <td>I've never played Infamous 1 - Should you find...</td>\n",
       "      <td>Infamous Second Son has impressive graphics an...</td>\n",
       "      <td>Infamous Second Son offers a bigger game with ...</td>\n",
       "    </tr>\n",
       "    <tr>\n",
       "      <th>142</th>\n",
       "      <td>Video_Games</td>\n",
       "      <td>B00FYIXMHQ</td>\n",
       "      <td>1837</td>\n",
       "      <td>I've never played Infamous 1 - Should you find...</td>\n",
       "      <td>Infamous Second Son offers a bigger game with ...</td>\n",
       "      <td>Infamous Second Son has impressive graphics an...</td>\n",
       "    </tr>\n",
       "  </tbody>\n",
       "</table>\n",
       "<p>143 rows × 6 columns</p>\n",
       "</div>"
      ],
      "text/plain": [
       "        category        asin    id  \\\n",
       "0     Automotive  B000VUC51G  1012   \n",
       "1     Automotive  B000VUC51G  1012   \n",
       "2     Automotive  B005OZNZD0  2799   \n",
       "3     Automotive  B005OZNZD0  2799   \n",
       "4     Automotive  B006FDD74W  3609   \n",
       "..           ...         ...   ...   \n",
       "138  Video_Games  B00EIM3BV6  1004   \n",
       "139  Video_Games  B00EIM3BV6  2505   \n",
       "140  Video_Games  B00EIM3BV6  2505   \n",
       "141  Video_Games  B00FYIXMHQ  1837   \n",
       "142  Video_Games  B00FYIXMHQ  1837   \n",
       "\n",
       "                                                 query  \\\n",
       "0    Customers have claimed that Dee Zee has 2 very...   \n",
       "1    Customers have claimed that Dee Zee has 2 very...   \n",
       "2    I have a base model 2007 F150 XL V6. I would l...   \n",
       "3    I have a base model 2007 F150 XL V6. I would l...   \n",
       "4    broke key head --can I just get new key head a...   \n",
       "..                                                 ...   \n",
       "138  I have plugged in the cord from the headset to...   \n",
       "139  I like to use Skype on my computer while using...   \n",
       "140  I like to use Skype on my computer while using...   \n",
       "141  I've never played Infamous 1 - Should you find...   \n",
       "142  I've never played Infamous 1 - Should you find...   \n",
       "\n",
       "                                             key_point  \\\n",
       "0    Dee Zee sells two different bed mats under one...   \n",
       "1    The quality, fit, and price of the received be...   \n",
       "2    if you don't have two keys already, you will h...   \n",
       "3    you need two original working keys to program ...   \n",
       "4    pushing the transponder into the new key head ...   \n",
       "..                                                 ...   \n",
       "138  the microphone works intermittently and requir...   \n",
       "139  the headset's sound quality for gaming and eve...   \n",
       "140  these headsets can be used for everything, inc...   \n",
       "141  Infamous Second Son has impressive graphics an...   \n",
       "142  Infamous Second Son offers a bigger game with ...   \n",
       "\n",
       "                                           multi_cands  \n",
       "0    The quality, fit, and price of the received be...  \n",
       "1    Dee Zee sells two different bed mats under one...  \n",
       "2    you need two original working keys to program ...  \n",
       "3    if you don't have two keys already, you will h...  \n",
       "4    the key head and the plastic case are integrat...  \n",
       "..                                                 ...  \n",
       "138  the headset does not turn on or has buttons th...  \n",
       "139  these headsets can be used for everything, inc...  \n",
       "140  the headset's sound quality for gaming and eve...  \n",
       "141  Infamous Second Son offers a bigger game with ...  \n",
       "142  Infamous Second Son has impressive graphics an...  \n",
       "\n",
       "[143 rows x 6 columns]"
      ]
     },
     "execution_count": 39,
     "metadata": {},
     "output_type": "execute_result"
    }
   ],
   "source": [
    "softp_data = merged_df.groupby(['category', 'asin', 'id', 'query', 'key_point'])\\\n",
    "    .apply(lambda grp: \"\".join([cand + \"=\" for cand in (grp['key_point_given'].tolist())])).reset_index(name='multi_cands')\n",
    "softp_data"
   ]
  },
  {
   "cell_type": "code",
   "execution_count": 40,
   "id": "0ea6814b",
   "metadata": {
    "scrolled": true
   },
   "outputs": [],
   "source": [
    "cands, refs= preprocess_text(softp_data, metrics = \"softPrecision\")\n",
    "\n",
    "P, R, F = bert_scorer.score(cands, refs)\n",
    "P_average = P.mean()"
   ]
  },
  {
   "cell_type": "code",
   "execution_count": 41,
   "id": "b6ee7257",
   "metadata": {
    "scrolled": true
   },
   "outputs": [
    {
     "data": {
      "text/plain": [
       "tensor(0.3727)"
      ]
     },
     "execution_count": 41,
     "metadata": {},
     "output_type": "execute_result"
    }
   ],
   "source": [
    "P_average"
   ]
  },
  {
   "cell_type": "markdown",
   "id": "0b8b4a45",
   "metadata": {},
   "source": [
    "## BARTScore"
   ]
  },
  {
   "cell_type": "code",
   "execution_count": 42,
   "id": "2cdbcf3e",
   "metadata": {
    "scrolled": true
   },
   "outputs": [
    {
     "data": {
      "text/html": [
       "<div>\n",
       "<style scoped>\n",
       "    .dataframe tbody tr th:only-of-type {\n",
       "        vertical-align: middle;\n",
       "    }\n",
       "\n",
       "    .dataframe tbody tr th {\n",
       "        vertical-align: top;\n",
       "    }\n",
       "\n",
       "    .dataframe thead th {\n",
       "        text-align: right;\n",
       "    }\n",
       "</style>\n",
       "<table border=\"1\" class=\"dataframe\">\n",
       "  <thead>\n",
       "    <tr style=\"text-align: right;\">\n",
       "      <th></th>\n",
       "      <th>category</th>\n",
       "      <th>asin</th>\n",
       "      <th>id</th>\n",
       "      <th>query</th>\n",
       "      <th>key_point</th>\n",
       "      <th>multi_cands</th>\n",
       "    </tr>\n",
       "  </thead>\n",
       "  <tbody>\n",
       "    <tr>\n",
       "      <th>0</th>\n",
       "      <td>Automotive</td>\n",
       "      <td>B000VUC51G</td>\n",
       "      <td>1012</td>\n",
       "      <td>Customers have claimed that Dee Zee has 2 very...</td>\n",
       "      <td>Dee Zee sells two different bed mats under one...</td>\n",
       "      <td>The quality, fit, and price of the received be...</td>\n",
       "    </tr>\n",
       "    <tr>\n",
       "      <th>1</th>\n",
       "      <td>Automotive</td>\n",
       "      <td>B000VUC51G</td>\n",
       "      <td>1012</td>\n",
       "      <td>Customers have claimed that Dee Zee has 2 very...</td>\n",
       "      <td>The quality, fit, and price of the received be...</td>\n",
       "      <td>Dee Zee sells two different bed mats under one...</td>\n",
       "    </tr>\n",
       "    <tr>\n",
       "      <th>2</th>\n",
       "      <td>Automotive</td>\n",
       "      <td>B005OZNZD0</td>\n",
       "      <td>2799</td>\n",
       "      <td>I have a base model 2007 F150 XL V6. I would l...</td>\n",
       "      <td>if you don't have two keys already, you will h...</td>\n",
       "      <td>you need two original working keys to program ...</td>\n",
       "    </tr>\n",
       "    <tr>\n",
       "      <th>3</th>\n",
       "      <td>Automotive</td>\n",
       "      <td>B005OZNZD0</td>\n",
       "      <td>2799</td>\n",
       "      <td>I have a base model 2007 F150 XL V6. I would l...</td>\n",
       "      <td>you need two original working keys to program ...</td>\n",
       "      <td>if you don't have two keys already, you will h...</td>\n",
       "    </tr>\n",
       "    <tr>\n",
       "      <th>4</th>\n",
       "      <td>Automotive</td>\n",
       "      <td>B006FDD74W</td>\n",
       "      <td>3609</td>\n",
       "      <td>broke key head --can I just get new key head a...</td>\n",
       "      <td>pushing the transponder into the new key head ...</td>\n",
       "      <td>the key head and the plastic case are integrat...</td>\n",
       "    </tr>\n",
       "    <tr>\n",
       "      <th>...</th>\n",
       "      <td>...</td>\n",
       "      <td>...</td>\n",
       "      <td>...</td>\n",
       "      <td>...</td>\n",
       "      <td>...</td>\n",
       "      <td>...</td>\n",
       "    </tr>\n",
       "    <tr>\n",
       "      <th>138</th>\n",
       "      <td>Video_Games</td>\n",
       "      <td>B00EIM3BV6</td>\n",
       "      <td>1004</td>\n",
       "      <td>I have plugged in the cord from the headset to...</td>\n",
       "      <td>the microphone works intermittently and requir...</td>\n",
       "      <td>the headset does not turn on or has buttons th...</td>\n",
       "    </tr>\n",
       "    <tr>\n",
       "      <th>139</th>\n",
       "      <td>Video_Games</td>\n",
       "      <td>B00EIM3BV6</td>\n",
       "      <td>2505</td>\n",
       "      <td>I like to use Skype on my computer while using...</td>\n",
       "      <td>the headset's sound quality for gaming and eve...</td>\n",
       "      <td>these headsets can be used for everything, inc...</td>\n",
       "    </tr>\n",
       "    <tr>\n",
       "      <th>140</th>\n",
       "      <td>Video_Games</td>\n",
       "      <td>B00EIM3BV6</td>\n",
       "      <td>2505</td>\n",
       "      <td>I like to use Skype on my computer while using...</td>\n",
       "      <td>these headsets can be used for everything, inc...</td>\n",
       "      <td>the headset's sound quality for gaming and eve...</td>\n",
       "    </tr>\n",
       "    <tr>\n",
       "      <th>141</th>\n",
       "      <td>Video_Games</td>\n",
       "      <td>B00FYIXMHQ</td>\n",
       "      <td>1837</td>\n",
       "      <td>I've never played Infamous 1 - Should you find...</td>\n",
       "      <td>Infamous Second Son has impressive graphics an...</td>\n",
       "      <td>Infamous Second Son offers a bigger game with ...</td>\n",
       "    </tr>\n",
       "    <tr>\n",
       "      <th>142</th>\n",
       "      <td>Video_Games</td>\n",
       "      <td>B00FYIXMHQ</td>\n",
       "      <td>1837</td>\n",
       "      <td>I've never played Infamous 1 - Should you find...</td>\n",
       "      <td>Infamous Second Son offers a bigger game with ...</td>\n",
       "      <td>Infamous Second Son has impressive graphics an...</td>\n",
       "    </tr>\n",
       "  </tbody>\n",
       "</table>\n",
       "<p>143 rows × 6 columns</p>\n",
       "</div>"
      ],
      "text/plain": [
       "        category        asin    id  \\\n",
       "0     Automotive  B000VUC51G  1012   \n",
       "1     Automotive  B000VUC51G  1012   \n",
       "2     Automotive  B005OZNZD0  2799   \n",
       "3     Automotive  B005OZNZD0  2799   \n",
       "4     Automotive  B006FDD74W  3609   \n",
       "..           ...         ...   ...   \n",
       "138  Video_Games  B00EIM3BV6  1004   \n",
       "139  Video_Games  B00EIM3BV6  2505   \n",
       "140  Video_Games  B00EIM3BV6  2505   \n",
       "141  Video_Games  B00FYIXMHQ  1837   \n",
       "142  Video_Games  B00FYIXMHQ  1837   \n",
       "\n",
       "                                                 query  \\\n",
       "0    Customers have claimed that Dee Zee has 2 very...   \n",
       "1    Customers have claimed that Dee Zee has 2 very...   \n",
       "2    I have a base model 2007 F150 XL V6. I would l...   \n",
       "3    I have a base model 2007 F150 XL V6. I would l...   \n",
       "4    broke key head --can I just get new key head a...   \n",
       "..                                                 ...   \n",
       "138  I have plugged in the cord from the headset to...   \n",
       "139  I like to use Skype on my computer while using...   \n",
       "140  I like to use Skype on my computer while using...   \n",
       "141  I've never played Infamous 1 - Should you find...   \n",
       "142  I've never played Infamous 1 - Should you find...   \n",
       "\n",
       "                                             key_point  \\\n",
       "0    Dee Zee sells two different bed mats under one...   \n",
       "1    The quality, fit, and price of the received be...   \n",
       "2    if you don't have two keys already, you will h...   \n",
       "3    you need two original working keys to program ...   \n",
       "4    pushing the transponder into the new key head ...   \n",
       "..                                                 ...   \n",
       "138  the microphone works intermittently and requir...   \n",
       "139  the headset's sound quality for gaming and eve...   \n",
       "140  these headsets can be used for everything, inc...   \n",
       "141  Infamous Second Son has impressive graphics an...   \n",
       "142  Infamous Second Son offers a bigger game with ...   \n",
       "\n",
       "                                           multi_cands  \n",
       "0    The quality, fit, and price of the received be...  \n",
       "1    Dee Zee sells two different bed mats under one...  \n",
       "2    you need two original working keys to program ...  \n",
       "3    if you don't have two keys already, you will h...  \n",
       "4    the key head and the plastic case are integrat...  \n",
       "..                                                 ...  \n",
       "138  the headset does not turn on or has buttons th...  \n",
       "139  these headsets can be used for everything, inc...  \n",
       "140  the headset's sound quality for gaming and eve...  \n",
       "141  Infamous Second Son offers a bigger game with ...  \n",
       "142  Infamous Second Son has impressive graphics an...  \n",
       "\n",
       "[143 rows x 6 columns]"
      ]
     },
     "execution_count": 42,
     "metadata": {},
     "output_type": "execute_result"
    }
   ],
   "source": [
    "softp_data = merged_df.groupby(['category', 'asin', 'id', 'query', 'key_point'])\\\n",
    "    .apply(lambda grp: \"\".join([cand + \"=\" for cand in (grp['key_point_given'].tolist())])).reset_index(name='multi_cands')\n",
    "softp_data"
   ]
  },
  {
   "cell_type": "code",
   "execution_count": 43,
   "id": "0be428f5",
   "metadata": {},
   "outputs": [],
   "source": [
    "cands, refs= preprocess_text(softp_data, metrics = \"softPrecision\")\n",
    "\n",
    "#BART score cannot be processed for different numbers of reference sentences, so\n",
    "#check for the maximum number of reference sentences and match the size.\n",
    "#We fill in the None for the missing sentences because we only pick one of the \n",
    "#maximum values and not the average, so there is no impact on performance\n",
    "\n",
    "refs = balance_ref_num(refs)        \n",
    "\n",
    "# generation scores from the first list of texts to the second list of texts.\n",
    "P = bart_scorer.multi_ref_score(cands, refs, agg=\"max\", batch_size=4) # agg means aggregation, can be mean or max\n",
    "\n",
    "#mapping the score to (0,1]\n",
    "P_average = math.tanh(math.exp((mean(P))/2+1.3))\n",
    "#P_average = math.tanh(mean(P)) + 1\n",
    "#P_average = math.exp(mean(P))"
   ]
  },
  {
   "cell_type": "code",
   "execution_count": 44,
   "id": "818274c8",
   "metadata": {},
   "outputs": [
    {
     "data": {
      "text/plain": [
       "0.5046201000985896"
      ]
     },
     "execution_count": 44,
     "metadata": {},
     "output_type": "execute_result"
    }
   ],
   "source": [
    "P_average"
   ]
  },
  {
   "cell_type": "markdown",
   "id": "UXAauku3Ydnp",
   "metadata": {
    "id": "UXAauku3Ydnp"
   },
   "source": [
    "## BLEURTScore"
   ]
  },
  {
   "cell_type": "code",
   "execution_count": 45,
   "id": "QBkx3UKpdpDn",
   "metadata": {
    "colab": {
     "base_uri": "https://localhost:8080/",
     "height": 597
    },
    "id": "QBkx3UKpdpDn",
    "outputId": "143a7380-c824-42ac-c315-299a6cc924a0"
   },
   "outputs": [
    {
     "data": {
      "text/html": [
       "<div>\n",
       "<style scoped>\n",
       "    .dataframe tbody tr th:only-of-type {\n",
       "        vertical-align: middle;\n",
       "    }\n",
       "\n",
       "    .dataframe tbody tr th {\n",
       "        vertical-align: top;\n",
       "    }\n",
       "\n",
       "    .dataframe thead th {\n",
       "        text-align: right;\n",
       "    }\n",
       "</style>\n",
       "<table border=\"1\" class=\"dataframe\">\n",
       "  <thead>\n",
       "    <tr style=\"text-align: right;\">\n",
       "      <th></th>\n",
       "      <th>candidate</th>\n",
       "      <th>reference</th>\n",
       "    </tr>\n",
       "  </thead>\n",
       "  <tbody>\n",
       "    <tr>\n",
       "      <th>14</th>\n",
       "      <td>Dee Zee sells two different bed mats under one...</td>\n",
       "      <td>The quality, fit, and price of the received be...</td>\n",
       "    </tr>\n",
       "    <tr>\n",
       "      <th>15</th>\n",
       "      <td>The quality, fit, and price of the received be...</td>\n",
       "      <td>Dee Zee sells two different bed mats under one...</td>\n",
       "    </tr>\n",
       "    <tr>\n",
       "      <th>13</th>\n",
       "      <td>if you don't have two keys already, you will h...</td>\n",
       "      <td>you need two original working keys to program ...</td>\n",
       "    </tr>\n",
       "    <tr>\n",
       "      <th>12</th>\n",
       "      <td>you need two original working keys to program ...</td>\n",
       "      <td>if you don't have two keys already, you will h...</td>\n",
       "    </tr>\n",
       "    <tr>\n",
       "      <th>3</th>\n",
       "      <td>pushing the transponder into the new key head ...</td>\n",
       "      <td>the key head and the plastic case are integrat...</td>\n",
       "    </tr>\n",
       "    <tr>\n",
       "      <th>...</th>\n",
       "      <td>...</td>\n",
       "      <td>...</td>\n",
       "    </tr>\n",
       "    <tr>\n",
       "      <th>261</th>\n",
       "      <td>the microphone works intermittently and requir...</td>\n",
       "      <td>the microphone is not detachable and if it bre...</td>\n",
       "    </tr>\n",
       "    <tr>\n",
       "      <th>265</th>\n",
       "      <td>the headset's sound quality for gaming and eve...</td>\n",
       "      <td>these headsets can be used for everything, inc...</td>\n",
       "    </tr>\n",
       "    <tr>\n",
       "      <th>264</th>\n",
       "      <td>these headsets can be used for everything, inc...</td>\n",
       "      <td>the headset's sound quality for gaming and eve...</td>\n",
       "    </tr>\n",
       "    <tr>\n",
       "      <th>267</th>\n",
       "      <td>Infamous Second Son has impressive graphics an...</td>\n",
       "      <td>Infamous Second Son offers a bigger game with ...</td>\n",
       "    </tr>\n",
       "    <tr>\n",
       "      <th>266</th>\n",
       "      <td>Infamous Second Son offers a bigger game with ...</td>\n",
       "      <td>Infamous Second Son has impressive graphics an...</td>\n",
       "    </tr>\n",
       "  </tbody>\n",
       "</table>\n",
       "<p>268 rows × 2 columns</p>\n",
       "</div>"
      ],
      "text/plain": [
       "                                             candidate  \\\n",
       "14   Dee Zee sells two different bed mats under one...   \n",
       "15   The quality, fit, and price of the received be...   \n",
       "13   if you don't have two keys already, you will h...   \n",
       "12   you need two original working keys to program ...   \n",
       "3    pushing the transponder into the new key head ...   \n",
       "..                                                 ...   \n",
       "261  the microphone works intermittently and requir...   \n",
       "265  the headset's sound quality for gaming and eve...   \n",
       "264  these headsets can be used for everything, inc...   \n",
       "267  Infamous Second Son has impressive graphics an...   \n",
       "266  Infamous Second Son offers a bigger game with ...   \n",
       "\n",
       "                                             reference  \n",
       "14   The quality, fit, and price of the received be...  \n",
       "15   Dee Zee sells two different bed mats under one...  \n",
       "13   you need two original working keys to program ...  \n",
       "12   if you don't have two keys already, you will h...  \n",
       "3    the key head and the plastic case are integrat...  \n",
       "..                                                 ...  \n",
       "261  the microphone is not detachable and if it bre...  \n",
       "265  these headsets can be used for everything, inc...  \n",
       "264  the headset's sound quality for gaming and eve...  \n",
       "267  Infamous Second Son offers a bigger game with ...  \n",
       "266  Infamous Second Son has impressive graphics an...  \n",
       "\n",
       "[268 rows x 2 columns]"
      ]
     },
     "execution_count": 45,
     "metadata": {},
     "output_type": "execute_result"
    }
   ],
   "source": [
    "softp_data = merged_df.sort_values(by=['category', 'asin', 'id', 'query', 'key_point'])\n",
    "df_compare_precision = softp_data[['key_point', 'key_point_given']].rename(columns={'key_point': 'candidate', 'key_point_given': 'reference'})\n",
    "df_compare_precision"
   ]
  },
  {
   "cell_type": "code",
   "execution_count": 46,
   "id": "Z1zLYKjRe3SW",
   "metadata": {
    "id": "Z1zLYKjRe3SW"
   },
   "outputs": [],
   "source": [
    "candidates = df_compare_precision['candidate']\n",
    "references = df_compare_precision['reference']"
   ]
  },
  {
   "cell_type": "code",
   "execution_count": 47,
   "id": "QVexlsL6mN4Y",
   "metadata": {
    "id": "QVexlsL6mN4Y"
   },
   "outputs": [],
   "source": [
    "import tensorflow as tf"
   ]
  },
  {
   "cell_type": "code",
   "execution_count": 48,
   "id": "mmVAbBVfmQjW",
   "metadata": {
    "colab": {
     "base_uri": "https://localhost:8080/"
    },
    "id": "mmVAbBVfmQjW",
    "outputId": "1a716874-3571-4544-9364-ea48625ff08c"
   },
   "outputs": [
    {
     "name": "stdout",
     "output_type": "stream",
     "text": [
      "Num GPUs Available:  1\n"
     ]
    },
    {
     "name": "stderr",
     "output_type": "stream",
     "text": [
      "2025-02-22 03:21:07.020570: I external/local_xla/xla/stream_executor/cuda/cuda_executor.cc:887] could not open file to read NUMA node: /sys/bus/pci/devices/0000:01:00.0/numa_node\n",
      "Your kernel may have been built without NUMA support.\n",
      "2025-02-22 03:21:07.125047: I external/local_xla/xla/stream_executor/cuda/cuda_executor.cc:887] could not open file to read NUMA node: /sys/bus/pci/devices/0000:01:00.0/numa_node\n",
      "Your kernel may have been built without NUMA support.\n",
      "2025-02-22 03:21:07.125343: I external/local_xla/xla/stream_executor/cuda/cuda_executor.cc:887] could not open file to read NUMA node: /sys/bus/pci/devices/0000:01:00.0/numa_node\n",
      "Your kernel may have been built without NUMA support.\n"
     ]
    }
   ],
   "source": [
    "print(\"Num GPUs Available: \", len(tf.config.list_physical_devices('GPU')))"
   ]
  },
  {
   "cell_type": "code",
   "execution_count": 49,
   "id": "i4jdGVuOmNuA",
   "metadata": {
    "colab": {
     "base_uri": "https://localhost:8080/"
    },
    "id": "i4jdGVuOmNuA",
    "outputId": "eedfb583-279a-497a-e67e-353a8b4fd185"
   },
   "outputs": [
    {
     "name": "stdout",
     "output_type": "stream",
     "text": [
      "[name: \"/device:CPU:0\"\n",
      "device_type: \"CPU\"\n",
      "memory_limit: 268435456\n",
      "locality {\n",
      "}\n",
      "incarnation: 8396573695873806923\n",
      "xla_global_id: -1\n",
      ", name: \"/device:GPU:0\"\n",
      "device_type: \"GPU\"\n",
      "memory_limit: 19425918976\n",
      "locality {\n",
      "  bus_id: 1\n",
      "  links {\n",
      "  }\n",
      "}\n",
      "incarnation: 975311914435770980\n",
      "physical_device_desc: \"device: 0, name: NVIDIA GeForce RTX 4090, pci bus id: 0000:01:00.0, compute capability: 8.9\"\n",
      "xla_global_id: 416903419\n",
      "]\n"
     ]
    },
    {
     "name": "stderr",
     "output_type": "stream",
     "text": [
      "2025-02-22 03:21:07.147825: I external/local_xla/xla/stream_executor/cuda/cuda_executor.cc:887] could not open file to read NUMA node: /sys/bus/pci/devices/0000:01:00.0/numa_node\n",
      "Your kernel may have been built without NUMA support.\n",
      "2025-02-22 03:21:07.148995: I external/local_xla/xla/stream_executor/cuda/cuda_executor.cc:887] could not open file to read NUMA node: /sys/bus/pci/devices/0000:01:00.0/numa_node\n",
      "Your kernel may have been built without NUMA support.\n",
      "2025-02-22 03:21:07.149266: I external/local_xla/xla/stream_executor/cuda/cuda_executor.cc:887] could not open file to read NUMA node: /sys/bus/pci/devices/0000:01:00.0/numa_node\n",
      "Your kernel may have been built without NUMA support.\n",
      "2025-02-22 03:21:07.150306: I external/local_xla/xla/stream_executor/cuda/cuda_executor.cc:887] could not open file to read NUMA node: /sys/bus/pci/devices/0000:01:00.0/numa_node\n",
      "Your kernel may have been built without NUMA support.\n",
      "2025-02-22 03:21:07.150967: I external/local_xla/xla/stream_executor/cuda/cuda_executor.cc:887] could not open file to read NUMA node: /sys/bus/pci/devices/0000:01:00.0/numa_node\n",
      "Your kernel may have been built without NUMA support.\n",
      "2025-02-22 03:21:07.150991: I tensorflow/core/common_runtime/gpu/gpu_device.cc:2022] Could not identify NUMA node of platform GPU id 0, defaulting to 0.  Your kernel may not have been built with NUMA support.\n",
      "2025-02-22 03:21:07.151464: I external/local_xla/xla/stream_executor/cuda/cuda_executor.cc:887] could not open file to read NUMA node: /sys/bus/pci/devices/0000:01:00.0/numa_node\n",
      "Your kernel may have been built without NUMA support.\n",
      "2025-02-22 03:21:07.151510: I tensorflow/core/common_runtime/gpu/gpu_device.cc:1929] Created device /device:GPU:0 with 18526 MB memory:  -> device: 0, name: NVIDIA GeForce RTX 4090, pci bus id: 0000:01:00.0, compute capability: 8.9\n"
     ]
    }
   ],
   "source": [
    "from tensorflow.python.client import device_lib\n",
    "print(device_lib.list_local_devices())"
   ]
  },
  {
   "cell_type": "code",
   "execution_count": 50,
   "id": "ec7b807e",
   "metadata": {
    "colab": {
     "base_uri": "https://localhost:8080/",
     "height": 597
    },
    "id": "QBkx3UKpdpDn",
    "outputId": "143a7380-c824-42ac-c315-299a6cc924a0"
   },
   "outputs": [
    {
     "data": {
      "text/html": [
       "<div>\n",
       "<style scoped>\n",
       "    .dataframe tbody tr th:only-of-type {\n",
       "        vertical-align: middle;\n",
       "    }\n",
       "\n",
       "    .dataframe tbody tr th {\n",
       "        vertical-align: top;\n",
       "    }\n",
       "\n",
       "    .dataframe thead th {\n",
       "        text-align: right;\n",
       "    }\n",
       "</style>\n",
       "<table border=\"1\" class=\"dataframe\">\n",
       "  <thead>\n",
       "    <tr style=\"text-align: right;\">\n",
       "      <th></th>\n",
       "      <th>candidate</th>\n",
       "      <th>reference</th>\n",
       "    </tr>\n",
       "  </thead>\n",
       "  <tbody>\n",
       "    <tr>\n",
       "      <th>14</th>\n",
       "      <td>Dee Zee sells two different bed mats under one...</td>\n",
       "      <td>The quality, fit, and price of the received be...</td>\n",
       "    </tr>\n",
       "    <tr>\n",
       "      <th>15</th>\n",
       "      <td>The quality, fit, and price of the received be...</td>\n",
       "      <td>Dee Zee sells two different bed mats under one...</td>\n",
       "    </tr>\n",
       "    <tr>\n",
       "      <th>13</th>\n",
       "      <td>if you don't have two keys already, you will h...</td>\n",
       "      <td>you need two original working keys to program ...</td>\n",
       "    </tr>\n",
       "    <tr>\n",
       "      <th>12</th>\n",
       "      <td>you need two original working keys to program ...</td>\n",
       "      <td>if you don't have two keys already, you will h...</td>\n",
       "    </tr>\n",
       "    <tr>\n",
       "      <th>3</th>\n",
       "      <td>pushing the transponder into the new key head ...</td>\n",
       "      <td>the key head and the plastic case are integrat...</td>\n",
       "    </tr>\n",
       "    <tr>\n",
       "      <th>...</th>\n",
       "      <td>...</td>\n",
       "      <td>...</td>\n",
       "    </tr>\n",
       "    <tr>\n",
       "      <th>261</th>\n",
       "      <td>the microphone works intermittently and requir...</td>\n",
       "      <td>the microphone is not detachable and if it bre...</td>\n",
       "    </tr>\n",
       "    <tr>\n",
       "      <th>265</th>\n",
       "      <td>the headset's sound quality for gaming and eve...</td>\n",
       "      <td>these headsets can be used for everything, inc...</td>\n",
       "    </tr>\n",
       "    <tr>\n",
       "      <th>264</th>\n",
       "      <td>these headsets can be used for everything, inc...</td>\n",
       "      <td>the headset's sound quality for gaming and eve...</td>\n",
       "    </tr>\n",
       "    <tr>\n",
       "      <th>267</th>\n",
       "      <td>Infamous Second Son has impressive graphics an...</td>\n",
       "      <td>Infamous Second Son offers a bigger game with ...</td>\n",
       "    </tr>\n",
       "    <tr>\n",
       "      <th>266</th>\n",
       "      <td>Infamous Second Son offers a bigger game with ...</td>\n",
       "      <td>Infamous Second Son has impressive graphics an...</td>\n",
       "    </tr>\n",
       "  </tbody>\n",
       "</table>\n",
       "<p>268 rows × 2 columns</p>\n",
       "</div>"
      ],
      "text/plain": [
       "                                             candidate  \\\n",
       "14   Dee Zee sells two different bed mats under one...   \n",
       "15   The quality, fit, and price of the received be...   \n",
       "13   if you don't have two keys already, you will h...   \n",
       "12   you need two original working keys to program ...   \n",
       "3    pushing the transponder into the new key head ...   \n",
       "..                                                 ...   \n",
       "261  the microphone works intermittently and requir...   \n",
       "265  the headset's sound quality for gaming and eve...   \n",
       "264  these headsets can be used for everything, inc...   \n",
       "267  Infamous Second Son has impressive graphics an...   \n",
       "266  Infamous Second Son offers a bigger game with ...   \n",
       "\n",
       "                                             reference  \n",
       "14   The quality, fit, and price of the received be...  \n",
       "15   Dee Zee sells two different bed mats under one...  \n",
       "13   you need two original working keys to program ...  \n",
       "12   if you don't have two keys already, you will h...  \n",
       "3    the key head and the plastic case are integrat...  \n",
       "..                                                 ...  \n",
       "261  the microphone is not detachable and if it bre...  \n",
       "265  these headsets can be used for everything, inc...  \n",
       "264  the headset's sound quality for gaming and eve...  \n",
       "267  Infamous Second Son offers a bigger game with ...  \n",
       "266  Infamous Second Son has impressive graphics an...  \n",
       "\n",
       "[268 rows x 2 columns]"
      ]
     },
     "execution_count": 50,
     "metadata": {},
     "output_type": "execute_result"
    }
   ],
   "source": [
    "softp_data = merged_df.sort_values(by=['category', 'asin', 'id', 'query', 'key_point'])\n",
    "df_compare_precision = softp_data[['key_point', 'key_point_given']].rename(columns={'key_point': 'candidate', 'key_point_given': 'reference'})\n",
    "df_compare_precision"
   ]
  },
  {
   "cell_type": "code",
   "execution_count": 51,
   "id": "b6b7a8a3",
   "metadata": {
    "id": "Z1zLYKjRe3SW"
   },
   "outputs": [],
   "source": [
    "candidates = df_compare_precision['candidate']\n",
    "references = df_compare_precision['reference']"
   ]
  },
  {
   "cell_type": "code",
   "execution_count": 52,
   "id": "3095bdfb",
   "metadata": {
    "id": "QVexlsL6mN4Y"
   },
   "outputs": [],
   "source": [
    "import tensorflow as tf"
   ]
  },
  {
   "cell_type": "code",
   "execution_count": 53,
   "id": "7cee38ae",
   "metadata": {
    "colab": {
     "base_uri": "https://localhost:8080/"
    },
    "id": "mmVAbBVfmQjW",
    "outputId": "1a716874-3571-4544-9364-ea48625ff08c"
   },
   "outputs": [
    {
     "name": "stdout",
     "output_type": "stream",
     "text": [
      "Num GPUs Available:  1\n"
     ]
    }
   ],
   "source": [
    "print(\"Num GPUs Available: \", len(tf.config.list_physical_devices('GPU')))"
   ]
  },
  {
   "cell_type": "code",
   "execution_count": 54,
   "id": "6848fd7f",
   "metadata": {
    "colab": {
     "base_uri": "https://localhost:8080/"
    },
    "id": "i4jdGVuOmNuA",
    "outputId": "eedfb583-279a-497a-e67e-353a8b4fd185"
   },
   "outputs": [
    {
     "name": "stdout",
     "output_type": "stream",
     "text": [
      "[name: \"/device:CPU:0\"\n",
      "device_type: \"CPU\"\n",
      "memory_limit: 268435456\n",
      "locality {\n",
      "}\n",
      "incarnation: 16437338414538392554\n",
      "xla_global_id: -1\n",
      ", name: \"/device:GPU:0\"\n",
      "device_type: \"GPU\"\n",
      "memory_limit: 19425918976\n",
      "locality {\n",
      "  bus_id: 1\n",
      "  links {\n",
      "  }\n",
      "}\n",
      "incarnation: 7868647629857499368\n",
      "physical_device_desc: \"device: 0, name: NVIDIA GeForce RTX 4090, pci bus id: 0000:01:00.0, compute capability: 8.9\"\n",
      "xla_global_id: 416903419\n",
      "]\n"
     ]
    },
    {
     "name": "stderr",
     "output_type": "stream",
     "text": [
      "2025-02-22 03:21:09.585987: I external/local_xla/xla/stream_executor/cuda/cuda_executor.cc:887] could not open file to read NUMA node: /sys/bus/pci/devices/0000:01:00.0/numa_node\n",
      "Your kernel may have been built without NUMA support.\n",
      "2025-02-22 03:21:09.586304: I external/local_xla/xla/stream_executor/cuda/cuda_executor.cc:887] could not open file to read NUMA node: /sys/bus/pci/devices/0000:01:00.0/numa_node\n",
      "Your kernel may have been built without NUMA support.\n",
      "2025-02-22 03:21:09.586536: I external/local_xla/xla/stream_executor/cuda/cuda_executor.cc:887] could not open file to read NUMA node: /sys/bus/pci/devices/0000:01:00.0/numa_node\n",
      "Your kernel may have been built without NUMA support.\n",
      "2025-02-22 03:21:09.587019: I external/local_xla/xla/stream_executor/cuda/cuda_executor.cc:887] could not open file to read NUMA node: /sys/bus/pci/devices/0000:01:00.0/numa_node\n",
      "Your kernel may have been built without NUMA support.\n",
      "2025-02-22 03:21:09.587028: I tensorflow/core/common_runtime/gpu/gpu_device.cc:2022] Could not identify NUMA node of platform GPU id 0, defaulting to 0.  Your kernel may not have been built with NUMA support.\n",
      "2025-02-22 03:21:09.587255: I external/local_xla/xla/stream_executor/cuda/cuda_executor.cc:887] could not open file to read NUMA node: /sys/bus/pci/devices/0000:01:00.0/numa_node\n",
      "Your kernel may have been built without NUMA support.\n",
      "2025-02-22 03:21:09.587274: I tensorflow/core/common_runtime/gpu/gpu_device.cc:1929] Created device /device:GPU:0 with 18526 MB memory:  -> device: 0, name: NVIDIA GeForce RTX 4090, pci bus id: 0000:01:00.0, compute capability: 8.9\n"
     ]
    }
   ],
   "source": [
    "from tensorflow.python.client import device_lib\n",
    "print(device_lib.list_local_devices())"
   ]
  },
  {
   "cell_type": "code",
   "execution_count": 55,
   "id": "c37d207e",
   "metadata": {
    "id": "yxZzGXfemnxF",
    "scrolled": true
   },
   "outputs": [
    {
     "name": "stdout",
     "output_type": "stream",
     "text": [
      "INFO:tensorflow:Reading checkpoint /mnt/d/Desktop/PHD READING/QQSUMM/evaluation/KeyPoint-Analysis/KPG/BLEURT-20.\n",
      "INFO:tensorflow:Config file found, reading.\n",
      "INFO:tensorflow:Will load checkpoint BLEURT-20\n",
      "INFO:tensorflow:Loads full paths and checks that files exists.\n",
      "INFO:tensorflow:... name:BLEURT-20\n",
      "INFO:tensorflow:... bert_config_file:bert_config.json\n",
      "INFO:tensorflow:... max_seq_length:512\n",
      "INFO:tensorflow:... vocab_file:None\n",
      "INFO:tensorflow:... do_lower_case:None\n",
      "INFO:tensorflow:... sp_model:sent_piece\n",
      "INFO:tensorflow:... dynamic_seq_length:True\n",
      "INFO:tensorflow:Creating BLEURT scorer.\n",
      "INFO:tensorflow:Creating SentencePiece tokenizer.\n",
      "INFO:tensorflow:Creating SentencePiece tokenizer.\n",
      "INFO:tensorflow:Will load model: /mnt/d/Desktop/PHD READING/QQSUMM/evaluation/KeyPoint-Analysis/KPG/BLEURT-20/sent_piece.model.\n",
      "INFO:tensorflow:SentencePiece tokenizer created.\n",
      "INFO:tensorflow:Creating Eager Mode predictor.\n",
      "INFO:tensorflow:Loading model.\n"
     ]
    },
    {
     "name": "stderr",
     "output_type": "stream",
     "text": [
      "2025-02-22 03:21:11.814894: I external/local_xla/xla/stream_executor/cuda/cuda_executor.cc:887] could not open file to read NUMA node: /sys/bus/pci/devices/0000:01:00.0/numa_node\n",
      "Your kernel may have been built without NUMA support.\n",
      "2025-02-22 03:21:11.815346: I external/local_xla/xla/stream_executor/cuda/cuda_executor.cc:887] could not open file to read NUMA node: /sys/bus/pci/devices/0000:01:00.0/numa_node\n",
      "Your kernel may have been built without NUMA support.\n",
      "2025-02-22 03:21:11.815682: I external/local_xla/xla/stream_executor/cuda/cuda_executor.cc:887] could not open file to read NUMA node: /sys/bus/pci/devices/0000:01:00.0/numa_node\n",
      "Your kernel may have been built without NUMA support.\n",
      "2025-02-22 03:21:11.816278: I external/local_xla/xla/stream_executor/cuda/cuda_executor.cc:887] could not open file to read NUMA node: /sys/bus/pci/devices/0000:01:00.0/numa_node\n",
      "Your kernel may have been built without NUMA support.\n",
      "2025-02-22 03:21:11.816289: I tensorflow/core/common_runtime/gpu/gpu_device.cc:2022] Could not identify NUMA node of platform GPU id 0, defaulting to 0.  Your kernel may not have been built with NUMA support.\n",
      "2025-02-22 03:21:11.816610: I external/local_xla/xla/stream_executor/cuda/cuda_executor.cc:887] could not open file to read NUMA node: /sys/bus/pci/devices/0000:01:00.0/numa_node\n",
      "Your kernel may have been built without NUMA support.\n",
      "2025-02-22 03:21:11.816629: I tensorflow/core/common_runtime/gpu/gpu_device.cc:1929] Created device /job:localhost/replica:0/task:0/device:GPU:0 with 18526 MB memory:  -> device: 0, name: NVIDIA GeForce RTX 4090, pci bus id: 0000:01:00.0, compute capability: 8.9\n"
     ]
    },
    {
     "name": "stdout",
     "output_type": "stream",
     "text": [
      "INFO:tensorflow:BLEURT initialized.\n"
     ]
    },
    {
     "name": "stderr",
     "output_type": "stream",
     "text": [
      "INFO:tensorflow:BLEURT initialized.\n"
     ]
    }
   ],
   "source": [
    "result = calculatingScore(references, candidates)\n",
    "df_compare_precision[\"BLEURT Score\"] = result\n",
    "\n",
    "#After calculating the semantic quality of all candidates and reference pairs, the one with the highest score is selected as the correct pair.\n",
    "df_bestkp_pair_precision = df_compare_precision.loc[df_compare_precision.groupby([\"candidate\"])[\"BLEURT Score\"].idxmax()]\n",
    "#take average of all best scores as the soft precision score.\n",
    "P_average = df_bestkp_pair_precision[\"BLEURT Score\"].mean()"
   ]
  },
  {
   "cell_type": "code",
   "execution_count": 56,
   "id": "a2bf5eea",
   "metadata": {},
   "outputs": [
    {
     "data": {
      "text/plain": [
       "0.4891105825667615"
      ]
     },
     "execution_count": 56,
     "metadata": {},
     "output_type": "execute_result"
    }
   ],
   "source": [
    "P_average"
   ]
  },
  {
   "cell_type": "code",
   "execution_count": null,
   "id": "faf771cd",
   "metadata": {},
   "outputs": [],
   "source": []
  }
 ],
 "metadata": {
  "kernelspec": {
   "display_name": "Python 3 (ipykernel)",
   "language": "python",
   "name": "python3"
  },
  "language_info": {
   "codemirror_mode": {
    "name": "ipython",
    "version": 3
   },
   "file_extension": ".py",
   "mimetype": "text/x-python",
   "name": "python",
   "nbconvert_exporter": "python",
   "pygments_lexer": "ipython3",
   "version": "3.9.12"
  },
  "toc": {
   "base_numbering": 1,
   "nav_menu": {},
   "number_sections": true,
   "sideBar": true,
   "skip_h1_title": false,
   "title_cell": "Table of Contents",
   "title_sidebar": "Contents",
   "toc_cell": false,
   "toc_position": {
    "height": "calc(100% - 180px)",
    "left": "10px",
    "top": "150px",
    "width": "372.325px"
   },
   "toc_section_display": true,
   "toc_window_display": true
  }
 },
 "nbformat": 4,
 "nbformat_minor": 5
}
