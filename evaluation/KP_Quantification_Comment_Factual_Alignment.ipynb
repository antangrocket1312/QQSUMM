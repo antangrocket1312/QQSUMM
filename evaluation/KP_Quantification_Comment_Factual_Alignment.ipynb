{
 "cells": [
  {
   "cell_type": "markdown",
   "id": "787edaba",
   "metadata": {},
   "source": [
    "# Import"
   ]
  },
  {
   "cell_type": "code",
   "execution_count": 1,
   "id": "f46e9f90",
   "metadata": {},
   "outputs": [],
   "source": [
    "import pandas as pd\n",
    "import re\n",
    "import ast\n",
    "import json\n",
    "import statistics\n",
    "import openai\n",
    "from multiprocessing import Pool\n",
    "openai.api_key = \"YOUR API KEY\""
   ]
  },
  {
   "cell_type": "code",
   "execution_count": 2,
   "id": "a84143ed",
   "metadata": {},
   "outputs": [],
   "source": [
    "import os\n",
    "import sys\n",
    "sys.path.insert(1, '../')\n",
    "from utils.prompting import *\n",
    "from utils.postprocessing import *\n",
    "from utils.g_eval import *"
   ]
  },
  {
   "cell_type": "markdown",
   "id": "6259c73c",
   "metadata": {},
   "source": [
    "# Read Predicted Summary"
   ]
  },
  {
   "cell_type": "code",
   "execution_count": 3,
   "id": "ebfc0541",
   "metadata": {},
   "outputs": [],
   "source": [
    "qqsum_output_path = \"../output/atlas-xl-seed2-lgret-lglm\""
   ]
  },
  {
   "cell_type": "code",
   "execution_count": 4,
   "id": "b79af47c",
   "metadata": {},
   "outputs": [],
   "source": [
    "ground_truth_df = pd.read_pickle(\"../data/test/test.pkl\")\n",
    "ground_truth_df = ground_truth_df.drop(columns=['reviews', 'reviewText', 'title', 'fact_check_article'])\n",
    "ground_truth_df['retrieved_relevant_sent_len'] = ground_truth_df['retrieved_relevant_sent'].str.len()\n",
    "\n",
    "predicted_df = pd.read_json(qqsum_output_path + \"/test-result.jsonl\", lines=True)\n",
    "predicted_df['passages'] = predicted_df['passages'].apply(lambda x: [pas['text'] for pas in x])\n",
    "predicted_df['passages_len'] = predicted_df['passages'].str.len()\n",
    "predicted_df = predicted_df[['query', 'generation', 'passages', 'passages_scores', 'passages_len', 'comment_clusters', 'id']]\n",
    "df = ground_truth_df.merge(predicted_df, on=['query', 'id'])"
   ]
  },
  {
   "cell_type": "code",
   "execution_count": 5,
   "id": "dfc3a9ad",
   "metadata": {},
   "outputs": [],
   "source": [
    "# df = df[df['passages'].str.len() > 0]\n",
    "# df['passages_scores_min_thres_ref_ground'] = df.apply(lambda row: row['passages_scores'][:len(row['retrieved_relevant_sent'])][-1], axis=1)\n",
    "# df['passages_scores_min_thres_ref_ground'].mean()"
   ]
  },
  {
   "cell_type": "code",
   "execution_count": 6,
   "id": "b35c902c",
   "metadata": {},
   "outputs": [],
   "source": [
    "df['summary'] = df['generation'].apply(lambda x: re.findall(\"\\[\\/INST\\] *((.+\\n*)+)$\", x)[0][0].replace(\"</s>\", \"\"))\n",
    "df['summary'] = df['summary'].apply(lambda x: re.sub(\"(Therefore|Thus)(.+\\n*)+$\", \"\", x))\n",
    "df['final_summary'] = df['summary'].apply(lambda x: re.findall(\"(While[^\\n]+\\n+(\\+ *[0-9]+[^\\n]+\\n*)+)\", x))\n",
    "df['final_summary'] = df['final_summary'].apply(lambda x: [e[0] for e in x])\n",
    "df['final_summary_text'] = df['final_summary'].apply(lambda x: \"\\n\\n\".join(x[:1]))"
   ]
  },
  {
   "cell_type": "markdown",
   "id": "3f64317a",
   "metadata": {},
   "source": [
    "## Post-process summary into KPs"
   ]
  },
  {
   "cell_type": "markdown",
   "id": "dafe004d",
   "metadata": {},
   "source": [
    "### Trial"
   ]
  },
  {
   "cell_type": "code",
   "execution_count": 7,
   "id": "75a7105e",
   "metadata": {},
   "outputs": [
    {
     "name": "stdout",
     "output_type": "stream",
     "text": [
      "3609\n"
     ]
    },
    {
     "data": {
      "text/plain": [
       "'```json\\n[{\"key_point\": \"The old key components need to be taken to a locksmith or dealership to be reprogrammed and cut to fit the new key head.\", \"prevalence\": \"7\"}]\\n```'"
      ]
     },
     "execution_count": 7,
     "metadata": {},
     "output_type": "execute_result"
    }
   ],
   "source": [
    "row = df.iloc[0]\n",
    "print(row['id'])\n",
    "get_kp_from_summary(row['final_summary_text'])"
   ]
  },
  {
   "cell_type": "markdown",
   "id": "c1edae8a",
   "metadata": {},
   "source": [
    "### Run"
   ]
  },
  {
   "cell_type": "code",
   "execution_count": 8,
   "id": "5faf925e",
   "metadata": {},
   "outputs": [],
   "source": [
    "from utils.postprocessing import *"
   ]
  },
  {
   "cell_type": "code",
   "execution_count": 9,
   "id": "4ed63f16",
   "metadata": {},
   "outputs": [],
   "source": [
    "df['my_category'] = 1\n",
    "num_workers = 1"
   ]
  },
  {
   "cell_type": "code",
   "execution_count": 10,
   "id": "ad6d685f",
   "metadata": {},
   "outputs": [],
   "source": [
    "# inputs = [(qqsum_output_path + \"/post_processed_cache\",\n",
    "inputs = [(qqsum_output_path + \"/post_processed_cache/rd\",\n",
    "           domain,\n",
    "           df[df['my_category'] == domain].reset_index(drop=True)\n",
    "           )\n",
    "          for domain in df['my_category'].unique()]"
   ]
  },
  {
   "cell_type": "code",
   "execution_count": 11,
   "id": "5484deec",
   "metadata": {
    "scrolled": true
   },
   "outputs": [
    {
     "name": "stdout",
     "output_type": "stream",
     "text": [
      "1 :  Loaded saved file. Done\n",
      "TIME ELAPSED 0.1891341209411621\n"
     ]
    }
   ],
   "source": [
    "start_time = time.time()\n",
    "with Pool(num_workers) as processor:\n",
    "    data = processor.starmap(prompted_claim_split_generation, inputs)\n",
    "print(\"TIME ELAPSED\", time.time() - start_time)"
   ]
  },
  {
   "cell_type": "code",
   "execution_count": 12,
   "id": "6a1c5e20",
   "metadata": {
    "scrolled": true
   },
   "outputs": [],
   "source": [
    "processed_df = pd.concat(data)\n",
    "processed_df = processed_df[processed_df['comment_clusters'].str.len() > 0]\n",
    "processed_df = processed_df[processed_df['final_summary'].str.len() > 0]"
   ]
  },
  {
   "cell_type": "code",
   "execution_count": 13,
   "id": "9525ce3b",
   "metadata": {},
   "outputs": [],
   "source": [
    "processed_df['claim_split_predicted'] = processed_df['claim_split_predicted'].apply(lambda x: re.sub(r\"\\n+ *\", \"\", x.replace(\"json\", \"\").replace(\"`\", \"\")))\n",
    "mask = processed_df['claim_split_predicted'].apply(lambda x: len(re.findall(r\"(: *)\\'((?:[^':]*\\'+[^':,]*)+)\\'( *)\", x, re.DOTALL)) > 0)\n",
    "processed_df.loc[mask, 'claim_split_predicted'] = processed_df.loc[mask, 'claim_split_predicted'].apply(\n",
    "    lambda x: re.sub(r\"(: *)\\'((?:[^':]*\\'+[^':]*)+)\\'( *,)\", r'\\1\"\"\"\\2\"\"\"\\3', x))\n",
    "processed_df['claim_split_predicted'] = processed_df['claim_split_predicted'].apply(extract_claims)"
   ]
  },
  {
   "cell_type": "code",
   "execution_count": 14,
   "id": "e007b1b4",
   "metadata": {},
   "outputs": [],
   "source": [
    "processed_df = processed_df.reset_index(drop=True)"
   ]
  },
  {
   "cell_type": "code",
   "execution_count": 15,
   "id": "ae997845",
   "metadata": {},
   "outputs": [],
   "source": [
    "processed_df = processed_df.apply(match_claim_with_cluster, axis=1)"
   ]
  },
  {
   "cell_type": "code",
   "execution_count": 16,
   "id": "9c8e6934",
   "metadata": {},
   "outputs": [],
   "source": [
    "kp_matching_df = pd.json_normalize(\n",
    "    processed_df.to_dict(orient='records'), \n",
    "    \"matching_comment_clusters\", [\"asin\", \"id\", \"query\", \"passages\", 'passages_len', 'final_summary_text']\n",
    ")"
   ]
  },
  {
   "cell_type": "code",
   "execution_count": 17,
   "id": "9e5f283b",
   "metadata": {
    "scrolled": true
   },
   "outputs": [],
   "source": [
    "kp_matching_df = kp_matching_df[kp_matching_df['prevalence'] >= 3]"
   ]
  },
  {
   "cell_type": "markdown",
   "id": "779246c3",
   "metadata": {},
   "source": [
    "# Factual Alignment"
   ]
  },
  {
   "cell_type": "code",
   "execution_count": 18,
   "id": "0fd31cc4",
   "metadata": {},
   "outputs": [],
   "source": [
    "evaluation_df = kp_matching_df"
   ]
  },
  {
   "cell_type": "markdown",
   "id": "74eb5c80",
   "metadata": {},
   "source": [
    "## AlignScore"
   ]
  },
  {
   "cell_type": "code",
   "execution_count": 19,
   "id": "3fc20f70",
   "metadata": {},
   "outputs": [
    {
     "name": "stderr",
     "output_type": "stream",
     "text": [
      "/home/an/anaconda3/envs/deep_learning_env_22/lib/python3.9/site-packages/fairscale/experimental/nn/offload.py:19: FutureWarning: `torch.cuda.amp.custom_fwd(args...)` is deprecated. Please use `torch.amp.custom_fwd(args..., device_type='cuda')` instead.\n",
      "  return torch.cuda.amp.custom_fwd(orig_func)  # type: ignore\n",
      "/home/an/anaconda3/envs/deep_learning_env_22/lib/python3.9/site-packages/fairscale/experimental/nn/offload.py:30: FutureWarning: `torch.cuda.amp.custom_bwd(args...)` is deprecated. Please use `torch.amp.custom_bwd(args..., device_type='cuda')` instead.\n",
      "  return torch.cuda.amp.custom_bwd(orig_func)  # type: ignore\n"
     ]
    }
   ],
   "source": [
    "from alignscore import AlignScore"
   ]
  },
  {
   "cell_type": "code",
   "execution_count": 20,
   "id": "85421824",
   "metadata": {},
   "outputs": [
    {
     "name": "stderr",
     "output_type": "stream",
     "text": [
      "Some weights of RobertaModel were not initialized from the model checkpoint at roberta-base and are newly initialized: ['roberta.pooler.dense.bias', 'roberta.pooler.dense.weight']\n",
      "You should probably TRAIN this model on a down-stream task to be able to use it for predictions and inference.\n",
      "/home/an/anaconda3/envs/deep_learning_env_22/lib/python3.9/site-packages/lightning_fabric/utilities/cloud_io.py:51: FutureWarning: You are using `torch.load` with `weights_only=False` (the current default value), which uses the default pickle module implicitly. It is possible to construct malicious pickle data which will execute arbitrary code during unpickling (See https://github.com/pytorch/pytorch/blob/main/SECURITY.md#untrusted-models for more details). In a future release, the default value for `weights_only` will be flipped to `True`. This limits the functions that could be executed during unpickling. Arbitrary objects will no longer be allowed to be loaded via this mode unless they are explicitly allowlisted by the user via `torch.serialization.add_safe_globals`. We recommend you start setting `weights_only=True` for any use case where you don't have full control of the loaded file. Please open an issue on GitHub for any issues related to this experimental feature.\n",
      "  return torch.load(f, map_location=map_location)  # type: ignore[arg-type]\n",
      "Lightning automatically upgraded your loaded checkpoint from v1.7.7 to v1.9.5. To apply the upgrade to your files permanently, run `python -m pytorch_lightning.utilities.upgrade_checkpoint --file AlignScore/checkpoints/AlignScore-base.ckpt`\n",
      "Some weights of RobertaModel were not initialized from the model checkpoint at roberta-base and are newly initialized: ['roberta.pooler.dense.bias', 'roberta.pooler.dense.weight']\n",
      "You should probably TRAIN this model on a down-stream task to be able to use it for predictions and inference.\n",
      "/home/an/anaconda3/envs/deep_learning_env_22/lib/python3.9/site-packages/pytorch_lightning/core/saving.py:255: UserWarning: Found keys that are not in the model state dict but in the checkpoint: ['base_model.embeddings.position_ids']\n",
      "  rank_zero_warn(\n",
      "/home/an/anaconda3/envs/deep_learning_env_22/lib/python3.9/site-packages/transformers/tokenization_utils_base.py:1601: FutureWarning: `clean_up_tokenization_spaces` was not set. It will be set to `True` by default. This behavior will be depracted in transformers v4.45, and will be then set to `False` by default. For more details check this issue: https://github.com/huggingface/transformers/issues/31884\n",
      "  warnings.warn(\n"
     ]
    }
   ],
   "source": [
    "align_scorer = AlignScore(\n",
    "    model='roberta-base', \n",
    "    batch_size=8,\n",
    "    device='cuda:0',\n",
    "    ckpt_path='./AlignScore/checkpoints/AlignScore-base.ckpt', \n",
    "    evaluation_mode='nli_sp'\n",
    ")"
   ]
  },
  {
   "cell_type": "code",
   "execution_count": 21,
   "id": "2274e779",
   "metadata": {},
   "outputs": [],
   "source": [
    "evaluation_df['context'] = evaluation_df['comments'].apply(lambda x: \" \".join(x))"
   ]
  },
  {
   "cell_type": "code",
   "execution_count": 22,
   "id": "ab900a17",
   "metadata": {},
   "outputs": [
    {
     "name": "stderr",
     "output_type": "stream",
     "text": [
      "Evaluating: 100%|███████████████████████████████████████████████████████████████████████████████████████████████████████████████████████████████████████████████████████████████| 197/197 [00:02<00:00, 68.45it/s]\n"
     ]
    }
   ],
   "source": [
    "results = align_scorer.score(\n",
    "    contexts=evaluation_df['context'].tolist(),\n",
    "    claims=evaluation_df['key_point'].tolist(),\n",
    ")"
   ]
  },
  {
   "cell_type": "code",
   "execution_count": 23,
   "id": "3858b6e9",
   "metadata": {
    "scrolled": true
   },
   "outputs": [],
   "source": [
    "evaluation_df['align_score'] = results"
   ]
  },
  {
   "cell_type": "code",
   "execution_count": 24,
   "id": "df95b192",
   "metadata": {},
   "outputs": [
    {
     "name": "stderr",
     "output_type": "stream",
     "text": [
      "/tmp/ipykernel_14589/3623272749.py:1: DeprecationWarning: DataFrameGroupBy.apply operated on the grouping columns. This behavior is deprecated, and in a future version of pandas the grouping columns will be excluded from the operation. Either pass `include_groups=False` to exclude the groupings or explicitly select the grouping columns after groupby to silence this warning.\n",
      "  eval_results = evaluation_df.groupby(['id']).apply(lambda grp: grp['align_score'].mean()).reset_index()\n"
     ]
    },
    {
     "data": {
      "text/plain": [
       "0.7487860343402906"
      ]
     },
     "execution_count": 24,
     "metadata": {},
     "output_type": "execute_result"
    }
   ],
   "source": [
    "eval_results = evaluation_df.groupby(['id']).apply(lambda grp: grp['align_score'].mean()).reset_index()\n",
    "eval_results = eval_results.rename(columns={0: 'precision'})\n",
    "eval_results['precision'].mean()"
   ]
  },
  {
   "cell_type": "code",
   "execution_count": null,
   "id": "faf771cd",
   "metadata": {},
   "outputs": [],
   "source": []
  }
 ],
 "metadata": {
  "kernelspec": {
   "display_name": "Python 3 (ipykernel)",
   "language": "python",
   "name": "python3"
  },
  "language_info": {
   "codemirror_mode": {
    "name": "ipython",
    "version": 3
   },
   "file_extension": ".py",
   "mimetype": "text/x-python",
   "name": "python",
   "nbconvert_exporter": "python",
   "pygments_lexer": "ipython3",
   "version": "3.9.18"
  },
  "toc": {
   "base_numbering": 1,
   "nav_menu": {},
   "number_sections": true,
   "sideBar": true,
   "skip_h1_title": false,
   "title_cell": "Table of Contents",
   "title_sidebar": "Contents",
   "toc_cell": false,
   "toc_position": {
    "height": "calc(100% - 180px)",
    "left": "10px",
    "top": "150px",
    "width": "372.325px"
   },
   "toc_section_display": true,
   "toc_window_display": true
  }
 },
 "nbformat": 4,
 "nbformat_minor": 5
}
