{
 "cells": [
  {
   "cell_type": "markdown",
   "id": "1d4926b2",
   "metadata": {},
   "source": [
    "# Import"
   ]
  },
  {
   "cell_type": "code",
   "execution_count": 1,
   "id": "f46e9f90",
   "metadata": {
    "scrolled": true
   },
   "outputs": [
    {
     "name": "stderr",
     "output_type": "stream",
     "text": [
      "<frozen importlib._bootstrap>:228: RuntimeWarning: scipy._lib.messagestream.MessageStream size changed, may indicate binary incompatibility. Expected 56 from C header, got 64 from PyObject\n",
      "2025-02-22 02:33:19.558607: I tensorflow/core/util/port.cc:113] oneDNN custom operations are on. You may see slightly different numerical results due to floating-point round-off errors from different computation orders. To turn them off, set the environment variable `TF_ENABLE_ONEDNN_OPTS=0`.\n",
      "2025-02-22 02:33:19.584875: E external/local_xla/xla/stream_executor/cuda/cuda_dnn.cc:9261] Unable to register cuDNN factory: Attempting to register factory for plugin cuDNN when one has already been registered\n",
      "2025-02-22 02:33:19.584900: E external/local_xla/xla/stream_executor/cuda/cuda_fft.cc:607] Unable to register cuFFT factory: Attempting to register factory for plugin cuFFT when one has already been registered\n",
      "2025-02-22 02:33:19.585588: E external/local_xla/xla/stream_executor/cuda/cuda_blas.cc:1515] Unable to register cuBLAS factory: Attempting to register factory for plugin cuBLAS when one has already been registered\n",
      "2025-02-22 02:33:19.590521: I tensorflow/core/platform/cpu_feature_guard.cc:182] This TensorFlow binary is optimized to use available CPU instructions in performance-critical operations.\n",
      "To enable the following instructions: AVX2 AVX_VNNI FMA, in other operations, rebuild TensorFlow with the appropriate compiler flags.\n",
      "2025-02-22 02:33:20.144298: W tensorflow/compiler/tf2tensorrt/utils/py_utils.cc:38] TF-TRT Warning: Could not find TensorRT\n",
      "Some weights of the model checkpoint at roberta-large were not used when initializing RobertaModel: ['lm_head.layer_norm.weight', 'lm_head.bias', 'lm_head.layer_norm.bias', 'lm_head.dense.weight', 'lm_head.decoder.weight', 'lm_head.dense.bias']\n",
      "- This IS expected if you are initializing RobertaModel from the checkpoint of a model trained on another task or with another architecture (e.g. initializing a BertForSequenceClassification model from a BertForPreTraining model).\n",
      "- This IS NOT expected if you are initializing RobertaModel from the checkpoint of a model that you expect to be exactly identical (initializing a BertForSequenceClassification model from a BertForSequenceClassification model).\n"
     ]
    }
   ],
   "source": [
    "import os\n",
    "import sys\n",
    "module_path = os.path.join(\"./KeyPoint-Analysis/KPG/\")\n",
    "sys.path.insert(0, module_path)\n",
    "from rouge_setbase import preprocess_dataset, compute_rouge, compute_rouge_max\n",
    "from softF1 import softevaluation\n",
    "root_dir_pth = \"../\""
   ]
  },
  {
   "cell_type": "code",
   "execution_count": 2,
   "id": "7dec36d3",
   "metadata": {},
   "outputs": [],
   "source": [
    "sys.path.insert(1, '../')\n",
    "from utils.prompting import *\n",
    "from utils.postprocessing import *\n",
    "from utils.g_eval import *"
   ]
  },
  {
   "cell_type": "code",
   "execution_count": 3,
   "id": "724eced1",
   "metadata": {},
   "outputs": [],
   "source": [
    "import pandas as pd\n",
    "import re\n",
    "import ast\n",
    "import json\n",
    "import statistics\n",
    "import openai\n",
    "from multiprocessing import Pool\n",
    "openai.api_key = \"YOUR API KEY\""
   ]
  },
  {
   "cell_type": "markdown",
   "id": "6259c73c",
   "metadata": {},
   "source": [
    "# Read Predicted Summary"
   ]
  },
  {
   "cell_type": "code",
   "execution_count": 4,
   "id": "ebfc0541",
   "metadata": {},
   "outputs": [],
   "source": [
    "qqsum_output_path = \"../output/atlas-xl-seed2-lgret-lglm\""
   ]
  },
  {
   "cell_type": "code",
   "execution_count": 5,
   "id": "b79af47c",
   "metadata": {},
   "outputs": [],
   "source": [
    "ground_truth_df = pd.read_pickle(\"../data/test/test.pkl\")\n",
    "ground_truth_df = ground_truth_df.drop(columns=['reviews', 'reviewText', 'title', 'fact_check_article'])\n",
    "ground_truth_df['retrieved_relevant_sent_len'] = ground_truth_df['retrieved_relevant_sent'].str.len()\n",
    "\n",
    "predicted_df = pd.read_json(qqsum_output_path + \"/test-result.jsonl\", lines=True)\n",
    "predicted_df['passages'] = predicted_df['passages'].apply(lambda x: [pas['text'] for pas in x])\n",
    "predicted_df['passages_len'] = predicted_df['passages'].str.len()\n",
    "predicted_df = predicted_df[['query', 'generation', 'passages', 'passages_scores', 'passages_len', 'comment_clusters', 'id']]\n",
    "df = ground_truth_df.merge(predicted_df, on=['query', 'id'])"
   ]
  },
  {
   "cell_type": "code",
   "execution_count": 6,
   "id": "dfc3a9ad",
   "metadata": {},
   "outputs": [],
   "source": [
    "# df = df[df['passages'].str.len() > 0]\n",
    "# df['passages_scores_min_thres_ref_ground'] = df.apply(lambda row: row['passages_scores'][:len(row['retrieved_relevant_sent'])][-1], axis=1)\n",
    "# df['passages_scores_min_thres_ref_ground'].mean()"
   ]
  },
  {
   "cell_type": "code",
   "execution_count": 7,
   "id": "b35c902c",
   "metadata": {},
   "outputs": [],
   "source": [
    "df['summary'] = df['generation'].apply(lambda x: re.findall(\"\\[\\/INST\\] *((.+\\n*)+)$\", x)[0][0].replace(\"</s>\", \"\"))\n",
    "df['summary'] = df['summary'].apply(lambda x: re.sub(\"(Therefore|Thus)(.+\\n*)+$\", \"\", x))\n",
    "df['final_summary'] = df['summary'].apply(lambda x: re.findall(\"(While[^\\n]+\\n+(\\+ *[0-9]+[^\\n]+\\n*)+)\", x))\n",
    "df['final_summary'] = df['final_summary'].apply(lambda x: [e[0] for e in x])\n",
    "df['final_summary_text'] = df['final_summary'].apply(lambda x: \"\\n\\n\".join(x[:1]))"
   ]
  },
  {
   "cell_type": "markdown",
   "id": "3f64317a",
   "metadata": {},
   "source": [
    "## Post-process summary into KPs"
   ]
  },
  {
   "cell_type": "markdown",
   "id": "dafe004d",
   "metadata": {},
   "source": [
    "### Trial"
   ]
  },
  {
   "cell_type": "code",
   "execution_count": 8,
   "id": "75a7105e",
   "metadata": {},
   "outputs": [
    {
     "name": "stdout",
     "output_type": "stream",
     "text": [
      "3609\n"
     ]
    },
    {
     "data": {
      "text/plain": [
       "'```json\\n[{\"key_point\": \"the old key components need to be taken to a locksmith or dealership to be reprogrammed and cut to fit the new key head\", \"prevalence\": \"7\"}]\\n```'"
      ]
     },
     "execution_count": 8,
     "metadata": {},
     "output_type": "execute_result"
    }
   ],
   "source": [
    "row = df.iloc[0]\n",
    "print(row['id'])\n",
    "get_kp_from_summary(row['final_summary_text'])"
   ]
  },
  {
   "cell_type": "markdown",
   "id": "c1edae8a",
   "metadata": {},
   "source": [
    "### Run"
   ]
  },
  {
   "cell_type": "code",
   "execution_count": 9,
   "id": "5faf925e",
   "metadata": {},
   "outputs": [],
   "source": [
    "from utils.postprocessing import *"
   ]
  },
  {
   "cell_type": "code",
   "execution_count": 10,
   "id": "4ed63f16",
   "metadata": {},
   "outputs": [],
   "source": [
    "df['my_category'] = 1\n",
    "num_workers = 1"
   ]
  },
  {
   "cell_type": "code",
   "execution_count": 11,
   "id": "ad6d685f",
   "metadata": {},
   "outputs": [],
   "source": [
    "inputs = [(qqsum_output_path + \"/post_processed_cache\",\n",
    "           domain,\n",
    "           df[df['my_category'] == domain].reset_index(drop=True)\n",
    "           )\n",
    "          for domain in df['my_category'].unique()]"
   ]
  },
  {
   "cell_type": "code",
   "execution_count": 12,
   "id": "5484deec",
   "metadata": {
    "scrolled": true
   },
   "outputs": [
    {
     "name": "stdout",
     "output_type": "stream",
     "text": [
      "1 :  Loaded saved file. Done\n",
      "TIME ELAPSED 0.12425708770751953\n"
     ]
    }
   ],
   "source": [
    "start_time = time.time()\n",
    "with Pool(num_workers) as processor:\n",
    "    data = processor.starmap(prompted_claim_split_generation, inputs)\n",
    "print(\"TIME ELAPSED\", time.time() - start_time)"
   ]
  },
  {
   "cell_type": "code",
   "execution_count": 13,
   "id": "6a1c5e20",
   "metadata": {
    "scrolled": true
   },
   "outputs": [],
   "source": [
    "processed_df = pd.concat(data)\n",
    "processed_df = processed_df[processed_df['comment_clusters'].str.len() > 0]\n",
    "processed_df = processed_df[processed_df['final_summary'].str.len() > 0]"
   ]
  },
  {
   "cell_type": "code",
   "execution_count": 14,
   "id": "9525ce3b",
   "metadata": {},
   "outputs": [],
   "source": [
    "processed_df['claim_split_predicted'] = processed_df['claim_split_predicted'].apply(lambda x: re.sub(r\"\\n+ *\", \"\", x.replace(\"json\", \"\").replace(\"`\", \"\")))\n",
    "mask = processed_df['claim_split_predicted'].apply(lambda x: len(re.findall(r\"(: *)\\'((?:[^':]*\\'+[^':,]*)+)\\'( *)\", x, re.DOTALL)) > 0)\n",
    "processed_df.loc[mask, 'claim_split_predicted'] = processed_df.loc[mask, 'claim_split_predicted'].apply(\n",
    "    lambda x: re.sub(r\"(: *)\\'((?:[^':]*\\'+[^':]*)+)\\'( *,)\", r'\\1\"\"\"\\2\"\"\"\\3', x))\n",
    "processed_df['claim_split_predicted'] = processed_df['claim_split_predicted'].apply(extract_claims)"
   ]
  },
  {
   "cell_type": "code",
   "execution_count": 15,
   "id": "e007b1b4",
   "metadata": {},
   "outputs": [],
   "source": [
    "processed_df = processed_df.reset_index(drop=True)"
   ]
  },
  {
   "cell_type": "code",
   "execution_count": 16,
   "id": "ae997845",
   "metadata": {},
   "outputs": [],
   "source": [
    "processed_df = processed_df.apply(match_claim_with_cluster, axis=1)"
   ]
  },
  {
   "cell_type": "code",
   "execution_count": 17,
   "id": "e2e8d999",
   "metadata": {},
   "outputs": [],
   "source": [
    "processed_df = processed_df.rename(columns={'key_points': 'key_point_given'})"
   ]
  },
  {
   "cell_type": "code",
   "execution_count": 18,
   "id": "c4938231",
   "metadata": {
    "scrolled": true
   },
   "outputs": [
    {
     "data": {
      "text/html": [
       "<div>\n",
       "<style scoped>\n",
       "    .dataframe tbody tr th:only-of-type {\n",
       "        vertical-align: middle;\n",
       "    }\n",
       "\n",
       "    .dataframe tbody tr th {\n",
       "        vertical-align: top;\n",
       "    }\n",
       "\n",
       "    .dataframe thead th {\n",
       "        text-align: right;\n",
       "    }\n",
       "</style>\n",
       "<table border=\"1\" class=\"dataframe\">\n",
       "  <thead>\n",
       "    <tr style=\"text-align: right;\">\n",
       "      <th></th>\n",
       "      <th>comments</th>\n",
       "      <th>cluster_size</th>\n",
       "      <th>key_point</th>\n",
       "      <th>prevalence</th>\n",
       "      <th>category</th>\n",
       "      <th>asin</th>\n",
       "      <th>id</th>\n",
       "      <th>query</th>\n",
       "      <th>passages</th>\n",
       "      <th>passages_len</th>\n",
       "      <th>key_point_given</th>\n",
       "    </tr>\n",
       "  </thead>\n",
       "  <tbody>\n",
       "    <tr>\n",
       "      <th>0</th>\n",
       "      <td>[[the plastic case of my old keys was broken a...</td>\n",
       "      <td>7</td>\n",
       "      <td>the old key components need to be taken to a l...</td>\n",
       "      <td>7</td>\n",
       "      <td>Automotive</td>\n",
       "      <td>B006FDD74W</td>\n",
       "      <td>3609</td>\n",
       "      <td>broke key head --can I just get new key head a...</td>\n",
       "      <td>[[the plastic case of my old keys was broken a...</td>\n",
       "      <td>7</td>\n",
       "      <td>[Some Honda Accord models have a chip in the k...</td>\n",
       "    </tr>\n",
       "    <tr>\n",
       "      <th>1</th>\n",
       "      <td>[In order to use this key, you will need two w...</td>\n",
       "      <td>17</td>\n",
       "      <td>you need two originally programmed keys to pro...</td>\n",
       "      <td>17</td>\n",
       "      <td>Automotive</td>\n",
       "      <td>B005OZNZD0</td>\n",
       "      <td>2799</td>\n",
       "      <td>I have a base model 2007 F150 XL V6. I would l...</td>\n",
       "      <td>[In order to use this key, you will need two w...</td>\n",
       "      <td>22</td>\n",
       "      <td>[If you have only one key, you can get the new...</td>\n",
       "    </tr>\n",
       "    <tr>\n",
       "      <th>2</th>\n",
       "      <td>[I bought my 2003 Ford F250 truck from a used ...</td>\n",
       "      <td>5</td>\n",
       "      <td>it's possible to use a remake key or a key fro...</td>\n",
       "      <td>5</td>\n",
       "      <td>Automotive</td>\n",
       "      <td>B005OZNZD0</td>\n",
       "      <td>2799</td>\n",
       "      <td>I have a base model 2007 F150 XL V6. I would l...</td>\n",
       "      <td>[In order to use this key, you will need two w...</td>\n",
       "      <td>22</td>\n",
       "      <td>[If you have only one key, you can get the new...</td>\n",
       "    </tr>\n",
       "    <tr>\n",
       "      <th>3</th>\n",
       "      <td>[It works best if you use a detailer as a lubr...</td>\n",
       "      <td>3</td>\n",
       "      <td>using a detailer as a lubricant</td>\n",
       "      <td>3</td>\n",
       "      <td>Automotive</td>\n",
       "      <td>B003POLA84</td>\n",
       "      <td>2501</td>\n",
       "      <td>Do you need to use a lubricant? If so, what do...</td>\n",
       "      <td>[It works best if you use a detailer as a lubr...</td>\n",
       "      <td>3</td>\n",
       "      <td>[A blend of Windex and Dawn can be used as a l...</td>\n",
       "    </tr>\n",
       "    <tr>\n",
       "      <th>4</th>\n",
       "      <td>[The cup-holders work great and adjust easily,...</td>\n",
       "      <td>16</td>\n",
       "      <td>the adjustable cup holders are easy to use and...</td>\n",
       "      <td>16</td>\n",
       "      <td>Automotive</td>\n",
       "      <td>B000FGEF6Y</td>\n",
       "      <td>3250</td>\n",
       "      <td>How sturdy are the adjustable cup holders? Wou...</td>\n",
       "      <td>[The cup-holders work great and adjust easily,...</td>\n",
       "      <td>16</td>\n",
       "      <td>[Adjustable sliding tab for size customization...</td>\n",
       "    </tr>\n",
       "    <tr>\n",
       "      <th>...</th>\n",
       "      <td>...</td>\n",
       "      <td>...</td>\n",
       "      <td>...</td>\n",
       "      <td>...</td>\n",
       "      <td>...</td>\n",
       "      <td>...</td>\n",
       "      <td>...</td>\n",
       "      <td>...</td>\n",
       "      <td>...</td>\n",
       "      <td>...</td>\n",
       "      <td>...</td>\n",
       "    </tr>\n",
       "    <tr>\n",
       "      <th>109</th>\n",
       "      <td>[I will admit that I missed the slim look of t...</td>\n",
       "      <td>8</td>\n",
       "      <td>the 3DS is backwards compatible with DS games</td>\n",
       "      <td>8</td>\n",
       "      <td>Video_Games</td>\n",
       "      <td>B006QRMR4S</td>\n",
       "      <td>539</td>\n",
       "      <td>Can This replace my DS lite? Will I still be a...</td>\n",
       "      <td>[I will admit that I missed the slim look of t...</td>\n",
       "      <td>8</td>\n",
       "      <td>[Backwards compatible with original DS games]</td>\n",
       "    </tr>\n",
       "    <tr>\n",
       "      <th>110</th>\n",
       "      <td>[inFamous Second Son however doesn't keep you ...</td>\n",
       "      <td>16</td>\n",
       "      <td>Infamous Second Son is a bigger and more refin...</td>\n",
       "      <td>16</td>\n",
       "      <td>Video_Games</td>\n",
       "      <td>B00FYIXMHQ</td>\n",
       "      <td>1837</td>\n",
       "      <td>I've never played Infamous 1 - Should you find...</td>\n",
       "      <td>[inFamous Second Son however doesn't keep you ...</td>\n",
       "      <td>20</td>\n",
       "      <td>[Infamous 1 and 2 are fun and worth playing if...</td>\n",
       "    </tr>\n",
       "    <tr>\n",
       "      <th>111</th>\n",
       "      <td>[In fact, before playing I was very skeptical ...</td>\n",
       "      <td>4</td>\n",
       "      <td>Infamous Second Son is a game that surpassed t...</td>\n",
       "      <td>4</td>\n",
       "      <td>Video_Games</td>\n",
       "      <td>B00FYIXMHQ</td>\n",
       "      <td>1837</td>\n",
       "      <td>I've never played Infamous 1 - Should you find...</td>\n",
       "      <td>[inFamous Second Son however doesn't keep you ...</td>\n",
       "      <td>20</td>\n",
       "      <td>[Infamous 1 and 2 are fun and worth playing if...</td>\n",
       "    </tr>\n",
       "    <tr>\n",
       "      <th>112</th>\n",
       "      <td>[In terms of controls, the game allows you wit...</td>\n",
       "      <td>9</td>\n",
       "      <td>the game allows the use of Wii mote only</td>\n",
       "      <td>9</td>\n",
       "      <td>Video_Games</td>\n",
       "      <td>B00269DXXO</td>\n",
       "      <td>2189</td>\n",
       "      <td>do you have to use the remote and nunchuck? or...</td>\n",
       "      <td>[In terms of controls, the game allows you wit...</td>\n",
       "      <td>9</td>\n",
       "      <td>[Game supports multiple controller options inc...</td>\n",
       "    </tr>\n",
       "    <tr>\n",
       "      <th>113</th>\n",
       "      <td>[If you want to use it on a tablet or phone, y...</td>\n",
       "      <td>4</td>\n",
       "      <td>this controller is portable and works well wit...</td>\n",
       "      <td>4</td>\n",
       "      <td>Video_Games</td>\n",
       "      <td>B004YC4NN0</td>\n",
       "      <td>3049</td>\n",
       "      <td>hi this controller work with emulators run on ...</td>\n",
       "      <td>[If you want to use it on a tablet or phone, y...</td>\n",
       "      <td>4</td>\n",
       "      <td>[Works with emulators on Android tablets]</td>\n",
       "    </tr>\n",
       "  </tbody>\n",
       "</table>\n",
       "<p>114 rows × 11 columns</p>\n",
       "</div>"
      ],
      "text/plain": [
       "                                              comments  cluster_size  \\\n",
       "0    [[the plastic case of my old keys was broken a...             7   \n",
       "1    [In order to use this key, you will need two w...            17   \n",
       "2    [I bought my 2003 Ford F250 truck from a used ...             5   \n",
       "3    [It works best if you use a detailer as a lubr...             3   \n",
       "4    [The cup-holders work great and adjust easily,...            16   \n",
       "..                                                 ...           ...   \n",
       "109  [I will admit that I missed the slim look of t...             8   \n",
       "110  [inFamous Second Son however doesn't keep you ...            16   \n",
       "111  [In fact, before playing I was very skeptical ...             4   \n",
       "112  [In terms of controls, the game allows you wit...             9   \n",
       "113  [If you want to use it on a tablet or phone, y...             4   \n",
       "\n",
       "                                             key_point  prevalence  \\\n",
       "0    the old key components need to be taken to a l...           7   \n",
       "1    you need two originally programmed keys to pro...          17   \n",
       "2    it's possible to use a remake key or a key fro...           5   \n",
       "3                      using a detailer as a lubricant           3   \n",
       "4    the adjustable cup holders are easy to use and...          16   \n",
       "..                                                 ...         ...   \n",
       "109      the 3DS is backwards compatible with DS games           8   \n",
       "110  Infamous Second Son is a bigger and more refin...          16   \n",
       "111  Infamous Second Son is a game that surpassed t...           4   \n",
       "112           the game allows the use of Wii mote only           9   \n",
       "113  this controller is portable and works well wit...           4   \n",
       "\n",
       "        category        asin    id  \\\n",
       "0     Automotive  B006FDD74W  3609   \n",
       "1     Automotive  B005OZNZD0  2799   \n",
       "2     Automotive  B005OZNZD0  2799   \n",
       "3     Automotive  B003POLA84  2501   \n",
       "4     Automotive  B000FGEF6Y  3250   \n",
       "..           ...         ...   ...   \n",
       "109  Video_Games  B006QRMR4S   539   \n",
       "110  Video_Games  B00FYIXMHQ  1837   \n",
       "111  Video_Games  B00FYIXMHQ  1837   \n",
       "112  Video_Games  B00269DXXO  2189   \n",
       "113  Video_Games  B004YC4NN0  3049   \n",
       "\n",
       "                                                 query  \\\n",
       "0    broke key head --can I just get new key head a...   \n",
       "1    I have a base model 2007 F150 XL V6. I would l...   \n",
       "2    I have a base model 2007 F150 XL V6. I would l...   \n",
       "3    Do you need to use a lubricant? If so, what do...   \n",
       "4    How sturdy are the adjustable cup holders? Wou...   \n",
       "..                                                 ...   \n",
       "109  Can This replace my DS lite? Will I still be a...   \n",
       "110  I've never played Infamous 1 - Should you find...   \n",
       "111  I've never played Infamous 1 - Should you find...   \n",
       "112  do you have to use the remote and nunchuck? or...   \n",
       "113  hi this controller work with emulators run on ...   \n",
       "\n",
       "                                              passages passages_len  \\\n",
       "0    [[the plastic case of my old keys was broken a...            7   \n",
       "1    [In order to use this key, you will need two w...           22   \n",
       "2    [In order to use this key, you will need two w...           22   \n",
       "3    [It works best if you use a detailer as a lubr...            3   \n",
       "4    [The cup-holders work great and adjust easily,...           16   \n",
       "..                                                 ...          ...   \n",
       "109  [I will admit that I missed the slim look of t...            8   \n",
       "110  [inFamous Second Son however doesn't keep you ...           20   \n",
       "111  [inFamous Second Son however doesn't keep you ...           20   \n",
       "112  [In terms of controls, the game allows you wit...            9   \n",
       "113  [If you want to use it on a tablet or phone, y...            4   \n",
       "\n",
       "                                       key_point_given  \n",
       "0    [Some Honda Accord models have a chip in the k...  \n",
       "1    [If you have only one key, you can get the new...  \n",
       "2    [If you have only one key, you can get the new...  \n",
       "3    [A blend of Windex and Dawn can be used as a l...  \n",
       "4    [Adjustable sliding tab for size customization...  \n",
       "..                                                 ...  \n",
       "109      [Backwards compatible with original DS games]  \n",
       "110  [Infamous 1 and 2 are fun and worth playing if...  \n",
       "111  [Infamous 1 and 2 are fun and worth playing if...  \n",
       "112  [Game supports multiple controller options inc...  \n",
       "113          [Works with emulators on Android tablets]  \n",
       "\n",
       "[114 rows x 11 columns]"
      ]
     },
     "execution_count": 18,
     "metadata": {},
     "output_type": "execute_result"
    }
   ],
   "source": [
    "claim_split_predicted = pd.json_normalize(\n",
    "    processed_df.to_dict(orient='records'), \n",
    "    \"matching_comment_clusters\", [\"category\", \"asin\", \"id\", \"query\", \"passages\", 'passages_len', 'key_point_given']\n",
    ")\n",
    "claim_split_predicted"
   ]
  },
  {
   "cell_type": "code",
   "execution_count": 19,
   "id": "acbbccb8",
   "metadata": {},
   "outputs": [],
   "source": [
    "claim_split_predicted = post_process_kps(claim_split_predicted)"
   ]
  },
  {
   "cell_type": "code",
   "execution_count": 20,
   "id": "a96d4d44",
   "metadata": {},
   "outputs": [],
   "source": [
    "merged_df = claim_split_predicted.explode(['key_point_given'])\n",
    "merged_df = merged_df.reset_index(drop=True)"
   ]
  },
  {
   "cell_type": "markdown",
   "id": "e53aa567",
   "metadata": {},
   "source": [
    "# Evaluation"
   ]
  },
  {
   "cell_type": "code",
   "execution_count": 23,
   "id": "d1498089",
   "metadata": {},
   "outputs": [],
   "source": [
    "from softF1 import *"
   ]
  },
  {
   "cell_type": "markdown",
   "id": "a270ccee",
   "metadata": {},
   "source": [
    "## G-Eval"
   ]
  },
  {
   "cell_type": "markdown",
   "id": "fd3c03d5",
   "metadata": {},
   "source": [
    "### Trial"
   ]
  },
  {
   "cell_type": "code",
   "execution_count": 25,
   "id": "ecbf8792",
   "metadata": {
    "scrolled": true
   },
   "outputs": [
    {
     "data": {
      "text/plain": [
       "5"
      ]
     },
     "execution_count": 25,
     "metadata": {},
     "output_type": "execute_result"
    }
   ],
   "source": [
    "row = merged_df.iloc[0]\n",
    "output_list = g_eval_relevancy(prompt, row['key_point_given'], row['key_point'])\n",
    "statistics.mean(process_g_eval(output_list))"
   ]
  },
  {
   "cell_type": "markdown",
   "id": "6c500bcc",
   "metadata": {},
   "source": [
    "### Run"
   ]
  },
  {
   "cell_type": "code",
   "execution_count": 26,
   "id": "a7e27fd9",
   "metadata": {},
   "outputs": [],
   "source": [
    "num_workers = 1\n",
    "merged_df['my_category'] = 1"
   ]
  },
  {
   "cell_type": "code",
   "execution_count": 27,
   "id": "1da9b169",
   "metadata": {},
   "outputs": [],
   "source": [
    "inputs = [(qqsum_output_path + \"/g_eval_cache/gold_relevancy\",\n",
    "           domain,\n",
    "           merged_df[merged_df['my_category'] == domain].reset_index(drop=True)\n",
    "           )\n",
    "          for domain in merged_df['my_category'].unique()]"
   ]
  },
  {
   "cell_type": "code",
   "execution_count": 28,
   "id": "46f149e8",
   "metadata": {
    "scrolled": true
   },
   "outputs": [
    {
     "name": "stdout",
     "output_type": "stream",
     "text": [
      "1 :  Loaded saved file. Done\n",
      "TIME ELAPSED 0.07189393043518066\n"
     ]
    }
   ],
   "source": [
    "start_time = time.time()\n",
    "with Pool(num_workers) as processor:\n",
    "    data = processor.starmap(prompted_g_eval_kp_relevancy, inputs)\n",
    "print(\"TIME ELAPSED\", time.time() - start_time)"
   ]
  },
  {
   "cell_type": "code",
   "execution_count": 29,
   "id": "38656681",
   "metadata": {
    "scrolled": true
   },
   "outputs": [],
   "source": [
    "g_eval_df = pd.concat(data)"
   ]
  },
  {
   "cell_type": "code",
   "execution_count": 30,
   "id": "121ea0c9",
   "metadata": {},
   "outputs": [],
   "source": [
    "g_eval_df['g_eval_scores'] = g_eval_df['g_eval_scores'].apply(process_g_eval)"
   ]
  },
  {
   "cell_type": "code",
   "execution_count": 31,
   "id": "88259b5e",
   "metadata": {},
   "outputs": [],
   "source": [
    "g_eval_df['g_eval_relevancy'] = g_eval_df['g_eval_scores'].apply(lambda x: statistics.mean(x))"
   ]
  },
  {
   "cell_type": "code",
   "execution_count": 32,
   "id": "612b072f",
   "metadata": {},
   "outputs": [
    {
     "data": {
      "text/plain": [
       "0     4.166667\n",
       "1     4.687500\n",
       "2     4.055556\n",
       "3     4.105263\n",
       "4     4.100000\n",
       "        ...   \n",
       "69    4.555556\n",
       "70    4.263158\n",
       "71    4.777778\n",
       "72    3.350000\n",
       "73    5.000000\n",
       "Name: g_eval_relevancy, Length: 74, dtype: float64"
      ]
     },
     "execution_count": 32,
     "metadata": {},
     "output_type": "execute_result"
    }
   ],
   "source": [
    "g_eval_df['g_eval_relevancy']"
   ]
  },
  {
   "cell_type": "markdown",
   "id": "e6d4dfbf",
   "metadata": {},
   "source": [
    "### SoftPrecision"
   ]
  },
  {
   "cell_type": "code",
   "execution_count": 33,
   "id": "e031f9f9",
   "metadata": {
    "scrolled": true
   },
   "outputs": [],
   "source": [
    "softp_data = g_eval_df.groupby(['category', 'asin', 'id', 'query', 'key_point'])['g_eval_relevancy'].max().reset_index()"
   ]
  },
  {
   "cell_type": "code",
   "execution_count": 34,
   "id": "2bbe05b8",
   "metadata": {},
   "outputs": [
    {
     "data": {
      "text/plain": [
       "0.8808026244123379"
      ]
     },
     "execution_count": 34,
     "metadata": {},
     "output_type": "execute_result"
    }
   ],
   "source": [
    "P_average = softp_data['g_eval_relevancy'].mean()\n",
    "P_average = (P_average - 1) / 4\n",
    "P_average"
   ]
  },
  {
   "cell_type": "markdown",
   "id": "f764d598",
   "metadata": {},
   "source": [
    "### SoftRecall"
   ]
  },
  {
   "cell_type": "code",
   "execution_count": 35,
   "id": "0cb168e1",
   "metadata": {
    "scrolled": false
   },
   "outputs": [
    {
     "data": {
      "text/html": [
       "<div>\n",
       "<style scoped>\n",
       "    .dataframe tbody tr th:only-of-type {\n",
       "        vertical-align: middle;\n",
       "    }\n",
       "\n",
       "    .dataframe tbody tr th {\n",
       "        vertical-align: top;\n",
       "    }\n",
       "\n",
       "    .dataframe thead th {\n",
       "        text-align: right;\n",
       "    }\n",
       "</style>\n",
       "<table border=\"1\" class=\"dataframe\">\n",
       "  <thead>\n",
       "    <tr style=\"text-align: right;\">\n",
       "      <th></th>\n",
       "      <th>category</th>\n",
       "      <th>asin</th>\n",
       "      <th>id</th>\n",
       "      <th>query</th>\n",
       "      <th>key_point_given</th>\n",
       "      <th>g_eval_relevancy</th>\n",
       "    </tr>\n",
       "  </thead>\n",
       "  <tbody>\n",
       "    <tr>\n",
       "      <th>0</th>\n",
       "      <td>Automotive</td>\n",
       "      <td>B003POLA84</td>\n",
       "      <td>2501</td>\n",
       "      <td>Do you need to use a lubricant? If so, what do...</td>\n",
       "      <td>A blend of Windex and Dawn can be used as a lu...</td>\n",
       "      <td>4.166667</td>\n",
       "    </tr>\n",
       "    <tr>\n",
       "      <th>1</th>\n",
       "      <td>Automotive</td>\n",
       "      <td>B003POLA84</td>\n",
       "      <td>2501</td>\n",
       "      <td>Do you need to use a lubricant? If so, what do...</td>\n",
       "      <td>A lubricant is necessary when using clay.</td>\n",
       "      <td>4.687500</td>\n",
       "    </tr>\n",
       "    <tr>\n",
       "      <th>2</th>\n",
       "      <td>Automotive</td>\n",
       "      <td>B003POLA84</td>\n",
       "      <td>2501</td>\n",
       "      <td>Do you need to use a lubricant? If so, what do...</td>\n",
       "      <td>Soap and water provide sufficient lubricity fo...</td>\n",
       "      <td>4.055556</td>\n",
       "    </tr>\n",
       "    <tr>\n",
       "      <th>3</th>\n",
       "      <td>Automotive</td>\n",
       "      <td>B003POLA84</td>\n",
       "      <td>2501</td>\n",
       "      <td>Do you need to use a lubricant? If so, what do...</td>\n",
       "      <td>Water alone can also work as a lubricant.</td>\n",
       "      <td>4.105263</td>\n",
       "    </tr>\n",
       "    <tr>\n",
       "      <th>4</th>\n",
       "      <td>Beauty</td>\n",
       "      <td>B000VS8VZM</td>\n",
       "      <td>2816</td>\n",
       "      <td>What is the best shampoo to use with this prod...</td>\n",
       "      <td>Apply product for 30 minutes with a plastic cap</td>\n",
       "      <td>4.100000</td>\n",
       "    </tr>\n",
       "    <tr>\n",
       "      <th>...</th>\n",
       "      <td>...</td>\n",
       "      <td>...</td>\n",
       "      <td>...</td>\n",
       "      <td>...</td>\n",
       "      <td>...</td>\n",
       "      <td>...</td>\n",
       "    </tr>\n",
       "    <tr>\n",
       "      <th>59</th>\n",
       "      <td>Toys_and_Games</td>\n",
       "      <td>B002DWAVP2</td>\n",
       "      <td>2105</td>\n",
       "      <td>Is this puppet a good quality?.</td>\n",
       "      <td>Excellent quality for the price</td>\n",
       "      <td>4.555556</td>\n",
       "    </tr>\n",
       "    <tr>\n",
       "      <th>60</th>\n",
       "      <td>Toys_and_Games</td>\n",
       "      <td>B002DWAVP2</td>\n",
       "      <td>2105</td>\n",
       "      <td>Is this puppet a good quality?.</td>\n",
       "      <td>Loved by children</td>\n",
       "      <td>4.263158</td>\n",
       "    </tr>\n",
       "    <tr>\n",
       "      <th>61</th>\n",
       "      <td>Toys_and_Games</td>\n",
       "      <td>B002DWAVP2</td>\n",
       "      <td>2105</td>\n",
       "      <td>Is this puppet a good quality?.</td>\n",
       "      <td>Very good quality</td>\n",
       "      <td>4.777778</td>\n",
       "    </tr>\n",
       "    <tr>\n",
       "      <th>62</th>\n",
       "      <td>Video_Games</td>\n",
       "      <td>B00269DXXO</td>\n",
       "      <td>2189</td>\n",
       "      <td>do you have to use the remote and nunchuck? or...</td>\n",
       "      <td>Game supports multiple controller options incl...</td>\n",
       "      <td>3.350000</td>\n",
       "    </tr>\n",
       "    <tr>\n",
       "      <th>63</th>\n",
       "      <td>Video_Games</td>\n",
       "      <td>B006QRMR4S</td>\n",
       "      <td>539</td>\n",
       "      <td>Can This replace my DS lite? Will I still be a...</td>\n",
       "      <td>Backwards compatible with original DS games</td>\n",
       "      <td>5.000000</td>\n",
       "    </tr>\n",
       "  </tbody>\n",
       "</table>\n",
       "<p>64 rows × 6 columns</p>\n",
       "</div>"
      ],
      "text/plain": [
       "          category        asin    id  \\\n",
       "0       Automotive  B003POLA84  2501   \n",
       "1       Automotive  B003POLA84  2501   \n",
       "2       Automotive  B003POLA84  2501   \n",
       "3       Automotive  B003POLA84  2501   \n",
       "4           Beauty  B000VS8VZM  2816   \n",
       "..             ...         ...   ...   \n",
       "59  Toys_and_Games  B002DWAVP2  2105   \n",
       "60  Toys_and_Games  B002DWAVP2  2105   \n",
       "61  Toys_and_Games  B002DWAVP2  2105   \n",
       "62     Video_Games  B00269DXXO  2189   \n",
       "63     Video_Games  B006QRMR4S   539   \n",
       "\n",
       "                                                query  \\\n",
       "0   Do you need to use a lubricant? If so, what do...   \n",
       "1   Do you need to use a lubricant? If so, what do...   \n",
       "2   Do you need to use a lubricant? If so, what do...   \n",
       "3   Do you need to use a lubricant? If so, what do...   \n",
       "4   What is the best shampoo to use with this prod...   \n",
       "..                                                ...   \n",
       "59                    Is this puppet a good quality?.   \n",
       "60                    Is this puppet a good quality?.   \n",
       "61                    Is this puppet a good quality?.   \n",
       "62  do you have to use the remote and nunchuck? or...   \n",
       "63  Can This replace my DS lite? Will I still be a...   \n",
       "\n",
       "                                      key_point_given  g_eval_relevancy  \n",
       "0   A blend of Windex and Dawn can be used as a lu...          4.166667  \n",
       "1           A lubricant is necessary when using clay.          4.687500  \n",
       "2   Soap and water provide sufficient lubricity fo...          4.055556  \n",
       "3           Water alone can also work as a lubricant.          4.105263  \n",
       "4     Apply product for 30 minutes with a plastic cap          4.100000  \n",
       "..                                                ...               ...  \n",
       "59                    Excellent quality for the price          4.555556  \n",
       "60                                  Loved by children          4.263158  \n",
       "61                                  Very good quality          4.777778  \n",
       "62  Game supports multiple controller options incl...          3.350000  \n",
       "63        Backwards compatible with original DS games          5.000000  \n",
       "\n",
       "[64 rows x 6 columns]"
      ]
     },
     "execution_count": 35,
     "metadata": {},
     "output_type": "execute_result"
    }
   ],
   "source": [
    "softr_data = g_eval_df.groupby(['category', 'asin', 'id', 'query', 'key_point_given'])['g_eval_relevancy'].max().reset_index()\n",
    "softr_data"
   ]
  },
  {
   "cell_type": "code",
   "execution_count": 36,
   "id": "eb8cddf0",
   "metadata": {},
   "outputs": [
    {
     "data": {
      "text/plain": [
       "0.8215260645102338"
      ]
     },
     "execution_count": 36,
     "metadata": {},
     "output_type": "execute_result"
    }
   ],
   "source": [
    "R_average = softr_data['g_eval_relevancy'].mean()\n",
    "R_average = (R_average - 1) / 4\n",
    "R_average"
   ]
  },
  {
   "cell_type": "markdown",
   "id": "655326ee",
   "metadata": {},
   "source": [
    "### F1"
   ]
  },
  {
   "cell_type": "code",
   "execution_count": 37,
   "id": "0d1c035a",
   "metadata": {},
   "outputs": [],
   "source": [
    "result = softF1(P_average, R_average)"
   ]
  },
  {
   "cell_type": "code",
   "execution_count": 38,
   "id": "3b19b36e",
   "metadata": {
    "scrolled": true
   },
   "outputs": [
    {
     "data": {
      "text/plain": [
       "0.8501323138738053"
      ]
     },
     "execution_count": 38,
     "metadata": {},
     "output_type": "execute_result"
    }
   ],
   "source": [
    "result"
   ]
  },
  {
   "cell_type": "markdown",
   "id": "0b8b4a45",
   "metadata": {},
   "source": [
    "## BARTScore"
   ]
  },
  {
   "cell_type": "markdown",
   "id": "186807c7",
   "metadata": {},
   "source": [
    "### SoftPrecision"
   ]
  },
  {
   "cell_type": "code",
   "execution_count": 39,
   "id": "2cdbcf3e",
   "metadata": {
    "scrolled": true
   },
   "outputs": [
    {
     "data": {
      "text/html": [
       "<div>\n",
       "<style scoped>\n",
       "    .dataframe tbody tr th:only-of-type {\n",
       "        vertical-align: middle;\n",
       "    }\n",
       "\n",
       "    .dataframe tbody tr th {\n",
       "        vertical-align: top;\n",
       "    }\n",
       "\n",
       "    .dataframe thead th {\n",
       "        text-align: right;\n",
       "    }\n",
       "</style>\n",
       "<table border=\"1\" class=\"dataframe\">\n",
       "  <thead>\n",
       "    <tr style=\"text-align: right;\">\n",
       "      <th></th>\n",
       "      <th>category</th>\n",
       "      <th>asin</th>\n",
       "      <th>id</th>\n",
       "      <th>query</th>\n",
       "      <th>key_point</th>\n",
       "      <th>multi_cands</th>\n",
       "    </tr>\n",
       "  </thead>\n",
       "  <tbody>\n",
       "    <tr>\n",
       "      <th>0</th>\n",
       "      <td>Automotive</td>\n",
       "      <td>B003POLA84</td>\n",
       "      <td>2501</td>\n",
       "      <td>Do you need to use a lubricant? If so, what do...</td>\n",
       "      <td>using a detailer as a lubricant</td>\n",
       "      <td>A blend of Windex and Dawn can be used as a lu...</td>\n",
       "    </tr>\n",
       "    <tr>\n",
       "      <th>1</th>\n",
       "      <td>Beauty</td>\n",
       "      <td>B000VS8VZM</td>\n",
       "      <td>2816</td>\n",
       "      <td>What is the best shampoo to use with this prod...</td>\n",
       "      <td>using a moisturizing conditioner after the pro...</td>\n",
       "      <td>Apply product for 30 minutes with a plastic ca...</td>\n",
       "    </tr>\n",
       "    <tr>\n",
       "      <th>2</th>\n",
       "      <td>Clothing_Shoes_and_Jewelry</td>\n",
       "      <td>B0044B5WN6</td>\n",
       "      <td>2578</td>\n",
       "      <td>Does anyone know why this product made my silv...</td>\n",
       "      <td>the product effectively removes tarnish from s...</td>\n",
       "      <td>Frequent cleaning may be required after using ...</td>\n",
       "    </tr>\n",
       "    <tr>\n",
       "      <th>3</th>\n",
       "      <td>Electronics</td>\n",
       "      <td>B0007M3PJO</td>\n",
       "      <td>551</td>\n",
       "      <td>I need a camcorder that will play old analog a...</td>\n",
       "      <td>this Sony digital 8 camcorder can play Digital...</td>\n",
       "      <td>Best to use compatible Sony 8mm video cassette...</td>\n",
       "    </tr>\n",
       "    <tr>\n",
       "      <th>4</th>\n",
       "      <td>Health_and_Personal_Care</td>\n",
       "      <td>B003C54M9A</td>\n",
       "      <td>2064</td>\n",
       "      <td>Is this good for getting rid of mice and bugs?</td>\n",
       "      <td>this product is effective in keeping mice away</td>\n",
       "      <td>100% peppermint oil prevents mice from enterin...</td>\n",
       "    </tr>\n",
       "    <tr>\n",
       "      <th>5</th>\n",
       "      <td>Home_and_Kitchen</td>\n",
       "      <td>B001DZ6V4A</td>\n",
       "      <td>682</td>\n",
       "      <td>How easy and fast is to clean the machine afte...</td>\n",
       "      <td>cleaning the machine is quick, taking around 5...</td>\n",
       "      <td>Cleaning the pitcher section is straightforwar...</td>\n",
       "    </tr>\n",
       "    <tr>\n",
       "      <th>6</th>\n",
       "      <td>Home_and_Kitchen</td>\n",
       "      <td>B002X3FT8U</td>\n",
       "      <td>1359</td>\n",
       "      <td>Are these chairs comfortable enough to sit in ...</td>\n",
       "      <td>had issues with the chairs</td>\n",
       "      <td>Arm rests add to comfort=Comfortable for sitti...</td>\n",
       "    </tr>\n",
       "    <tr>\n",
       "      <th>7</th>\n",
       "      <td>Home_and_Kitchen</td>\n",
       "      <td>B002X3FT8U</td>\n",
       "      <td>1359</td>\n",
       "      <td>Are these chairs comfortable enough to sit in ...</td>\n",
       "      <td>the chairs are comfortable and sturdy</td>\n",
       "      <td>Arm rests add to comfort=Comfortable for sitti...</td>\n",
       "    </tr>\n",
       "    <tr>\n",
       "      <th>8</th>\n",
       "      <td>Office_Products</td>\n",
       "      <td>B00434C7R8</td>\n",
       "      <td>2140</td>\n",
       "      <td>how to have the printer recognize the remanufa...</td>\n",
       "      <td>the printer failed to recognize the new cartridge</td>\n",
       "      <td>Buying remanufactured cartridges can lead to i...</td>\n",
       "    </tr>\n",
       "    <tr>\n",
       "      <th>9</th>\n",
       "      <td>Office_Products</td>\n",
       "      <td>B004G5O2E0</td>\n",
       "      <td>211</td>\n",
       "      <td>How comfortable is this chair? I want one that...</td>\n",
       "      <td>the chair provides good back support</td>\n",
       "      <td>Easy to assemble=Firm yet cushioned feel=Great...</td>\n",
       "    </tr>\n",
       "    <tr>\n",
       "      <th>10</th>\n",
       "      <td>Office_Products</td>\n",
       "      <td>B00D5BGAWS</td>\n",
       "      <td>3438</td>\n",
       "      <td>if papers written w/ this pen are stored in a ...</td>\n",
       "      <td>the ink disappears when exposed to high temper...</td>\n",
       "      <td>Erasing too hard can cause ink to disappear=Hi...</td>\n",
       "    </tr>\n",
       "    <tr>\n",
       "      <th>11</th>\n",
       "      <td>Pet_Supplies</td>\n",
       "      <td>B002QT38UC</td>\n",
       "      <td>1639</td>\n",
       "      <td>Will this work for two cats, or should I get a...</td>\n",
       "      <td>this product can accommodate up to four cats</td>\n",
       "      <td>Cats can adjust to sharing a single litter box...</td>\n",
       "    </tr>\n",
       "    <tr>\n",
       "      <th>12</th>\n",
       "      <td>Pet_Supplies</td>\n",
       "      <td>B002QT38UC</td>\n",
       "      <td>1639</td>\n",
       "      <td>Will this work for two cats, or should I get a...</td>\n",
       "      <td>this product is a great solution for multiple ...</td>\n",
       "      <td>Cats can adjust to sharing a single litter box...</td>\n",
       "    </tr>\n",
       "    <tr>\n",
       "      <th>13</th>\n",
       "      <td>Pet_Supplies</td>\n",
       "      <td>B00BD3TO82</td>\n",
       "      <td>1168</td>\n",
       "      <td>Does this fountain splash water and is the sou...</td>\n",
       "      <td>the water splashes in a way that bothers them</td>\n",
       "      <td>Some users find the sound of falling water ann...</td>\n",
       "    </tr>\n",
       "    <tr>\n",
       "      <th>14</th>\n",
       "      <td>Tools_and_Home_Improvement</td>\n",
       "      <td>B004C6M5BU</td>\n",
       "      <td>795</td>\n",
       "      <td>Is it real leather or a man made lookalike?</td>\n",
       "      <td>the product appears to be made of real leather</td>\n",
       "      <td>Heavy duty and a little stiff, similar to leat...</td>\n",
       "    </tr>\n",
       "    <tr>\n",
       "      <th>15</th>\n",
       "      <td>Toys_and_Games</td>\n",
       "      <td>B002DWAVP2</td>\n",
       "      <td>2105</td>\n",
       "      <td>Is this puppet a good quality?.</td>\n",
       "      <td>the puppet is of high-quality and durable</td>\n",
       "      <td>Cute design=Excellent quality for the price=Lo...</td>\n",
       "    </tr>\n",
       "    <tr>\n",
       "      <th>16</th>\n",
       "      <td>Video_Games</td>\n",
       "      <td>B00269DXXO</td>\n",
       "      <td>2189</td>\n",
       "      <td>do you have to use the remote and nunchuck? or...</td>\n",
       "      <td>the game allows the use of Wii mote only</td>\n",
       "      <td>Game supports multiple controller options incl...</td>\n",
       "    </tr>\n",
       "    <tr>\n",
       "      <th>17</th>\n",
       "      <td>Video_Games</td>\n",
       "      <td>B006QRMR4S</td>\n",
       "      <td>539</td>\n",
       "      <td>Can This replace my DS lite? Will I still be a...</td>\n",
       "      <td>the 3DS is backwards compatible with DS games</td>\n",
       "      <td>Backwards compatible with original DS games=</td>\n",
       "    </tr>\n",
       "  </tbody>\n",
       "</table>\n",
       "</div>"
      ],
      "text/plain": [
       "                      category        asin    id  \\\n",
       "0                   Automotive  B003POLA84  2501   \n",
       "1                       Beauty  B000VS8VZM  2816   \n",
       "2   Clothing_Shoes_and_Jewelry  B0044B5WN6  2578   \n",
       "3                  Electronics  B0007M3PJO   551   \n",
       "4     Health_and_Personal_Care  B003C54M9A  2064   \n",
       "5             Home_and_Kitchen  B001DZ6V4A   682   \n",
       "6             Home_and_Kitchen  B002X3FT8U  1359   \n",
       "7             Home_and_Kitchen  B002X3FT8U  1359   \n",
       "8              Office_Products  B00434C7R8  2140   \n",
       "9              Office_Products  B004G5O2E0   211   \n",
       "10             Office_Products  B00D5BGAWS  3438   \n",
       "11                Pet_Supplies  B002QT38UC  1639   \n",
       "12                Pet_Supplies  B002QT38UC  1639   \n",
       "13                Pet_Supplies  B00BD3TO82  1168   \n",
       "14  Tools_and_Home_Improvement  B004C6M5BU   795   \n",
       "15              Toys_and_Games  B002DWAVP2  2105   \n",
       "16                 Video_Games  B00269DXXO  2189   \n",
       "17                 Video_Games  B006QRMR4S   539   \n",
       "\n",
       "                                                query  \\\n",
       "0   Do you need to use a lubricant? If so, what do...   \n",
       "1   What is the best shampoo to use with this prod...   \n",
       "2   Does anyone know why this product made my silv...   \n",
       "3   I need a camcorder that will play old analog a...   \n",
       "4      Is this good for getting rid of mice and bugs?   \n",
       "5   How easy and fast is to clean the machine afte...   \n",
       "6   Are these chairs comfortable enough to sit in ...   \n",
       "7   Are these chairs comfortable enough to sit in ...   \n",
       "8   how to have the printer recognize the remanufa...   \n",
       "9   How comfortable is this chair? I want one that...   \n",
       "10  if papers written w/ this pen are stored in a ...   \n",
       "11  Will this work for two cats, or should I get a...   \n",
       "12  Will this work for two cats, or should I get a...   \n",
       "13  Does this fountain splash water and is the sou...   \n",
       "14        Is it real leather or a man made lookalike?   \n",
       "15                    Is this puppet a good quality?.   \n",
       "16  do you have to use the remote and nunchuck? or...   \n",
       "17  Can This replace my DS lite? Will I still be a...   \n",
       "\n",
       "                                            key_point  \\\n",
       "0                     using a detailer as a lubricant   \n",
       "1   using a moisturizing conditioner after the pro...   \n",
       "2   the product effectively removes tarnish from s...   \n",
       "3   this Sony digital 8 camcorder can play Digital...   \n",
       "4      this product is effective in keeping mice away   \n",
       "5   cleaning the machine is quick, taking around 5...   \n",
       "6                          had issues with the chairs   \n",
       "7               the chairs are comfortable and sturdy   \n",
       "8   the printer failed to recognize the new cartridge   \n",
       "9                the chair provides good back support   \n",
       "10  the ink disappears when exposed to high temper...   \n",
       "11       this product can accommodate up to four cats   \n",
       "12  this product is a great solution for multiple ...   \n",
       "13      the water splashes in a way that bothers them   \n",
       "14     the product appears to be made of real leather   \n",
       "15          the puppet is of high-quality and durable   \n",
       "16           the game allows the use of Wii mote only   \n",
       "17      the 3DS is backwards compatible with DS games   \n",
       "\n",
       "                                          multi_cands  \n",
       "0   A blend of Windex and Dawn can be used as a lu...  \n",
       "1   Apply product for 30 minutes with a plastic ca...  \n",
       "2   Frequent cleaning may be required after using ...  \n",
       "3   Best to use compatible Sony 8mm video cassette...  \n",
       "4   100% peppermint oil prevents mice from enterin...  \n",
       "5   Cleaning the pitcher section is straightforwar...  \n",
       "6   Arm rests add to comfort=Comfortable for sitti...  \n",
       "7   Arm rests add to comfort=Comfortable for sitti...  \n",
       "8   Buying remanufactured cartridges can lead to i...  \n",
       "9   Easy to assemble=Firm yet cushioned feel=Great...  \n",
       "10  Erasing too hard can cause ink to disappear=Hi...  \n",
       "11  Cats can adjust to sharing a single litter box...  \n",
       "12  Cats can adjust to sharing a single litter box...  \n",
       "13  Some users find the sound of falling water ann...  \n",
       "14  Heavy duty and a little stiff, similar to leat...  \n",
       "15  Cute design=Excellent quality for the price=Lo...  \n",
       "16  Game supports multiple controller options incl...  \n",
       "17       Backwards compatible with original DS games=  "
      ]
     },
     "execution_count": 39,
     "metadata": {},
     "output_type": "execute_result"
    }
   ],
   "source": [
    "softp_data = merged_df.groupby(['category', 'asin', 'id', 'query', 'key_point'])\\\n",
    "    .apply(lambda grp: \"\".join([cand + \"=\" for cand in (grp['key_point_given'].tolist())])).reset_index(name='multi_cands')\n",
    "softp_data"
   ]
  },
  {
   "cell_type": "code",
   "execution_count": 40,
   "id": "0be428f5",
   "metadata": {},
   "outputs": [],
   "source": [
    "cands, refs= preprocess_text(softp_data, metrics = \"softPrecision\")\n",
    "\n",
    "#BART score cannot be processed for different numbers of reference sentences, so\n",
    "#check for the maximum number of reference sentences and match the size.\n",
    "#We fill in the None for the missing sentences because we only pick one of the \n",
    "#maximum values and not the average, so there is no impact on performance\n",
    "\n",
    "refs = balance_ref_num(refs)        \n",
    "\n",
    "# generation scores from the first list of texts to the second list of texts.\n",
    "P = bart_scorer.multi_ref_score(cands, refs, agg=\"max\", batch_size=4) # agg means aggregation, can be mean or max\n",
    "\n",
    "#mapping the score to (0,1]\n",
    "P_average = math.tanh(math.exp((mean(P))/2+1.3))\n",
    "#P_average = math.tanh(mean(P)) + 1\n",
    "#P_average = math.exp(mean(P))"
   ]
  },
  {
   "cell_type": "code",
   "execution_count": 41,
   "id": "818274c8",
   "metadata": {},
   "outputs": [
    {
     "data": {
      "text/plain": [
       "0.48380538815792623"
      ]
     },
     "execution_count": 41,
     "metadata": {},
     "output_type": "execute_result"
    }
   ],
   "source": [
    "P_average"
   ]
  },
  {
   "cell_type": "markdown",
   "id": "eec93c89",
   "metadata": {},
   "source": [
    "### SoftRecall"
   ]
  },
  {
   "cell_type": "code",
   "execution_count": 42,
   "id": "37ac7823",
   "metadata": {
    "scrolled": true
   },
   "outputs": [
    {
     "data": {
      "text/html": [
       "<div>\n",
       "<style scoped>\n",
       "    .dataframe tbody tr th:only-of-type {\n",
       "        vertical-align: middle;\n",
       "    }\n",
       "\n",
       "    .dataframe tbody tr th {\n",
       "        vertical-align: top;\n",
       "    }\n",
       "\n",
       "    .dataframe thead th {\n",
       "        text-align: right;\n",
       "    }\n",
       "</style>\n",
       "<table border=\"1\" class=\"dataframe\">\n",
       "  <thead>\n",
       "    <tr style=\"text-align: right;\">\n",
       "      <th></th>\n",
       "      <th>category</th>\n",
       "      <th>asin</th>\n",
       "      <th>id</th>\n",
       "      <th>query</th>\n",
       "      <th>key_point_given</th>\n",
       "      <th>multi_cands</th>\n",
       "    </tr>\n",
       "  </thead>\n",
       "  <tbody>\n",
       "    <tr>\n",
       "      <th>0</th>\n",
       "      <td>Automotive</td>\n",
       "      <td>B003POLA84</td>\n",
       "      <td>2501</td>\n",
       "      <td>Do you need to use a lubricant? If so, what do...</td>\n",
       "      <td>A blend of Windex and Dawn can be used as a lu...</td>\n",
       "      <td>using a detailer as a lubricant=</td>\n",
       "    </tr>\n",
       "    <tr>\n",
       "      <th>1</th>\n",
       "      <td>Automotive</td>\n",
       "      <td>B003POLA84</td>\n",
       "      <td>2501</td>\n",
       "      <td>Do you need to use a lubricant? If so, what do...</td>\n",
       "      <td>A lubricant is necessary when using clay.</td>\n",
       "      <td>using a detailer as a lubricant=</td>\n",
       "    </tr>\n",
       "    <tr>\n",
       "      <th>2</th>\n",
       "      <td>Automotive</td>\n",
       "      <td>B003POLA84</td>\n",
       "      <td>2501</td>\n",
       "      <td>Do you need to use a lubricant? If so, what do...</td>\n",
       "      <td>Soap and water provide sufficient lubricity fo...</td>\n",
       "      <td>using a detailer as a lubricant=</td>\n",
       "    </tr>\n",
       "    <tr>\n",
       "      <th>3</th>\n",
       "      <td>Automotive</td>\n",
       "      <td>B003POLA84</td>\n",
       "      <td>2501</td>\n",
       "      <td>Do you need to use a lubricant? If so, what do...</td>\n",
       "      <td>Water alone can also work as a lubricant.</td>\n",
       "      <td>using a detailer as a lubricant=</td>\n",
       "    </tr>\n",
       "    <tr>\n",
       "      <th>4</th>\n",
       "      <td>Beauty</td>\n",
       "      <td>B000VS8VZM</td>\n",
       "      <td>2816</td>\n",
       "      <td>What is the best shampoo to use with this prod...</td>\n",
       "      <td>Apply product for 30 minutes with a plastic cap</td>\n",
       "      <td>using a moisturizing conditioner after the pro...</td>\n",
       "    </tr>\n",
       "    <tr>\n",
       "      <th>...</th>\n",
       "      <td>...</td>\n",
       "      <td>...</td>\n",
       "      <td>...</td>\n",
       "      <td>...</td>\n",
       "      <td>...</td>\n",
       "      <td>...</td>\n",
       "    </tr>\n",
       "    <tr>\n",
       "      <th>59</th>\n",
       "      <td>Toys_and_Games</td>\n",
       "      <td>B002DWAVP2</td>\n",
       "      <td>2105</td>\n",
       "      <td>Is this puppet a good quality?.</td>\n",
       "      <td>Excellent quality for the price</td>\n",
       "      <td>the puppet is of high-quality and durable=</td>\n",
       "    </tr>\n",
       "    <tr>\n",
       "      <th>60</th>\n",
       "      <td>Toys_and_Games</td>\n",
       "      <td>B002DWAVP2</td>\n",
       "      <td>2105</td>\n",
       "      <td>Is this puppet a good quality?.</td>\n",
       "      <td>Loved by children</td>\n",
       "      <td>the puppet is of high-quality and durable=</td>\n",
       "    </tr>\n",
       "    <tr>\n",
       "      <th>61</th>\n",
       "      <td>Toys_and_Games</td>\n",
       "      <td>B002DWAVP2</td>\n",
       "      <td>2105</td>\n",
       "      <td>Is this puppet a good quality?.</td>\n",
       "      <td>Very good quality</td>\n",
       "      <td>the puppet is of high-quality and durable=</td>\n",
       "    </tr>\n",
       "    <tr>\n",
       "      <th>62</th>\n",
       "      <td>Video_Games</td>\n",
       "      <td>B00269DXXO</td>\n",
       "      <td>2189</td>\n",
       "      <td>do you have to use the remote and nunchuck? or...</td>\n",
       "      <td>Game supports multiple controller options incl...</td>\n",
       "      <td>the game allows the use of Wii mote only=</td>\n",
       "    </tr>\n",
       "    <tr>\n",
       "      <th>63</th>\n",
       "      <td>Video_Games</td>\n",
       "      <td>B006QRMR4S</td>\n",
       "      <td>539</td>\n",
       "      <td>Can This replace my DS lite? Will I still be a...</td>\n",
       "      <td>Backwards compatible with original DS games</td>\n",
       "      <td>the 3DS is backwards compatible with DS games=</td>\n",
       "    </tr>\n",
       "  </tbody>\n",
       "</table>\n",
       "<p>64 rows × 6 columns</p>\n",
       "</div>"
      ],
      "text/plain": [
       "          category        asin    id  \\\n",
       "0       Automotive  B003POLA84  2501   \n",
       "1       Automotive  B003POLA84  2501   \n",
       "2       Automotive  B003POLA84  2501   \n",
       "3       Automotive  B003POLA84  2501   \n",
       "4           Beauty  B000VS8VZM  2816   \n",
       "..             ...         ...   ...   \n",
       "59  Toys_and_Games  B002DWAVP2  2105   \n",
       "60  Toys_and_Games  B002DWAVP2  2105   \n",
       "61  Toys_and_Games  B002DWAVP2  2105   \n",
       "62     Video_Games  B00269DXXO  2189   \n",
       "63     Video_Games  B006QRMR4S   539   \n",
       "\n",
       "                                                query  \\\n",
       "0   Do you need to use a lubricant? If so, what do...   \n",
       "1   Do you need to use a lubricant? If so, what do...   \n",
       "2   Do you need to use a lubricant? If so, what do...   \n",
       "3   Do you need to use a lubricant? If so, what do...   \n",
       "4   What is the best shampoo to use with this prod...   \n",
       "..                                                ...   \n",
       "59                    Is this puppet a good quality?.   \n",
       "60                    Is this puppet a good quality?.   \n",
       "61                    Is this puppet a good quality?.   \n",
       "62  do you have to use the remote and nunchuck? or...   \n",
       "63  Can This replace my DS lite? Will I still be a...   \n",
       "\n",
       "                                      key_point_given  \\\n",
       "0   A blend of Windex and Dawn can be used as a lu...   \n",
       "1           A lubricant is necessary when using clay.   \n",
       "2   Soap and water provide sufficient lubricity fo...   \n",
       "3           Water alone can also work as a lubricant.   \n",
       "4     Apply product for 30 minutes with a plastic cap   \n",
       "..                                                ...   \n",
       "59                    Excellent quality for the price   \n",
       "60                                  Loved by children   \n",
       "61                                  Very good quality   \n",
       "62  Game supports multiple controller options incl...   \n",
       "63        Backwards compatible with original DS games   \n",
       "\n",
       "                                          multi_cands  \n",
       "0                    using a detailer as a lubricant=  \n",
       "1                    using a detailer as a lubricant=  \n",
       "2                    using a detailer as a lubricant=  \n",
       "3                    using a detailer as a lubricant=  \n",
       "4   using a moisturizing conditioner after the pro...  \n",
       "..                                                ...  \n",
       "59         the puppet is of high-quality and durable=  \n",
       "60         the puppet is of high-quality and durable=  \n",
       "61         the puppet is of high-quality and durable=  \n",
       "62          the game allows the use of Wii mote only=  \n",
       "63     the 3DS is backwards compatible with DS games=  \n",
       "\n",
       "[64 rows x 6 columns]"
      ]
     },
     "execution_count": 42,
     "metadata": {},
     "output_type": "execute_result"
    }
   ],
   "source": [
    "softr_data = merged_df.groupby(['category', 'asin', 'id', 'query', 'key_point_given'])\\\n",
    "    .apply(lambda grp: \"\".join([cand + \"=\" for cand in (grp['key_point'].tolist())])).reset_index(name='multi_cands')\n",
    "softr_data"
   ]
  },
  {
   "cell_type": "code",
   "execution_count": 43,
   "id": "eca263fe",
   "metadata": {},
   "outputs": [],
   "source": [
    "cands, refs= preprocess_text(softr_data, metrics = \"softRecall\")\n",
    "\n",
    "refs = balance_ref_num(refs)\n",
    "\n",
    "R = bart_scorer.multi_ref_score(cands, refs, agg=\"max\", batch_size=4)\n",
    "\n",
    "#mapping the score to (0,1]\n",
    "R_average = math.tanh(math.exp((mean(R)/2)+1.3)) \n",
    "#R_average = (0.25 * mean(R)) + 1\n",
    "#R_average = math.exp(mean(R))"
   ]
  },
  {
   "cell_type": "code",
   "execution_count": 44,
   "id": "a5ad40b1",
   "metadata": {},
   "outputs": [
    {
     "data": {
      "text/plain": [
       "0.2658728659404454"
      ]
     },
     "execution_count": 44,
     "metadata": {},
     "output_type": "execute_result"
    }
   ],
   "source": [
    "R_average"
   ]
  },
  {
   "cell_type": "markdown",
   "id": "0d27426b",
   "metadata": {},
   "source": [
    "### F1"
   ]
  },
  {
   "cell_type": "code",
   "execution_count": 45,
   "id": "898d4cbb",
   "metadata": {},
   "outputs": [],
   "source": [
    "result = softF1(P_average, R_average)"
   ]
  },
  {
   "cell_type": "code",
   "execution_count": 46,
   "id": "9da5cd74",
   "metadata": {},
   "outputs": [
    {
     "data": {
      "text/plain": [
       "0.34316248178141434"
      ]
     },
     "execution_count": 46,
     "metadata": {},
     "output_type": "execute_result"
    }
   ],
   "source": [
    "result"
   ]
  },
  {
   "cell_type": "markdown",
   "id": "UXAauku3Ydnp",
   "metadata": {
    "id": "UXAauku3Ydnp"
   },
   "source": [
    "## BLEURTScore"
   ]
  },
  {
   "cell_type": "code",
   "execution_count": 47,
   "id": "QBkx3UKpdpDn",
   "metadata": {
    "colab": {
     "base_uri": "https://localhost:8080/",
     "height": 597
    },
    "id": "QBkx3UKpdpDn",
    "outputId": "143a7380-c824-42ac-c315-299a6cc924a0"
   },
   "outputs": [
    {
     "data": {
      "text/html": [
       "<div>\n",
       "<style scoped>\n",
       "    .dataframe tbody tr th:only-of-type {\n",
       "        vertical-align: middle;\n",
       "    }\n",
       "\n",
       "    .dataframe tbody tr th {\n",
       "        vertical-align: top;\n",
       "    }\n",
       "\n",
       "    .dataframe thead th {\n",
       "        text-align: right;\n",
       "    }\n",
       "</style>\n",
       "<table border=\"1\" class=\"dataframe\">\n",
       "  <thead>\n",
       "    <tr style=\"text-align: right;\">\n",
       "      <th></th>\n",
       "      <th>candidate</th>\n",
       "      <th>reference</th>\n",
       "    </tr>\n",
       "  </thead>\n",
       "  <tbody>\n",
       "    <tr>\n",
       "      <th>0</th>\n",
       "      <td>using a detailer as a lubricant</td>\n",
       "      <td>A blend of Windex and Dawn can be used as a lu...</td>\n",
       "    </tr>\n",
       "    <tr>\n",
       "      <th>1</th>\n",
       "      <td>using a detailer as a lubricant</td>\n",
       "      <td>A lubricant is necessary when using clay.</td>\n",
       "    </tr>\n",
       "    <tr>\n",
       "      <th>2</th>\n",
       "      <td>using a detailer as a lubricant</td>\n",
       "      <td>Soap and water provide sufficient lubricity fo...</td>\n",
       "    </tr>\n",
       "    <tr>\n",
       "      <th>3</th>\n",
       "      <td>using a detailer as a lubricant</td>\n",
       "      <td>Water alone can also work as a lubricant.</td>\n",
       "    </tr>\n",
       "    <tr>\n",
       "      <th>4</th>\n",
       "      <td>using a moisturizing conditioner after the pro...</td>\n",
       "      <td>Apply product for 30 minutes with a plastic cap</td>\n",
       "    </tr>\n",
       "    <tr>\n",
       "      <th>...</th>\n",
       "      <td>...</td>\n",
       "      <td>...</td>\n",
       "    </tr>\n",
       "    <tr>\n",
       "      <th>69</th>\n",
       "      <td>the puppet is of high-quality and durable</td>\n",
       "      <td>Excellent quality for the price</td>\n",
       "    </tr>\n",
       "    <tr>\n",
       "      <th>70</th>\n",
       "      <td>the puppet is of high-quality and durable</td>\n",
       "      <td>Loved by children</td>\n",
       "    </tr>\n",
       "    <tr>\n",
       "      <th>71</th>\n",
       "      <td>the puppet is of high-quality and durable</td>\n",
       "      <td>Very good quality</td>\n",
       "    </tr>\n",
       "    <tr>\n",
       "      <th>72</th>\n",
       "      <td>the game allows the use of Wii mote only</td>\n",
       "      <td>Game supports multiple controller options incl...</td>\n",
       "    </tr>\n",
       "    <tr>\n",
       "      <th>73</th>\n",
       "      <td>the 3DS is backwards compatible with DS games</td>\n",
       "      <td>Backwards compatible with original DS games</td>\n",
       "    </tr>\n",
       "  </tbody>\n",
       "</table>\n",
       "<p>74 rows × 2 columns</p>\n",
       "</div>"
      ],
      "text/plain": [
       "                                            candidate  \\\n",
       "0                     using a detailer as a lubricant   \n",
       "1                     using a detailer as a lubricant   \n",
       "2                     using a detailer as a lubricant   \n",
       "3                     using a detailer as a lubricant   \n",
       "4   using a moisturizing conditioner after the pro...   \n",
       "..                                                ...   \n",
       "69          the puppet is of high-quality and durable   \n",
       "70          the puppet is of high-quality and durable   \n",
       "71          the puppet is of high-quality and durable   \n",
       "72           the game allows the use of Wii mote only   \n",
       "73      the 3DS is backwards compatible with DS games   \n",
       "\n",
       "                                            reference  \n",
       "0   A blend of Windex and Dawn can be used as a lu...  \n",
       "1           A lubricant is necessary when using clay.  \n",
       "2   Soap and water provide sufficient lubricity fo...  \n",
       "3           Water alone can also work as a lubricant.  \n",
       "4     Apply product for 30 minutes with a plastic cap  \n",
       "..                                                ...  \n",
       "69                    Excellent quality for the price  \n",
       "70                                  Loved by children  \n",
       "71                                  Very good quality  \n",
       "72  Game supports multiple controller options incl...  \n",
       "73        Backwards compatible with original DS games  \n",
       "\n",
       "[74 rows x 2 columns]"
      ]
     },
     "execution_count": 47,
     "metadata": {},
     "output_type": "execute_result"
    }
   ],
   "source": [
    "softp_data = merged_df.sort_values(by=['category', 'asin', 'id', 'query', 'key_point'])\n",
    "df_compare_precision = softp_data[['key_point', 'key_point_given']].rename(columns={'key_point': 'candidate', 'key_point_given': 'reference'})\n",
    "df_compare_precision"
   ]
  },
  {
   "cell_type": "code",
   "execution_count": 48,
   "id": "Z1zLYKjRe3SW",
   "metadata": {
    "id": "Z1zLYKjRe3SW"
   },
   "outputs": [],
   "source": [
    "candidates = df_compare_precision['candidate']\n",
    "references = df_compare_precision['reference']"
   ]
  },
  {
   "cell_type": "code",
   "execution_count": 49,
   "id": "QVexlsL6mN4Y",
   "metadata": {
    "id": "QVexlsL6mN4Y"
   },
   "outputs": [],
   "source": [
    "import tensorflow as tf"
   ]
  },
  {
   "cell_type": "code",
   "execution_count": 50,
   "id": "mmVAbBVfmQjW",
   "metadata": {
    "colab": {
     "base_uri": "https://localhost:8080/"
    },
    "id": "mmVAbBVfmQjW",
    "outputId": "1a716874-3571-4544-9364-ea48625ff08c"
   },
   "outputs": [
    {
     "name": "stdout",
     "output_type": "stream",
     "text": [
      "Num GPUs Available:  1\n"
     ]
    },
    {
     "name": "stderr",
     "output_type": "stream",
     "text": [
      "2025-02-22 02:34:00.806007: I external/local_xla/xla/stream_executor/cuda/cuda_executor.cc:887] could not open file to read NUMA node: /sys/bus/pci/devices/0000:01:00.0/numa_node\n",
      "Your kernel may have been built without NUMA support.\n",
      "2025-02-22 02:34:00.838783: I external/local_xla/xla/stream_executor/cuda/cuda_executor.cc:887] could not open file to read NUMA node: /sys/bus/pci/devices/0000:01:00.0/numa_node\n",
      "Your kernel may have been built without NUMA support.\n",
      "2025-02-22 02:34:00.839009: I external/local_xla/xla/stream_executor/cuda/cuda_executor.cc:887] could not open file to read NUMA node: /sys/bus/pci/devices/0000:01:00.0/numa_node\n",
      "Your kernel may have been built without NUMA support.\n"
     ]
    }
   ],
   "source": [
    "print(\"Num GPUs Available: \", len(tf.config.list_physical_devices('GPU')))"
   ]
  },
  {
   "cell_type": "code",
   "execution_count": 51,
   "id": "i4jdGVuOmNuA",
   "metadata": {
    "colab": {
     "base_uri": "https://localhost:8080/"
    },
    "id": "i4jdGVuOmNuA",
    "outputId": "eedfb583-279a-497a-e67e-353a8b4fd185"
   },
   "outputs": [
    {
     "name": "stdout",
     "output_type": "stream",
     "text": [
      "[name: \"/device:CPU:0\"\n",
      "device_type: \"CPU\"\n",
      "memory_limit: 268435456\n",
      "locality {\n",
      "}\n",
      "incarnation: 8995474159845660884\n",
      "xla_global_id: -1\n",
      ", name: \"/device:GPU:0\"\n",
      "device_type: \"GPU\"\n",
      "memory_limit: 19566428160\n",
      "locality {\n",
      "  bus_id: 1\n",
      "  links {\n",
      "  }\n",
      "}\n",
      "incarnation: 16942633511190395554\n",
      "physical_device_desc: \"device: 0, name: NVIDIA GeForce RTX 4090, pci bus id: 0000:01:00.0, compute capability: 8.9\"\n",
      "xla_global_id: 416903419\n",
      "]\n"
     ]
    },
    {
     "name": "stderr",
     "output_type": "stream",
     "text": [
      "2025-02-22 02:34:01.143264: I external/local_xla/xla/stream_executor/cuda/cuda_executor.cc:887] could not open file to read NUMA node: /sys/bus/pci/devices/0000:01:00.0/numa_node\n",
      "Your kernel may have been built without NUMA support.\n",
      "2025-02-22 02:34:01.143660: I external/local_xla/xla/stream_executor/cuda/cuda_executor.cc:887] could not open file to read NUMA node: /sys/bus/pci/devices/0000:01:00.0/numa_node\n",
      "Your kernel may have been built without NUMA support.\n",
      "2025-02-22 02:34:01.143985: I external/local_xla/xla/stream_executor/cuda/cuda_executor.cc:887] could not open file to read NUMA node: /sys/bus/pci/devices/0000:01:00.0/numa_node\n",
      "Your kernel may have been built without NUMA support.\n",
      "2025-02-22 02:34:01.144511: I external/local_xla/xla/stream_executor/cuda/cuda_executor.cc:887] could not open file to read NUMA node: /sys/bus/pci/devices/0000:01:00.0/numa_node\n",
      "Your kernel may have been built without NUMA support.\n",
      "2025-02-22 02:34:01.144786: I external/local_xla/xla/stream_executor/cuda/cuda_executor.cc:887] could not open file to read NUMA node: /sys/bus/pci/devices/0000:01:00.0/numa_node\n",
      "Your kernel may have been built without NUMA support.\n",
      "2025-02-22 02:34:01.144799: I tensorflow/core/common_runtime/gpu/gpu_device.cc:2022] Could not identify NUMA node of platform GPU id 0, defaulting to 0.  Your kernel may not have been built with NUMA support.\n",
      "2025-02-22 02:34:01.145049: I external/local_xla/xla/stream_executor/cuda/cuda_executor.cc:887] could not open file to read NUMA node: /sys/bus/pci/devices/0000:01:00.0/numa_node\n",
      "Your kernel may have been built without NUMA support.\n",
      "2025-02-22 02:34:01.145072: I tensorflow/core/common_runtime/gpu/gpu_device.cc:1929] Created device /device:GPU:0 with 18660 MB memory:  -> device: 0, name: NVIDIA GeForce RTX 4090, pci bus id: 0000:01:00.0, compute capability: 8.9\n"
     ]
    }
   ],
   "source": [
    "from tensorflow.python.client import device_lib\n",
    "print(device_lib.list_local_devices())"
   ]
  },
  {
   "cell_type": "markdown",
   "id": "835bbcd2-72cb-48ff-a623-5f977d85cee3",
   "metadata": {},
   "source": [
    "### SoftPrecision"
   ]
  },
  {
   "cell_type": "code",
   "execution_count": 52,
   "id": "ec7b807e",
   "metadata": {
    "colab": {
     "base_uri": "https://localhost:8080/",
     "height": 597
    },
    "id": "QBkx3UKpdpDn",
    "outputId": "143a7380-c824-42ac-c315-299a6cc924a0"
   },
   "outputs": [
    {
     "data": {
      "text/html": [
       "<div>\n",
       "<style scoped>\n",
       "    .dataframe tbody tr th:only-of-type {\n",
       "        vertical-align: middle;\n",
       "    }\n",
       "\n",
       "    .dataframe tbody tr th {\n",
       "        vertical-align: top;\n",
       "    }\n",
       "\n",
       "    .dataframe thead th {\n",
       "        text-align: right;\n",
       "    }\n",
       "</style>\n",
       "<table border=\"1\" class=\"dataframe\">\n",
       "  <thead>\n",
       "    <tr style=\"text-align: right;\">\n",
       "      <th></th>\n",
       "      <th>candidate</th>\n",
       "      <th>reference</th>\n",
       "    </tr>\n",
       "  </thead>\n",
       "  <tbody>\n",
       "    <tr>\n",
       "      <th>0</th>\n",
       "      <td>using a detailer as a lubricant</td>\n",
       "      <td>A blend of Windex and Dawn can be used as a lu...</td>\n",
       "    </tr>\n",
       "    <tr>\n",
       "      <th>1</th>\n",
       "      <td>using a detailer as a lubricant</td>\n",
       "      <td>A lubricant is necessary when using clay.</td>\n",
       "    </tr>\n",
       "    <tr>\n",
       "      <th>2</th>\n",
       "      <td>using a detailer as a lubricant</td>\n",
       "      <td>Soap and water provide sufficient lubricity fo...</td>\n",
       "    </tr>\n",
       "    <tr>\n",
       "      <th>3</th>\n",
       "      <td>using a detailer as a lubricant</td>\n",
       "      <td>Water alone can also work as a lubricant.</td>\n",
       "    </tr>\n",
       "    <tr>\n",
       "      <th>4</th>\n",
       "      <td>using a moisturizing conditioner after the pro...</td>\n",
       "      <td>Apply product for 30 minutes with a plastic cap</td>\n",
       "    </tr>\n",
       "    <tr>\n",
       "      <th>...</th>\n",
       "      <td>...</td>\n",
       "      <td>...</td>\n",
       "    </tr>\n",
       "    <tr>\n",
       "      <th>69</th>\n",
       "      <td>the puppet is of high-quality and durable</td>\n",
       "      <td>Excellent quality for the price</td>\n",
       "    </tr>\n",
       "    <tr>\n",
       "      <th>70</th>\n",
       "      <td>the puppet is of high-quality and durable</td>\n",
       "      <td>Loved by children</td>\n",
       "    </tr>\n",
       "    <tr>\n",
       "      <th>71</th>\n",
       "      <td>the puppet is of high-quality and durable</td>\n",
       "      <td>Very good quality</td>\n",
       "    </tr>\n",
       "    <tr>\n",
       "      <th>72</th>\n",
       "      <td>the game allows the use of Wii mote only</td>\n",
       "      <td>Game supports multiple controller options incl...</td>\n",
       "    </tr>\n",
       "    <tr>\n",
       "      <th>73</th>\n",
       "      <td>the 3DS is backwards compatible with DS games</td>\n",
       "      <td>Backwards compatible with original DS games</td>\n",
       "    </tr>\n",
       "  </tbody>\n",
       "</table>\n",
       "<p>74 rows × 2 columns</p>\n",
       "</div>"
      ],
      "text/plain": [
       "                                            candidate  \\\n",
       "0                     using a detailer as a lubricant   \n",
       "1                     using a detailer as a lubricant   \n",
       "2                     using a detailer as a lubricant   \n",
       "3                     using a detailer as a lubricant   \n",
       "4   using a moisturizing conditioner after the pro...   \n",
       "..                                                ...   \n",
       "69          the puppet is of high-quality and durable   \n",
       "70          the puppet is of high-quality and durable   \n",
       "71          the puppet is of high-quality and durable   \n",
       "72           the game allows the use of Wii mote only   \n",
       "73      the 3DS is backwards compatible with DS games   \n",
       "\n",
       "                                            reference  \n",
       "0   A blend of Windex and Dawn can be used as a lu...  \n",
       "1           A lubricant is necessary when using clay.  \n",
       "2   Soap and water provide sufficient lubricity fo...  \n",
       "3           Water alone can also work as a lubricant.  \n",
       "4     Apply product for 30 minutes with a plastic cap  \n",
       "..                                                ...  \n",
       "69                    Excellent quality for the price  \n",
       "70                                  Loved by children  \n",
       "71                                  Very good quality  \n",
       "72  Game supports multiple controller options incl...  \n",
       "73        Backwards compatible with original DS games  \n",
       "\n",
       "[74 rows x 2 columns]"
      ]
     },
     "execution_count": 52,
     "metadata": {},
     "output_type": "execute_result"
    }
   ],
   "source": [
    "softp_data = merged_df.sort_values(by=['category', 'asin', 'id', 'query', 'key_point'])\n",
    "df_compare_precision = softp_data[['key_point', 'key_point_given']].rename(columns={'key_point': 'candidate', 'key_point_given': 'reference'})\n",
    "df_compare_precision"
   ]
  },
  {
   "cell_type": "code",
   "execution_count": 53,
   "id": "b6b7a8a3",
   "metadata": {
    "id": "Z1zLYKjRe3SW"
   },
   "outputs": [],
   "source": [
    "candidates = df_compare_precision['candidate']\n",
    "references = df_compare_precision['reference']"
   ]
  },
  {
   "cell_type": "code",
   "execution_count": 54,
   "id": "3095bdfb",
   "metadata": {
    "id": "QVexlsL6mN4Y"
   },
   "outputs": [],
   "source": [
    "import tensorflow as tf"
   ]
  },
  {
   "cell_type": "code",
   "execution_count": 55,
   "id": "7cee38ae",
   "metadata": {
    "colab": {
     "base_uri": "https://localhost:8080/"
    },
    "id": "mmVAbBVfmQjW",
    "outputId": "1a716874-3571-4544-9364-ea48625ff08c"
   },
   "outputs": [
    {
     "name": "stdout",
     "output_type": "stream",
     "text": [
      "Num GPUs Available:  1\n"
     ]
    }
   ],
   "source": [
    "print(\"Num GPUs Available: \", len(tf.config.list_physical_devices('GPU')))"
   ]
  },
  {
   "cell_type": "code",
   "execution_count": 56,
   "id": "6848fd7f",
   "metadata": {
    "colab": {
     "base_uri": "https://localhost:8080/"
    },
    "id": "i4jdGVuOmNuA",
    "outputId": "eedfb583-279a-497a-e67e-353a8b4fd185"
   },
   "outputs": [
    {
     "name": "stdout",
     "output_type": "stream",
     "text": [
      "[name: \"/device:CPU:0\"\n",
      "device_type: \"CPU\"\n",
      "memory_limit: 268435456\n",
      "locality {\n",
      "}\n",
      "incarnation: 9377821508395099655\n",
      "xla_global_id: -1\n",
      ", name: \"/device:GPU:0\"\n",
      "device_type: \"GPU\"\n",
      "memory_limit: 19566428160\n",
      "locality {\n",
      "  bus_id: 1\n",
      "  links {\n",
      "  }\n",
      "}\n",
      "incarnation: 16850509119386918036\n",
      "physical_device_desc: \"device: 0, name: NVIDIA GeForce RTX 4090, pci bus id: 0000:01:00.0, compute capability: 8.9\"\n",
      "xla_global_id: 416903419\n",
      "]\n"
     ]
    },
    {
     "name": "stderr",
     "output_type": "stream",
     "text": [
      "2025-02-22 02:34:03.232231: I external/local_xla/xla/stream_executor/cuda/cuda_executor.cc:887] could not open file to read NUMA node: /sys/bus/pci/devices/0000:01:00.0/numa_node\n",
      "Your kernel may have been built without NUMA support.\n",
      "2025-02-22 02:34:03.232829: I external/local_xla/xla/stream_executor/cuda/cuda_executor.cc:887] could not open file to read NUMA node: /sys/bus/pci/devices/0000:01:00.0/numa_node\n",
      "Your kernel may have been built without NUMA support.\n",
      "2025-02-22 02:34:03.233332: I external/local_xla/xla/stream_executor/cuda/cuda_executor.cc:887] could not open file to read NUMA node: /sys/bus/pci/devices/0000:01:00.0/numa_node\n",
      "Your kernel may have been built without NUMA support.\n",
      "2025-02-22 02:34:03.234090: I external/local_xla/xla/stream_executor/cuda/cuda_executor.cc:887] could not open file to read NUMA node: /sys/bus/pci/devices/0000:01:00.0/numa_node\n",
      "Your kernel may have been built without NUMA support.\n",
      "2025-02-22 02:34:03.234103: I tensorflow/core/common_runtime/gpu/gpu_device.cc:2022] Could not identify NUMA node of platform GPU id 0, defaulting to 0.  Your kernel may not have been built with NUMA support.\n",
      "2025-02-22 02:34:03.234431: I external/local_xla/xla/stream_executor/cuda/cuda_executor.cc:887] could not open file to read NUMA node: /sys/bus/pci/devices/0000:01:00.0/numa_node\n",
      "Your kernel may have been built without NUMA support.\n",
      "2025-02-22 02:34:03.234453: I tensorflow/core/common_runtime/gpu/gpu_device.cc:1929] Created device /device:GPU:0 with 18660 MB memory:  -> device: 0, name: NVIDIA GeForce RTX 4090, pci bus id: 0000:01:00.0, compute capability: 8.9\n"
     ]
    }
   ],
   "source": [
    "from tensorflow.python.client import device_lib\n",
    "print(device_lib.list_local_devices())"
   ]
  },
  {
   "cell_type": "code",
   "execution_count": 57,
   "id": "c37d207e",
   "metadata": {
    "id": "yxZzGXfemnxF"
   },
   "outputs": [
    {
     "name": "stdout",
     "output_type": "stream",
     "text": [
      "INFO:tensorflow:Reading checkpoint /mnt/d/Desktop/PHD READING/QQSUMM/evaluation/KeyPoint-Analysis/KPG/BLEURT-20.\n",
      "INFO:tensorflow:Config file found, reading.\n",
      "INFO:tensorflow:Will load checkpoint BLEURT-20\n",
      "INFO:tensorflow:Loads full paths and checks that files exists.\n",
      "INFO:tensorflow:... name:BLEURT-20\n",
      "INFO:tensorflow:... bert_config_file:bert_config.json\n",
      "INFO:tensorflow:... max_seq_length:512\n",
      "INFO:tensorflow:... vocab_file:None\n",
      "INFO:tensorflow:... do_lower_case:None\n",
      "INFO:tensorflow:... sp_model:sent_piece\n",
      "INFO:tensorflow:... dynamic_seq_length:True\n",
      "INFO:tensorflow:Creating BLEURT scorer.\n",
      "INFO:tensorflow:Creating SentencePiece tokenizer.\n",
      "INFO:tensorflow:Creating SentencePiece tokenizer.\n",
      "INFO:tensorflow:Will load model: /mnt/d/Desktop/PHD READING/QQSUMM/evaluation/KeyPoint-Analysis/KPG/BLEURT-20/sent_piece.model.\n",
      "INFO:tensorflow:SentencePiece tokenizer created.\n",
      "INFO:tensorflow:Creating Eager Mode predictor.\n",
      "INFO:tensorflow:Loading model.\n"
     ]
    },
    {
     "name": "stderr",
     "output_type": "stream",
     "text": [
      "2025-02-22 02:34:05.713791: I external/local_xla/xla/stream_executor/cuda/cuda_executor.cc:887] could not open file to read NUMA node: /sys/bus/pci/devices/0000:01:00.0/numa_node\n",
      "Your kernel may have been built without NUMA support.\n",
      "2025-02-22 02:34:05.714179: I external/local_xla/xla/stream_executor/cuda/cuda_executor.cc:887] could not open file to read NUMA node: /sys/bus/pci/devices/0000:01:00.0/numa_node\n",
      "Your kernel may have been built without NUMA support.\n",
      "2025-02-22 02:34:05.714448: I external/local_xla/xla/stream_executor/cuda/cuda_executor.cc:887] could not open file to read NUMA node: /sys/bus/pci/devices/0000:01:00.0/numa_node\n",
      "Your kernel may have been built without NUMA support.\n",
      "2025-02-22 02:34:05.714851: I external/local_xla/xla/stream_executor/cuda/cuda_executor.cc:887] could not open file to read NUMA node: /sys/bus/pci/devices/0000:01:00.0/numa_node\n",
      "Your kernel may have been built without NUMA support.\n",
      "2025-02-22 02:34:05.714862: I tensorflow/core/common_runtime/gpu/gpu_device.cc:2022] Could not identify NUMA node of platform GPU id 0, defaulting to 0.  Your kernel may not have been built with NUMA support.\n",
      "2025-02-22 02:34:05.715073: I external/local_xla/xla/stream_executor/cuda/cuda_executor.cc:887] could not open file to read NUMA node: /sys/bus/pci/devices/0000:01:00.0/numa_node\n",
      "Your kernel may have been built without NUMA support.\n",
      "2025-02-22 02:34:05.715094: I tensorflow/core/common_runtime/gpu/gpu_device.cc:1929] Created device /job:localhost/replica:0/task:0/device:GPU:0 with 18660 MB memory:  -> device: 0, name: NVIDIA GeForce RTX 4090, pci bus id: 0000:01:00.0, compute capability: 8.9\n"
     ]
    },
    {
     "name": "stdout",
     "output_type": "stream",
     "text": [
      "INFO:tensorflow:BLEURT initialized.\n"
     ]
    },
    {
     "name": "stderr",
     "output_type": "stream",
     "text": [
      "INFO:tensorflow:BLEURT initialized.\n"
     ]
    }
   ],
   "source": [
    "result = calculatingScore(references, candidates)\n",
    "df_compare_precision[\"BLEURT Score\"] = result\n",
    "\n",
    "#After calculating the semantic quality of all candidates and reference pairs, the one with the highest score is selected as the correct pair.\n",
    "df_bestkp_pair_precision = df_compare_precision.loc[df_compare_precision.groupby([\"candidate\"])[\"BLEURT Score\"].idxmax()]\n",
    "#take average of all best scores as the soft precision score.\n",
    "P_average = df_bestkp_pair_precision[\"BLEURT Score\"].mean()"
   ]
  },
  {
   "cell_type": "code",
   "execution_count": 58,
   "id": "a2bf5eea",
   "metadata": {},
   "outputs": [
    {
     "data": {
      "text/plain": [
       "0.5045840508408017"
      ]
     },
     "execution_count": 58,
     "metadata": {},
     "output_type": "execute_result"
    }
   ],
   "source": [
    "P_average"
   ]
  },
  {
   "cell_type": "markdown",
   "id": "52aabb0e-28dd-41d5-94c3-234963458634",
   "metadata": {},
   "source": [
    "### SoftRecall"
   ]
  },
  {
   "cell_type": "code",
   "execution_count": 59,
   "id": "eacca940-abf6-43d9-8614-1e4df2d1586a",
   "metadata": {
    "colab": {
     "base_uri": "https://localhost:8080/",
     "height": 597
    },
    "id": "QBkx3UKpdpDn",
    "outputId": "143a7380-c824-42ac-c315-299a6cc924a0"
   },
   "outputs": [
    {
     "data": {
      "text/html": [
       "<div>\n",
       "<style scoped>\n",
       "    .dataframe tbody tr th:only-of-type {\n",
       "        vertical-align: middle;\n",
       "    }\n",
       "\n",
       "    .dataframe tbody tr th {\n",
       "        vertical-align: top;\n",
       "    }\n",
       "\n",
       "    .dataframe thead th {\n",
       "        text-align: right;\n",
       "    }\n",
       "</style>\n",
       "<table border=\"1\" class=\"dataframe\">\n",
       "  <thead>\n",
       "    <tr style=\"text-align: right;\">\n",
       "      <th></th>\n",
       "      <th>reference</th>\n",
       "      <th>candidate</th>\n",
       "    </tr>\n",
       "  </thead>\n",
       "  <tbody>\n",
       "    <tr>\n",
       "      <th>0</th>\n",
       "      <td>using a detailer as a lubricant</td>\n",
       "      <td>A blend of Windex and Dawn can be used as a lu...</td>\n",
       "    </tr>\n",
       "    <tr>\n",
       "      <th>1</th>\n",
       "      <td>using a detailer as a lubricant</td>\n",
       "      <td>A lubricant is necessary when using clay.</td>\n",
       "    </tr>\n",
       "    <tr>\n",
       "      <th>2</th>\n",
       "      <td>using a detailer as a lubricant</td>\n",
       "      <td>Soap and water provide sufficient lubricity fo...</td>\n",
       "    </tr>\n",
       "    <tr>\n",
       "      <th>3</th>\n",
       "      <td>using a detailer as a lubricant</td>\n",
       "      <td>Water alone can also work as a lubricant.</td>\n",
       "    </tr>\n",
       "    <tr>\n",
       "      <th>4</th>\n",
       "      <td>using a moisturizing conditioner after the pro...</td>\n",
       "      <td>Apply product for 30 minutes with a plastic cap</td>\n",
       "    </tr>\n",
       "    <tr>\n",
       "      <th>...</th>\n",
       "      <td>...</td>\n",
       "      <td>...</td>\n",
       "    </tr>\n",
       "    <tr>\n",
       "      <th>69</th>\n",
       "      <td>the puppet is of high-quality and durable</td>\n",
       "      <td>Excellent quality for the price</td>\n",
       "    </tr>\n",
       "    <tr>\n",
       "      <th>70</th>\n",
       "      <td>the puppet is of high-quality and durable</td>\n",
       "      <td>Loved by children</td>\n",
       "    </tr>\n",
       "    <tr>\n",
       "      <th>71</th>\n",
       "      <td>the puppet is of high-quality and durable</td>\n",
       "      <td>Very good quality</td>\n",
       "    </tr>\n",
       "    <tr>\n",
       "      <th>72</th>\n",
       "      <td>the game allows the use of Wii mote only</td>\n",
       "      <td>Game supports multiple controller options incl...</td>\n",
       "    </tr>\n",
       "    <tr>\n",
       "      <th>73</th>\n",
       "      <td>the 3DS is backwards compatible with DS games</td>\n",
       "      <td>Backwards compatible with original DS games</td>\n",
       "    </tr>\n",
       "  </tbody>\n",
       "</table>\n",
       "<p>74 rows × 2 columns</p>\n",
       "</div>"
      ],
      "text/plain": [
       "                                            reference  \\\n",
       "0                     using a detailer as a lubricant   \n",
       "1                     using a detailer as a lubricant   \n",
       "2                     using a detailer as a lubricant   \n",
       "3                     using a detailer as a lubricant   \n",
       "4   using a moisturizing conditioner after the pro...   \n",
       "..                                                ...   \n",
       "69          the puppet is of high-quality and durable   \n",
       "70          the puppet is of high-quality and durable   \n",
       "71          the puppet is of high-quality and durable   \n",
       "72           the game allows the use of Wii mote only   \n",
       "73      the 3DS is backwards compatible with DS games   \n",
       "\n",
       "                                            candidate  \n",
       "0   A blend of Windex and Dawn can be used as a lu...  \n",
       "1           A lubricant is necessary when using clay.  \n",
       "2   Soap and water provide sufficient lubricity fo...  \n",
       "3           Water alone can also work as a lubricant.  \n",
       "4     Apply product for 30 minutes with a plastic cap  \n",
       "..                                                ...  \n",
       "69                    Excellent quality for the price  \n",
       "70                                  Loved by children  \n",
       "71                                  Very good quality  \n",
       "72  Game supports multiple controller options incl...  \n",
       "73        Backwards compatible with original DS games  \n",
       "\n",
       "[74 rows x 2 columns]"
      ]
     },
     "execution_count": 59,
     "metadata": {},
     "output_type": "execute_result"
    }
   ],
   "source": [
    "softr_data = merged_df.sort_values(by=['category', 'asin', 'id', 'query', 'key_point_given'])\n",
    "df_compare_recall = softp_data[['key_point', 'key_point_given']].rename(columns={'key_point_given': 'candidate', 'key_point': 'reference'})\n",
    "df_compare_recall"
   ]
  },
  {
   "cell_type": "code",
   "execution_count": 60,
   "id": "321e3c0a-87c0-4804-9086-561b48081460",
   "metadata": {
    "id": "Z1zLYKjRe3SW"
   },
   "outputs": [],
   "source": [
    "candidates = df_compare_recall['candidate']\n",
    "references = df_compare_recall['reference']"
   ]
  },
  {
   "cell_type": "code",
   "execution_count": 61,
   "id": "67af2312-be91-4d43-ae07-65ed23e51d32",
   "metadata": {
    "id": "QVexlsL6mN4Y"
   },
   "outputs": [],
   "source": [
    "import tensorflow as tf"
   ]
  },
  {
   "cell_type": "code",
   "execution_count": 62,
   "id": "24ff446a-e5e5-4d18-b7b4-3abd119a899c",
   "metadata": {
    "colab": {
     "base_uri": "https://localhost:8080/"
    },
    "id": "mmVAbBVfmQjW",
    "outputId": "1a716874-3571-4544-9364-ea48625ff08c"
   },
   "outputs": [
    {
     "name": "stdout",
     "output_type": "stream",
     "text": [
      "Num GPUs Available:  1\n"
     ]
    }
   ],
   "source": [
    "print(\"Num GPUs Available: \", len(tf.config.list_physical_devices('GPU')))"
   ]
  },
  {
   "cell_type": "code",
   "execution_count": 63,
   "id": "5c9172b3-c5f9-436f-b110-1ea7b2f2d734",
   "metadata": {
    "colab": {
     "base_uri": "https://localhost:8080/"
    },
    "id": "i4jdGVuOmNuA",
    "outputId": "eedfb583-279a-497a-e67e-353a8b4fd185"
   },
   "outputs": [
    {
     "name": "stdout",
     "output_type": "stream",
     "text": [
      "[name: \"/device:CPU:0\"\n",
      "device_type: \"CPU\"\n",
      "memory_limit: 268435456\n",
      "locality {\n",
      "}\n",
      "incarnation: 11561897595893079543\n",
      "xla_global_id: -1\n",
      ", name: \"/device:GPU:0\"\n",
      "device_type: \"GPU\"\n",
      "memory_limit: 19566428160\n",
      "locality {\n",
      "  bus_id: 1\n",
      "  links {\n",
      "  }\n",
      "}\n",
      "incarnation: 2268529874114870919\n",
      "physical_device_desc: \"device: 0, name: NVIDIA GeForce RTX 4090, pci bus id: 0000:01:00.0, compute capability: 8.9\"\n",
      "xla_global_id: 416903419\n",
      "]\n"
     ]
    },
    {
     "name": "stderr",
     "output_type": "stream",
     "text": [
      "2025-02-22 02:34:22.376180: I external/local_xla/xla/stream_executor/cuda/cuda_executor.cc:887] could not open file to read NUMA node: /sys/bus/pci/devices/0000:01:00.0/numa_node\n",
      "Your kernel may have been built without NUMA support.\n",
      "2025-02-22 02:34:22.376605: I external/local_xla/xla/stream_executor/cuda/cuda_executor.cc:887] could not open file to read NUMA node: /sys/bus/pci/devices/0000:01:00.0/numa_node\n",
      "Your kernel may have been built without NUMA support.\n",
      "2025-02-22 02:34:22.376769: I external/local_xla/xla/stream_executor/cuda/cuda_executor.cc:887] could not open file to read NUMA node: /sys/bus/pci/devices/0000:01:00.0/numa_node\n",
      "Your kernel may have been built without NUMA support.\n",
      "2025-02-22 02:34:22.377159: I external/local_xla/xla/stream_executor/cuda/cuda_executor.cc:887] could not open file to read NUMA node: /sys/bus/pci/devices/0000:01:00.0/numa_node\n",
      "Your kernel may have been built without NUMA support.\n",
      "2025-02-22 02:34:22.377171: I tensorflow/core/common_runtime/gpu/gpu_device.cc:2022] Could not identify NUMA node of platform GPU id 0, defaulting to 0.  Your kernel may not have been built with NUMA support.\n",
      "2025-02-22 02:34:22.377318: I external/local_xla/xla/stream_executor/cuda/cuda_executor.cc:887] could not open file to read NUMA node: /sys/bus/pci/devices/0000:01:00.0/numa_node\n",
      "Your kernel may have been built without NUMA support.\n",
      "2025-02-22 02:34:22.377341: I tensorflow/core/common_runtime/gpu/gpu_device.cc:1929] Created device /device:GPU:0 with 18660 MB memory:  -> device: 0, name: NVIDIA GeForce RTX 4090, pci bus id: 0000:01:00.0, compute capability: 8.9\n"
     ]
    }
   ],
   "source": [
    "from tensorflow.python.client import device_lib\n",
    "print(device_lib.list_local_devices())"
   ]
  },
  {
   "cell_type": "code",
   "execution_count": 64,
   "id": "e03cfdb1-3f1b-42ac-ba19-cfb48de9c0fe",
   "metadata": {
    "id": "yxZzGXfemnxF",
    "scrolled": true
   },
   "outputs": [
    {
     "name": "stdout",
     "output_type": "stream",
     "text": [
      "INFO:tensorflow:Reading checkpoint /mnt/d/Desktop/PHD READING/QQSUMM/evaluation/KeyPoint-Analysis/KPG/BLEURT-20.\n"
     ]
    },
    {
     "name": "stderr",
     "output_type": "stream",
     "text": [
      "INFO:tensorflow:Reading checkpoint /mnt/d/Desktop/PHD READING/QQSUMM/evaluation/KeyPoint-Analysis/KPG/BLEURT-20.\n"
     ]
    },
    {
     "name": "stdout",
     "output_type": "stream",
     "text": [
      "INFO:tensorflow:Config file found, reading.\n"
     ]
    },
    {
     "name": "stderr",
     "output_type": "stream",
     "text": [
      "INFO:tensorflow:Config file found, reading.\n"
     ]
    },
    {
     "name": "stdout",
     "output_type": "stream",
     "text": [
      "INFO:tensorflow:Will load checkpoint BLEURT-20\n"
     ]
    },
    {
     "name": "stderr",
     "output_type": "stream",
     "text": [
      "INFO:tensorflow:Will load checkpoint BLEURT-20\n"
     ]
    },
    {
     "name": "stdout",
     "output_type": "stream",
     "text": [
      "INFO:tensorflow:Loads full paths and checks that files exists.\n"
     ]
    },
    {
     "name": "stderr",
     "output_type": "stream",
     "text": [
      "INFO:tensorflow:Loads full paths and checks that files exists.\n"
     ]
    },
    {
     "name": "stdout",
     "output_type": "stream",
     "text": [
      "INFO:tensorflow:... name:BLEURT-20\n"
     ]
    },
    {
     "name": "stderr",
     "output_type": "stream",
     "text": [
      "INFO:tensorflow:... name:BLEURT-20\n"
     ]
    },
    {
     "name": "stdout",
     "output_type": "stream",
     "text": [
      "INFO:tensorflow:... bert_config_file:bert_config.json\n"
     ]
    },
    {
     "name": "stderr",
     "output_type": "stream",
     "text": [
      "INFO:tensorflow:... bert_config_file:bert_config.json\n"
     ]
    },
    {
     "name": "stdout",
     "output_type": "stream",
     "text": [
      "INFO:tensorflow:... max_seq_length:512\n"
     ]
    },
    {
     "name": "stderr",
     "output_type": "stream",
     "text": [
      "INFO:tensorflow:... max_seq_length:512\n"
     ]
    },
    {
     "name": "stdout",
     "output_type": "stream",
     "text": [
      "INFO:tensorflow:... vocab_file:None\n"
     ]
    },
    {
     "name": "stderr",
     "output_type": "stream",
     "text": [
      "INFO:tensorflow:... vocab_file:None\n"
     ]
    },
    {
     "name": "stdout",
     "output_type": "stream",
     "text": [
      "INFO:tensorflow:... do_lower_case:None\n"
     ]
    },
    {
     "name": "stderr",
     "output_type": "stream",
     "text": [
      "INFO:tensorflow:... do_lower_case:None\n"
     ]
    },
    {
     "name": "stdout",
     "output_type": "stream",
     "text": [
      "INFO:tensorflow:... sp_model:sent_piece\n"
     ]
    },
    {
     "name": "stderr",
     "output_type": "stream",
     "text": [
      "INFO:tensorflow:... sp_model:sent_piece\n"
     ]
    },
    {
     "name": "stdout",
     "output_type": "stream",
     "text": [
      "INFO:tensorflow:... dynamic_seq_length:True\n"
     ]
    },
    {
     "name": "stderr",
     "output_type": "stream",
     "text": [
      "INFO:tensorflow:... dynamic_seq_length:True\n"
     ]
    },
    {
     "name": "stdout",
     "output_type": "stream",
     "text": [
      "INFO:tensorflow:Creating BLEURT scorer.\n"
     ]
    },
    {
     "name": "stderr",
     "output_type": "stream",
     "text": [
      "INFO:tensorflow:Creating BLEURT scorer.\n"
     ]
    },
    {
     "name": "stdout",
     "output_type": "stream",
     "text": [
      "INFO:tensorflow:Creating SentencePiece tokenizer.\n"
     ]
    },
    {
     "name": "stderr",
     "output_type": "stream",
     "text": [
      "INFO:tensorflow:Creating SentencePiece tokenizer.\n"
     ]
    },
    {
     "name": "stdout",
     "output_type": "stream",
     "text": [
      "INFO:tensorflow:Creating SentencePiece tokenizer.\n"
     ]
    },
    {
     "name": "stderr",
     "output_type": "stream",
     "text": [
      "INFO:tensorflow:Creating SentencePiece tokenizer.\n"
     ]
    },
    {
     "name": "stdout",
     "output_type": "stream",
     "text": [
      "INFO:tensorflow:Will load model: /mnt/d/Desktop/PHD READING/QQSUMM/evaluation/KeyPoint-Analysis/KPG/BLEURT-20/sent_piece.model.\n"
     ]
    },
    {
     "name": "stderr",
     "output_type": "stream",
     "text": [
      "INFO:tensorflow:Will load model: /mnt/d/Desktop/PHD READING/QQSUMM/evaluation/KeyPoint-Analysis/KPG/BLEURT-20/sent_piece.model.\n"
     ]
    },
    {
     "name": "stdout",
     "output_type": "stream",
     "text": [
      "INFO:tensorflow:SentencePiece tokenizer created.\n"
     ]
    },
    {
     "name": "stderr",
     "output_type": "stream",
     "text": [
      "INFO:tensorflow:SentencePiece tokenizer created.\n"
     ]
    },
    {
     "name": "stdout",
     "output_type": "stream",
     "text": [
      "INFO:tensorflow:Creating Eager Mode predictor.\n"
     ]
    },
    {
     "name": "stderr",
     "output_type": "stream",
     "text": [
      "INFO:tensorflow:Creating Eager Mode predictor.\n"
     ]
    },
    {
     "name": "stdout",
     "output_type": "stream",
     "text": [
      "INFO:tensorflow:Loading model.\n"
     ]
    },
    {
     "name": "stderr",
     "output_type": "stream",
     "text": [
      "INFO:tensorflow:Loading model.\n"
     ]
    },
    {
     "name": "stdout",
     "output_type": "stream",
     "text": [
      "INFO:tensorflow:BLEURT initialized.\n"
     ]
    },
    {
     "name": "stderr",
     "output_type": "stream",
     "text": [
      "INFO:tensorflow:BLEURT initialized.\n"
     ]
    }
   ],
   "source": [
    "result = calculatingScore(references, candidates)\n",
    "df_compare_recall[\"BLEURT Score\"] = result\n",
    "\n",
    "#After calculating the semantic quality of all candidates and reference pairs, the one with the highest score is selected as the correct pair. \n",
    "df_bestkp_pair_recall = df_compare_recall.loc[df_compare_recall.groupby([\"candidate\"])[\"BLEURT Score\"].idxmax()]\n",
    "\n",
    "#take average of all best scores as the soft precision score.\n",
    "R_average = df_bestkp_pair_recall[\"BLEURT Score\"].mean()"
   ]
  },
  {
   "cell_type": "code",
   "execution_count": 65,
   "id": "9f20daf6",
   "metadata": {
    "scrolled": true
   },
   "outputs": [
    {
     "data": {
      "text/plain": [
       "0.4138677236624062"
      ]
     },
     "execution_count": 65,
     "metadata": {},
     "output_type": "execute_result"
    }
   ],
   "source": [
    "R_average"
   ]
  },
  {
   "cell_type": "markdown",
   "id": "52cb9801-8a0c-4a01-a826-ccf29d4b9dc0",
   "metadata": {},
   "source": [
    "### F1"
   ]
  },
  {
   "cell_type": "code",
   "execution_count": 66,
   "id": "1d708b7d-c6bf-4a39-aadc-ba1951e4ca85",
   "metadata": {},
   "outputs": [],
   "source": [
    "result = softF1(P_average, R_average)"
   ]
  },
  {
   "cell_type": "code",
   "execution_count": 67,
   "id": "5bbd7661",
   "metadata": {},
   "outputs": [
    {
     "data": {
      "text/plain": [
       "0.45474581968290173"
      ]
     },
     "execution_count": 67,
     "metadata": {},
     "output_type": "execute_result"
    }
   ],
   "source": [
    "result"
   ]
  },
  {
   "cell_type": "markdown",
   "id": "b3ed85dd",
   "metadata": {},
   "source": [
    "## ROUGE"
   ]
  },
  {
   "cell_type": "code",
   "execution_count": 68,
   "id": "261bd668",
   "metadata": {},
   "outputs": [],
   "source": [
    "gt_gold_kp = merged_df"
   ]
  },
  {
   "cell_type": "code",
   "execution_count": 69,
   "id": "4b6c102f",
   "metadata": {},
   "outputs": [],
   "source": [
    "predictions, references = [], []\n",
    "for topic in sorted(gt_gold_kp['id'].unique()):\n",
    "    kps = gt_gold_kp.loc[(gt_gold_kp['id']==topic), 'key_point'].unique().tolist()\n",
    "    gold_kps = gt_gold_kp.loc[(gt_gold_kp['id']==topic), 'key_point_given'].unique().tolist()\n",
    "    if len(kps) > 0 and len(gold_kps) > 0:\n",
    "        predictions.append(kps)\n",
    "        references.append(gold_kps)"
   ]
  },
  {
   "cell_type": "code",
   "execution_count": 70,
   "id": "5778650b",
   "metadata": {},
   "outputs": [
    {
     "name": "stdout",
     "output_type": "stream",
     "text": [
      "Rouge 1: 0.256\n",
      "Rouge 2: 0.061\n",
      "Rouge L: 0.22\n"
     ]
    }
   ],
   "source": [
    "compute_rouge(predictions, references)"
   ]
  },
  {
   "cell_type": "code",
   "execution_count": null,
   "id": "faf771cd",
   "metadata": {},
   "outputs": [],
   "source": []
  }
 ],
 "metadata": {
  "kernelspec": {
   "display_name": "Python 3 (ipykernel)",
   "language": "python",
   "name": "python3"
  },
  "language_info": {
   "codemirror_mode": {
    "name": "ipython",
    "version": 3
   },
   "file_extension": ".py",
   "mimetype": "text/x-python",
   "name": "python",
   "nbconvert_exporter": "python",
   "pygments_lexer": "ipython3",
   "version": "3.9.18"
  },
  "toc": {
   "base_numbering": 1,
   "nav_menu": {},
   "number_sections": true,
   "sideBar": true,
   "skip_h1_title": false,
   "title_cell": "Table of Contents",
   "title_sidebar": "Contents",
   "toc_cell": false,
   "toc_position": {
    "height": "calc(100% - 180px)",
    "left": "10px",
    "top": "150px",
    "width": "372.325px"
   },
   "toc_section_display": true,
   "toc_window_display": true
  }
 },
 "nbformat": 4,
 "nbformat_minor": 5
}
